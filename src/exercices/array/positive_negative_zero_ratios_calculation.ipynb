{
 "cells": [
  {
   "cell_type": "markdown",
   "id": "43681919",
   "metadata": {},
   "source": [
    "## 🎯 String Exercise: Character Type Ratios\n",
    "\n",
    "**Problem**: Given a string, calculate the ratios of its characters that are:\n",
    "- **Letters** (alphabetic characters)\n",
    "- **Digits** (numeric characters) \n",
    "- **Special characters** (everything else: spaces, punctuation, symbols)\n",
    "\n",
    "Print the decimal value of each fraction on a new line with 6 places after the decimal.\n",
    "\n",
    "**Example:**\n",
    "```\n",
    "input_string = \"Hello123!@# World456\"\n",
    "```\n",
    "\n",
    "There are n = 19 characters: 10 letters, 6 digits, and 3 special characters.\n",
    "- Letters ratio: 10/19 = 0.526316\n",
    "- Digits ratio: 6/19 = 0.315789  \n",
    "- Special ratio: 3/19 = 0.157895\n",
    "\n",
    "**Your Task**: Complete the `character_ratios` function below."
   ]
  },
  {
   "cell_type": "code",
   "execution_count": 1,
   "id": "b14f34e5",
   "metadata": {},
   "outputs": [
    {
     "name": "stdout",
     "output_type": "stream",
     "text": [
      "['0.500000', '0.333333', '0.166667']\n",
      "🎉 Congratulations, you coded it right! 😎\n"
     ]
    }
   ],
   "source": [
    "\n",
    "#\n",
    "# Complete the 'plusMinus' function below.\n",
    "#\n",
    "# The function accepts INTEGER_ARRAY arr as parameter.\n",
    "#\n",
    "\n",
    "\"\"\"\n",
    "arr = [1,1,0,-1,-1]\n",
    "n = 5, because we have 5 elements\n",
    "\n",
    "order: positive, negative and zero\n",
    "\n",
    "always 3 outputs for each category\n",
    "\"\"\"\n",
    "\n",
    "def plusMinus(arr):\n",
    "    n = len(arr)\n",
    "    positives = sum(1 for i in range(n) if arr[i] > 0)\n",
    "    negatives = sum(1 for i in range(n) if arr[i] < 0)\n",
    "    zeros = sum(1 for i in range(n) if arr[i] == 0)\n",
    "    \n",
    "    return [f\"{positives/n:.6f}\",f\"{negatives/n:.6f}\",f\"{zeros/n:.6f}\"]\n",
    "\n",
    "#Code checker\n",
    "arr = [-4, 3, -9, 0, 4, 1]\n",
    "result = plusMinus(arr)\n",
    "print(result)\n",
    "expected = ['0.500000','0.333333','0.166667']\n",
    "passed = True\n",
    "for index, val in enumerate(expected):\n",
    "    if val != result[index]:\n",
    "        passed = False\n",
    "\n",
    "if passed:\n",
    "    print(\"🎉 Congratulations, you coded it right! 😎\")\n",
    "else:\n",
    "    print(\"🤔 Oops! Something went wrong… Try again! ❌\")\n",
    "\n",
    "    "
   ]
  },
  {
   "cell_type": "code",
   "execution_count": null,
   "id": "bf1d13fd",
   "metadata": {},
   "outputs": [
    {
     "name": "stdout",
     "output_type": "stream",
     "text": [
      "['0.500000', '0.333333', '0.166667']\n",
      "🎉 Congratulations, you coded it right! 😎\n"
     ]
    }
   ],
   "source": [
    "#Optimal solution insted iterate 3x 3n we can achive it in a single loop\n",
    "def plusMinus(arr):\n",
    "    positives = negatives = zeros = 0\n",
    "    n = len(arr)\n",
    "    for num in arr:\n",
    "        if num > 0:\n",
    "            positives += 1\n",
    "        elif num < 0:\n",
    "            negatives += 1\n",
    "        else:\n",
    "            zeros += 1\n",
    "    return [f\"{positives/n:.6f}\",f\"{negatives/n:.6f}\",f\"{zeros/n:.6f}\"]\n",
    "        \n",
    "#Code checker\n",
    "arr = [-4, 3, -9, 0, 4, 1]\n",
    "result = plusMinus(arr)\n",
    "print(result)\n",
    "expected = ['0.500000','0.333333','0.166667']\n",
    "passed = True\n",
    "for index, val in enumerate(expected):\n",
    "    if val != result[index]:\n",
    "        passed = False\n",
    "\n",
    "if passed:\n",
    "    print(\"🎉 Congratulations, you coded it right! 😎\")\n",
    "else:\n",
    "    print(\"🤔 Oops! Something went wrong… Try again! ❌\")    "
   ]
  }
 ],
 "metadata": {
  "kernelspec": {
   "display_name": "Python 3",
   "language": "python",
   "name": "python3"
  },
  "language_info": {
   "codemirror_mode": {
    "name": "ipython",
    "version": 3
   },
   "file_extension": ".py",
   "mimetype": "text/x-python",
   "name": "python",
   "nbconvert_exporter": "python",
   "pygments_lexer": "ipython3",
   "version": "3.10.12"
  }
 },
 "nbformat": 4,
 "nbformat_minor": 5
}
