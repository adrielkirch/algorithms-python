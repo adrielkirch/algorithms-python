{
 "cells": [
  {
   "cell_type": "markdown",
   "id": "5cbbd0f6",
   "metadata": {},
   "source": [
    "Given an integer array nums, return all the triplets [nums[i], nums[j], nums[k]] such that i != j, i != k, and j != k, and nums[i] + nums[j] + nums[k] == 0.\n",
    "\n",
    "Notice that the solution set must not contain duplicate triplets.\n",
    "\n",
    " \n",
    "\n",
    "Example 1:\n",
    "\n",
    "Input: nums = [-1,0,1,2,-1,-4]\n",
    "Output: [[-1,-1,2],[-1,0,1]]\n",
    "Explanation: \n",
    "nums[0] + nums[1] + nums[2] = (-1) + 0 + 1 = 0.\n",
    "nums[1] + nums[2] + nums[4] = 0 + 1 + (-1) = 0.\n",
    "nums[0] + nums[3] + nums[4] = (-1) + 2 + (-1) = 0.\n",
    "The distinct triplets are [-1,0,1] and [-1,-1,2].\n",
    "Notice that the order of the output and the order of the triplets does not matter.\n",
    "\n",
    "Example 2:\n",
    "\n",
    "Input: nums = [0,1,1]\n",
    "Output: []\n",
    "Explanation: The only possible triplet does not sum up to 0.\n",
    "\n",
    "Example 3:\n",
    "\n",
    "Input: nums = [0,0,0]\n",
    "Output: [[0,0,0]]\n",
    "Explanation: The only possible triplet sums up to 0.\n",
    "\n",
    " \n",
    "\n",
    "Constraints:\n",
    "\n",
    "    3 <= nums.length <= 3000\n",
    "    -105 <= nums[i] <= 105\n",
    "\n"
   ]
  },
  {
   "cell_type": "code",
   "execution_count": 2,
   "id": "b9ea18e6",
   "metadata": {
    "vscode": {
     "languageId": "powershell"
    }
   },
   "outputs": [
    {
     "name": "stdout",
     "output_type": "stream",
     "text": [
      "[[-1, 0, 1], [-1, -1, 2]]\n"
     ]
    }
   ],
   "source": [
    "from typing import List\n",
    "\n",
    "class Solution:\n",
    "    def threeSum(self, nums: List[int]) -> List[List[int]]:\n",
    "        triplets = []\n",
    "        n = len(nums)\n",
    "        for i in range(n):\n",
    "            for j in range(n):\n",
    "                for k in range(n):\n",
    "                    # All indices must be different\n",
    "                    if i != j and j != k and i != k:\n",
    "                        # Check if the sum is zero\n",
    "                        if nums[i] + nums[j] + nums[k] == 0:\n",
    "                            # Sort so order doesn't matter\n",
    "                            triplet = sorted([nums[i], nums[j], nums[k]])\n",
    "                            # Avoid duplicates\n",
    "                            if triplet not in triplets:\n",
    "                                triplets.append(triplet)\n",
    "        return triplets\n",
    "\n",
    "nums = [-1, 0, 1, 2, -1, -4]\n",
    "print(Solution().threeSum(nums))"
   ]
  },
  {
   "cell_type": "code",
   "execution_count": 1,
   "id": "9e702fa9",
   "metadata": {
    "vscode": {
     "languageId": "powershell"
    }
   },
   "outputs": [
    {
     "name": "stdout",
     "output_type": "stream",
     "text": [
      "[[-1, 0, 1], [-1, -1, 2]]\n"
     ]
    }
   ],
   "source": [
    "from typing import List\n",
    "\n",
    "def complement_two_numbers(a,b):\n",
    "    return -(a+b)\n",
    "\n",
    "class Solution:\n",
    "   \n",
    "    def threeSum(self, nums: List[int]) -> List[List[int]]:\n",
    "        n = len(nums)\n",
    "        triplets = set()\n",
    "        \"\"\" to reduce it's a good ideia using complements \"\"\"\n",
    "        for i in range( n):\n",
    "            seen = set()\n",
    "            current_item = nums[i]\n",
    "            target = nums[i]\n",
    "            for j in range(i + 1, n):\n",
    "                complement = complement_two_numbers(target,nums[j])\n",
    "                if complement in seen:\n",
    "                    item = [target,nums[j],complement]\n",
    "                    triplet = tuple(sorted(item))\n",
    "                    triplets.add(triplet)\n",
    "                seen.add(nums[j])\n",
    "        return [list(t) for t in triplets]\n",
    "\n",
    "    \n",
    "nums = [-1, 0, 1, 2, -1, -4]\n",
    "print(Solution().threeSum(nums))\n"
   ]
  }
 ],
 "metadata": {
  "kernelspec": {
   "display_name": "Python 3",
   "language": "python",
   "name": "python3"
  },
  "language_info": {
   "codemirror_mode": {
    "name": "ipython",
    "version": 3
   },
   "file_extension": ".py",
   "mimetype": "text/x-python",
   "name": "python",
   "nbconvert_exporter": "python",
   "pygments_lexer": "ipython3",
   "version": "3.12.0"
  }
 },
 "nbformat": 4,
 "nbformat_minor": 5
}
