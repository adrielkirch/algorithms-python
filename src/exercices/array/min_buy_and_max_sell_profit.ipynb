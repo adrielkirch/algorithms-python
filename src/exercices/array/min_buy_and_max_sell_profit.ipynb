{
 "cells": [
  {
   "cell_type": "markdown",
   "id": "6a9a1aef",
   "metadata": {},
   "source": [
    "\n",
    "121. Best Time to Buy and Sell Stock\n",
    "\n",
    "You are given an array prices where prices[i] is the price of a given stock on the ith day.\n",
    "\n",
    "You want to **maximize your profit** by choosing a single day to buy one stock and choosing a different day in the future to sell that stock.\n",
    "\n",
    "Return the **maximum profit** you can achieve from this transaction. If you cannot achieve any profit, return 0.\n",
    "\n",
    "\n",
    "Example 1:\n",
    "\n",
    "Input: prices = [7,1,5,3,6,4]\n",
    "Output: 5\n",
    "Explanation: Buy on day 2 (price = 1) and sell on day 5 (price = 6), profit = 6-1 = 5.\n",
    "Note that buying on day 2 and selling on day 1 is not allowed because you must buy before you sell.\n",
    "Example 2:\n",
    "\n",
    "Input: prices = [7,6,4,3,1]\n",
    "Output: 0\n",
    "Explanation: In this case, no transactions are done and the max profit = 0.\n",
    " \n",
    "\n",
    "Constraints:\n",
    "\n",
    "1 <= prices.length <= 10^5\n",
    "0 <= prices[i] <= 10^4"
   ]
  },
  {
   "cell_type": "code",
   "execution_count": null,
   "id": "ab772a91",
   "metadata": {},
   "outputs": [
    {
     "name": "stdout",
     "output_type": "stream",
     "text": [
      "1\n"
     ]
    }
   ],
   "source": [
    "\"\"\"\n",
    "prices is and arr where prices[i] is the price of a given stock on the i day\n",
    "\n",
    "-  maximize your \"profit\" by choosing a single day to buy stock, and another in future to sell that stock\n",
    "\n",
    "if find a maxinum profit return the profit, if not find return 0\n",
    "\n",
    "[7,1,5,3,6,4]\n",
    "\n",
    "max_profit = 0\n",
    "min_price = 10*5\n",
    "\n",
    "[7,1,5,3,6,4]\n",
    "\n",
    "7 < min_price === true\n",
    "7\n",
    "\n",
    "[7,1,5,3,6,4]\n",
    "\n",
    "\"\"\"\n",
    "class Solution:\n",
    "    def maxProfit(self, prices) -> int:\n",
    "        min_price = 10**5 + 1\n",
    "        max_profit = 0\n",
    "        def profit(a,b):\n",
    "            return a-b\n",
    "        for price in prices:\n",
    "            if price < min_price:\n",
    "                min_price = price\n",
    "            elif max_profit < profit(price, min_price):\n",
    "                max_profit = profit(price, min_price)\n",
    "        return max_profit            \n",
    "    \n",
    "arr = [7, 1, 5, 3, 6, 4]\n",
    "print(Solution().maxProfit(arr))"
   ]
  }
 ],
 "metadata": {
  "kernelspec": {
   "display_name": "Python 3",
   "language": "python",
   "name": "python3"
  },
  "language_info": {
   "codemirror_mode": {
    "name": "ipython",
    "version": 3
   },
   "file_extension": ".py",
   "mimetype": "text/x-python",
   "name": "python",
   "nbconvert_exporter": "python",
   "pygments_lexer": "ipython3",
   "version": "3.12.0"
  }
 },
 "nbformat": 4,
 "nbformat_minor": 5
}
