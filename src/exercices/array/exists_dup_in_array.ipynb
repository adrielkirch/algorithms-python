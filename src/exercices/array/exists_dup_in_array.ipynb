{
 "cells": [
  {
   "cell_type": "markdown",
   "id": "dc3f2c5d",
   "metadata": {},
   "source": [
    "217. Contains Duplicate\n",
    "\n",
    "Given an integer array nums, return true if any value appears at least twice in the array, and return false if every element is distinct.\n",
    "\n",
    "## Example 1:\n",
    "\n",
    "Input: nums = [1,2,3,1]\n",
    "\n",
    "Output: true\n",
    "\n",
    "Explanation:\n",
    "\n",
    "The element 1 occurs at the indices 0 and 3.\n",
    "\n",
    "## Example 2:\n",
    "\n",
    "Input: nums = [1,2,3,4]\n",
    "\n",
    "Output: false\n",
    "\n",
    "Explanation:\n",
    "\n",
    "All elements are distinct.\n",
    "\n",
    "## Example 3:\n",
    "\n",
    "Input: nums = [1,1,1,3,3,4,3,2,4,2]\n",
    "\n",
    "Output: true\n",
    "\n",
    "\n",
    "Constraints:\n",
    "\n",
    "1 <= nums.length <= 105\n",
    "-10^9 <= nums[i] <= 10^9"
   ]
  },
  {
   "cell_type": "code",
   "execution_count": null,
   "id": "1ce0652d",
   "metadata": {},
   "outputs": [],
   "source": [
    "class Solution:\n",
    "    def containsDuplicate(self, nums) -> bool:\n",
    "        \"\"\"\n",
    "        array of nums\n",
    "\n",
    "        return true if any value appears at least twice else false\n",
    "         \n",
    "        We can say appears twice is False\n",
    "\n",
    "        [3, 4, 1, 2, 5, 1]\n",
    "        \"\"\"\n",
    "        first_item = nums[0]\n",
    "        d = {\n",
    "           first_item: 1         \n",
    "        }\n",
    "        for i in range(1,len(nums)):\n",
    "            # Not exists yet that num we add 1\n",
    "            if not d.get(nums[i], None):\n",
    "                d[nums[i]] = 1\n",
    "            elif d[nums[i]]:\n",
    "                d[nums[i]] += 1\n",
    "            if d[nums[i]] >= 2:\n",
    "                return True\n",
    "        return False"
   ]
  },
  {
   "cell_type": "code",
   "execution_count": null,
   "id": "7a066f58",
   "metadata": {},
   "outputs": [
    {
     "name": "stdout",
     "output_type": "stream",
     "text": [
      "False\n"
     ]
    }
   ],
   "source": [
    "class Solution:\n",
    "    def containsDuplicate(self, nums) -> bool:\n",
    "        seen = set()\n",
    "        for n in nums:\n",
    "            if n in seen:\n",
    "                return True\n",
    "            seen.add(n)\n",
    "        return False\n",
    "\n",
    "arr = [7, 1, 5, 3, 6, 4, 0]\n",
    "print(Solution().containsDuplicate(arr))"
   ]
  }
 ],
 "metadata": {
  "kernelspec": {
   "display_name": "Python 3",
   "language": "python",
   "name": "python3"
  },
  "language_info": {
   "codemirror_mode": {
    "name": "ipython",
    "version": 3
   },
   "file_extension": ".py",
   "mimetype": "text/x-python",
   "name": "python",
   "nbconvert_exporter": "python",
   "pygments_lexer": "ipython3",
   "version": "3.12.0"
  }
 },
 "nbformat": 4,
 "nbformat_minor": 5
}
