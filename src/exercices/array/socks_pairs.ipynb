{
 "cells": [
  {
   "cell_type": "markdown",
   "id": "4b3b64e0",
   "metadata": {},
   "source": [
    "There is a large pile of socks that must be paired by color. Given an array of integers representing the color of each sock, determine how many pairs of socks with matching colors there are.\n",
    "\n",
    "Example:\n",
    "\n",
    "n=7 ar=[1,2,1,2,1,3,2]\n",
    "\n",
    "There is one pair of color '1' and one of color '2' . \n",
    "There are three odd socks left, one of each color. \n",
    "The number of pairs is '2'.\n",
    "\n",
    "Function Description:\n",
    "\n",
    "Complete the sockMerchant function in the editor below.\n",
    "\n",
    "sockMerchant has the following parameter(s):\n",
    "\n",
    "- int n: the number of socks in the pile\n",
    "- int ar[n]: the colors of each sock\n",
    "\n",
    "Returns:\n",
    "\n",
    "int: the number of pairs\n",
    "Input Format\n",
    "\n",
    "- The first line contains an integer , the number of socks represented in .\n",
    "- The second line contains  space-separated integers, , the colors of the socks in the pile.\n",
    "\n"
   ]
  },
  {
   "cell_type": "code",
   "execution_count": null,
   "id": "8a48a898",
   "metadata": {},
   "outputs": [
    {
     "name": "stdout",
     "output_type": "stream",
     "text": [
      "3\n"
     ]
    }
   ],
   "source": [
    "#\n",
    "# Complete the 'sockMerchant' function below.\n",
    "#\n",
    "# The function is expected to return an INTEGER.\n",
    "# The function accepts following parameters:\n",
    "#  1. INTEGER n\n",
    "#  2. INTEGER_ARRAY ar\n",
    "#\n",
    "def sockMerchant(n, ar):\n",
    "    \n",
    "    dict_count_socks = {\n",
    "        ar[0]:1\n",
    "    }\n",
    "    total_pairs = 0\n",
    "\n",
    "    for i in range(1,len(ar)):\n",
    "        if ar[i] not in dict_count_socks:\n",
    "             ar[i] = 1\n",
    "             continue\n",
    "        dict_count_socks[ar[i]] += 1\n",
    "        if  ar[i] % 2 == 0:\n",
    "            total_pairs += 1\n",
    "    return total_pairs\n",
    "\n",
    "ar=[10, 20, 20, 10, 10, 30, 50, 10, 20]\n",
    "print(sockMerchant(len(ar),ar))\n",
    "            "
   ]
  }
 ],
 "metadata": {
  "kernelspec": {
   "display_name": "Python 3",
   "language": "python",
   "name": "python3"
  },
  "language_info": {
   "codemirror_mode": {
    "name": "ipython",
    "version": 3
   },
   "file_extension": ".py",
   "mimetype": "text/x-python",
   "name": "python",
   "nbconvert_exporter": "python",
   "pygments_lexer": "ipython3",
   "version": "3.12.0"
  }
 },
 "nbformat": 4,
 "nbformat_minor": 5
}
