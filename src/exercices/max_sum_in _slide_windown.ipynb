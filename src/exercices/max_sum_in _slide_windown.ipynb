{
 "cells": [
  {
   "cell_type": "markdown",
   "id": "5e60b99d",
   "metadata": {},
   "source": [
    "Description\n",
    "\n",
    "You are given an integer array nums and a positive integer k.\n",
    "\n",
    "Your task is to find the maximum sum of any contiguous subarray (window) of size k.\n",
    "\n",
    "You should solve this efficiently, avoiding recalculating the sum of each window from scratch.\n",
    "\n",
    "for k \n",
    "\n",
    "Initial window [1, 2, 3] -> sum = 6\n",
    "Current window [2, 3, 4] -> sum = 9\n",
    "Current window [3, 4, 5] -> sum = 12\n",
    "Maximum window sum of size 3 = 12"
   ]
  },
  {
   "cell_type": "code",
   "execution_count": 13,
   "id": "ee744ce9",
   "metadata": {},
   "outputs": [
    {
     "name": "stdout",
     "output_type": "stream",
     "text": [
      "Initial window: [-1, 2, 4] -> sum = 5\n",
      "current_window: [2, 4, 2]\n",
      "current_window: [4, 2, 1]\n",
      "current_window: [2, 1, -1]\n",
      "current_window: [1, -1, 7]\n",
      "Maximum window sum of size 3 = 8\n"
     ]
    },
    {
     "data": {
      "text/plain": [
       "8"
      ]
     },
     "execution_count": 13,
     "metadata": {},
     "output_type": "execute_result"
    }
   ],
   "source": [
    "class Solution:\n",
    "    def max_sum_sliding_window(self, k, nums):\n",
    "        # Inicializa janela\n",
    "        window_sum = sum(nums[:k])\n",
    "        max_sum = window_sum\n",
    "        print(f\"Initial window: {nums[:k]} -> sum = {window_sum}\")\n",
    "        \n",
    "        for i in range(k, len(nums)):\n",
    "            current_window = nums[i-k+1:i+1]\n",
    "            print(f\"current_window: {current_window}\")\n",
    "            # Atualiza máximo\n",
    "            max_sum = max(max_sum, sum(current_window))\n",
    "        \n",
    "        print(f\"Maximum window sum of size {k} = {max_sum}\")\n",
    "        return max_sum\n",
    "\n",
    "Solution().max_sum_sliding_window(3, [-1,2,4,2,1,-1,7])\n"
   ]
  },
  {
   "cell_type": "markdown",
   "id": "70daff8c",
   "metadata": {},
   "source": []
  }
 ],
 "metadata": {
  "kernelspec": {
   "display_name": "Python 3",
   "language": "python",
   "name": "python3"
  },
  "language_info": {
   "codemirror_mode": {
    "name": "ipython",
    "version": 3
   },
   "file_extension": ".py",
   "mimetype": "text/x-python",
   "name": "python",
   "nbconvert_exporter": "python",
   "pygments_lexer": "ipython3",
   "version": "3.10.12"
  }
 },
 "nbformat": 4,
 "nbformat_minor": 5
}
