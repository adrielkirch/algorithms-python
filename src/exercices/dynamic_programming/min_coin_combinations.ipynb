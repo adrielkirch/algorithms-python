{
 "cells": [
  {
   "cell_type": "markdown",
   "id": "392dd1e3",
   "metadata": {},
   "source": [
    "You are given an integer array coins representing coins of different denominations and an integer amount representing a total amount of money.\n",
    "\n",
    "Return the fewest number of coins that you need to make up that amount. If that amount of money cannot be made up by any combination of the coins, return -1.\n",
    "\n",
    "You may assume that you have an infinite number of each kind of coin.\n",
    "\n",
    " \n",
    "\n",
    "Example 1:\n",
    "\n",
    "Input: coins = [1,2,5], amount = 11\n",
    "Output: 3\n",
    "Explanation: 11 = 5 + 5 + 1\n",
    "\n",
    "Example 2:\n",
    "\n",
    "Input: coins = [2], amount = 3\n",
    "Output: -1\n",
    "\n",
    "Example 3:\n",
    "\n",
    "Input: coins = [1], amount = 0\n",
    "Output: 0\n"
   ]
  },
  {
   "cell_type": "markdown",
   "id": "4c59b9b4",
   "metadata": {},
   "source": [
    "  \"\"\"\n",
    "        🧩 Problem:\n",
    "        Given coins of different denominations and a target amount,\n",
    "        return the fewest number of coins needed to make up that amount.\n",
    "        If it’s not possible, return -1.\n",
    "\n",
    "        Example:\n",
    "        coins = [1, 2, 5], amount = 11\n",
    "        Output: 3 (because 11 = 5 + 5 + 1)\n",
    "\n",
    "        🎯 Goal:\n",
    "        Find the *minimum number of coins* needed to sum up to `amount`.\n",
    "\n",
    "        💡 Heuristic (How we approach the solution):\n",
    "        This is a **Dynamic Programming (DP)** problem because:\n",
    "        - The solution to a large problem (amount = n) depends on smaller subproblems (amount = n - coin).\n",
    "        - We can store previous results to avoid recomputation.\n",
    "\n",
    "        DP idea:\n",
    "        dp[i] = minimum number of coins needed to make amount i\n",
    "        Transition:\n",
    "        dp[i] = min(dp[i], dp[i - coin] + 1) for each coin where i - coin >= 0\n",
    "        \"\"\""
   ]
  },
  {
   "cell_type": "code",
   "execution_count": null,
   "id": "8e0be7b4",
   "metadata": {},
   "outputs": [],
   "source": [
    "class Solution:\n",
    "    def coinChange(self, coins, amount) -> int:\n",
    "        dp = [float('inf')] * (amount + 1)\n",
    "        dp[0] = 0\n",
    "         # Build up the solution for all amounts from 1 to `amount`\n",
    "        for i in range(1, amount+1):\n",
    "            # We can only use this coin if the remaining amount (i - coin) is non-negative. \n",
    "            for coin in coins:\n",
    "                if i - coin >= 0:\n",
    "                    # Transition formula:\n",
    "                    # Take the minimum between the current dp[i]\n",
    "                    # and the number of coins if we include this coin.\n",
    "                    dp[i] = min(dp[i], dp[i - coin] + 1)\n",
    "        return dp[amount] if dp[amount] != float('inf') else -1"
   ]
  }
 ],
 "metadata": {
  "language_info": {
   "name": "python"
  }
 },
 "nbformat": 4,
 "nbformat_minor": 5
}
