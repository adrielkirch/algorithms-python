{
 "cells": [
  {
   "cell_type": "markdown",
   "id": "32d91c27",
   "metadata": {},
   "source": [
    "You are climbing a staircase. It takes n steps to reach the top.\n",
    "\n",
    "Each time you can either climb 1 or 2 steps. In how many distinct ways can you climb to the top?\n",
    "\n",
    " \n",
    "\n",
    "Example 1:\n",
    "\n",
    "Input: n = 2\n",
    "Output: 2\n",
    "Explanation: There are two ways to climb to the top.\n",
    "1. 1 step + 1 step\n",
    "2. 2 steps\n",
    "\n",
    "Example 2:\n",
    "\n",
    "Input: n = 3\n",
    "Output: 3\n",
    "Explanation: There are three ways to climb to the top.\n",
    "1. 1 step + 1 step + 1 step\n",
    "2. 1 step + 2 steps\n",
    "3. 2 steps + 1 step"
   ]
  },
  {
   "cell_type": "code",
   "execution_count": null,
   "id": "1fa55e07",
   "metadata": {},
   "outputs": [
    {
     "name": "stdout",
     "output_type": "stream",
     "text": [
      "3\n"
     ]
    }
   ],
   "source": [
    "class Solution:\n",
    "    def climbStairs(self, n: int) -> int:\n",
    "        \"\"\" \n",
    "        You are climbing a staircase. It takes n steps to reach the top.\n",
    "        can either do a single step   \n",
    "                _   \n",
    "              _|4\n",
    "            _|3  \n",
    "          _|2\n",
    "        0|1\n",
    "               \n",
    "        Input: n = 3\n",
    "\n",
    "        Output: 4\n",
    "        Explanation: There are three ways to climb to the top.\n",
    "        1. 2 steps + 1 step\n",
    "        2. 1 step + 2 steps\n",
    "        3. 1 step + 1 step + 1 step , \n",
    "        Output: 3 combinations\n",
    "        \"\"\"\n",
    "        if n <= 2:\n",
    "                return n\n",
    "\n",
    "        dp = [0] * (n+1)\n",
    "        dp[1] = 1\n",
    "        dp[2] = 2 \n",
    "        for i in range(3,n+1):\n",
    "            dp[i] = dp[i-1] + dp[i-2]\n",
    "        return dp[i]\n",
    "    \n",
    "print(Solution().climbStairs(4))     "
   ]
  }
 ],
 "metadata": {
  "kernelspec": {
   "display_name": "Python 3",
   "language": "python",
   "name": "python3"
  },
  "language_info": {
   "codemirror_mode": {
    "name": "ipython",
    "version": 3
   },
   "file_extension": ".py",
   "mimetype": "text/x-python",
   "name": "python",
   "nbconvert_exporter": "python",
   "pygments_lexer": "ipython3",
   "version": "3.10.12"
  }
 },
 "nbformat": 4,
 "nbformat_minor": 5
}
