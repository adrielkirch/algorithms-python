{
 "cells": [
  {
   "cell_type": "markdown",
   "id": "d1d22286",
   "metadata": {},
   "source": [
    "300. Longest Increasing Subsequence\n",
    "Medium\n",
    "Topics\n",
    "premium lock iconCompanies\n",
    "\n",
    "Given an integer array nums, return the length of the longest strictly increasing\n",
    "\n",
    "Example 1:\n",
    "\n",
    "Input: nums = [10,9,2,5,3,7,101,18]\n",
    "Output: 4\n",
    "Explanation: The longest increasing subsequence is [2,3,7,101], therefore the length is 4.\n",
    "\n",
    "Example 2:\n",
    "\n",
    "Input: nums = [0,1,0,3,2,3]\n",
    "Output: 4\n",
    "\n",
    "Example 3:\n",
    "\n",
    "Input: nums = [7,7,7,7,7,7,7]\n",
    "Output: 1\n",
    "\n",
    "\n",
    "Constraints:\n",
    "\n",
    "    1 <= nums.length <= 2500\n",
    "    -10^4 <= nums[i] <= 10^4"
   ]
  },
  {
   "cell_type": "code",
   "execution_count": null,
   "id": "ac89d34f",
   "metadata": {},
   "outputs": [
    {
     "data": {
      "text/plain": [
       "4"
      ]
     },
     "execution_count": 1,
     "metadata": {},
     "output_type": "execute_result"
    }
   ],
   "source": [
    "from typing import List\n",
    "\n",
    "class Solution:\n",
    "    def lengthOfLIS(self, nums: List[int]) -> int:\n",
    "        n = len(nums)\n",
    "        \n",
    "        # dp[i] will store the length of the longest increasing subsequence ending at nums[i]\n",
    "        dp = [1] * n  # Each element itself is a subsequence of length 1\n",
    "        \n",
    "        # Go through each element in the array\n",
    "        for i in range(n):\n",
    "            # Look at all previous elements before nums[i]\n",
    "            for j in range(i):\n",
    "                # If nums[i] can extend the subsequence ending at nums[j]\n",
    "                if nums[i] > nums[j]:\n",
    "                    # Update dp[i] by extending dp[j] subsequence\n",
    "                    dp[i] = max(dp[i], dp[j] + 1)\n",
    "                    # Now dp[i] is the length of the longest subsequence ending at i\n",
    "        \n",
    "        # The answer is the maximum value in dp, i.e., the longest increasing subsequence in the array\n",
    "        return max(dp)\n",
    "    \n",
    "Solution().lengthOfLIS([10,9,2,5,3,7,101,18])"
   ]
  },
  {
   "cell_type": "code",
   "execution_count": 2,
   "id": "0ab3514c",
   "metadata": {},
   "outputs": [
    {
     "name": "stdout",
     "output_type": "stream",
     "text": [
      "After processing 10: sub = [10]\n",
      "After processing 9: sub = [9]\n",
      "After processing 2: sub = [2]\n",
      "After processing 5: sub = [2, 5]\n",
      "After processing 3: sub = [2, 3]\n",
      "After processing 7: sub = [2, 3, 7]\n",
      "After processing 101: sub = [2, 3, 7, 101]\n",
      "After processing 18: sub = [2, 3, 7, 18]\n"
     ]
    },
    {
     "data": {
      "text/plain": [
       "4"
      ]
     },
     "execution_count": 2,
     "metadata": {},
     "output_type": "execute_result"
    }
   ],
   "source": [
    "import bisect\n",
    "from typing import List\n",
    "\n",
    "class Solution:\n",
    "    def lengthOfLIS(self, nums: List[int]) -> int:\n",
    "        # 'sub' will store the smallest possible tail for increasing subsequences\n",
    "        sub = []  # This is our DP array, but optimized for 1-loop\n",
    "        \n",
    "        for x in nums:\n",
    "            # Find the leftmost position where x can be inserted\n",
    "            # to maintain increasing order (binary search)\n",
    "            i = bisect.bisect_left(sub, x)\n",
    "            \n",
    "            if i == len(sub):\n",
    "                # x is bigger than any element in sub, extend the subsequence\n",
    "                sub.append(x)\n",
    "            else:\n",
    "                # x can replace sub[i] to form a smaller tail for subsequences of length i+1\n",
    "                sub[i] = x\n",
    "            \n",
    "            # Debug step: show how 'sub' evolves\n",
    "            print(f\"After processing {x}: sub = {sub}\")\n",
    "        \n",
    "        # The length of 'sub' is the length of the longest increasing subsequence\n",
    "        return len(sub)\n",
    "    \n",
    "Solution().lengthOfLIS([10,9,2,5,3,7,101,18])"
   ]
  }
 ],
 "metadata": {
  "kernelspec": {
   "display_name": "Python 3",
   "language": "python",
   "name": "python3"
  },
  "language_info": {
   "codemirror_mode": {
    "name": "ipython",
    "version": 3
   },
   "file_extension": ".py",
   "mimetype": "text/x-python",
   "name": "python",
   "nbconvert_exporter": "python",
   "pygments_lexer": "ipython3",
   "version": "3.12.0"
  }
 },
 "nbformat": 4,
 "nbformat_minor": 5
}
