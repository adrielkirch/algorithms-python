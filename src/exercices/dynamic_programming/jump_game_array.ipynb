{
 "cells": [
  {
   "cell_type": "markdown",
   "id": "4df8e4b9",
   "metadata": {},
   "source": [
    "\n",
    "55. Jump Game\n",
    "Medium\n",
    "Topics\n",
    "premium lock iconCompanies\n",
    "\n",
    "You are given an integer array nums. You are initially positioned at the array's first index, and each element in the array represents your maximum jump length at that position.\n",
    "\n",
    "Return true if you can reach the last index, or false otherwise.\n",
    "s\n",
    "\n",
    "Example 1:\n",
    "\n",
    "Input: nums = [2,3,1,1,4]\n",
    "Output: true\n",
    "Explanation: Jump 1 step from index 0 to 1, then 3 steps to the last index.\n",
    "\n",
    "Example 2:\n",
    "\n",
    "Input: nums = [3,2,1,0,4]\n",
    "Output: false\n",
    "Explanation: You will always arrive at index 3 no matter what. Its maximum jump length is 0, which makes it impossible to reach the last index.\n",
    "\n",
    " "
   ]
  },
  {
   "cell_type": "code",
   "execution_count": 2,
   "id": "37654325",
   "metadata": {},
   "outputs": [
    {
     "name": "stdout",
     "output_type": "stream",
     "text": [
      "False\n",
      "True\n"
     ]
    }
   ],
   "source": [
    "\n",
    "def canJump(nums):\n",
    "    max_reach = 0\n",
    "    n = len(nums)\n",
    "    for i in range(n):\n",
    "        if i > max_reach:\n",
    "            return False  \n",
    "        max_reach = max(max_reach,nums[i] + i)\n",
    "    return True\n",
    "\n",
    "nums = [3,2,1,0,4]\n",
    "print(canJump(nums))\n",
    "nums = [2,3,1,1,4]\n",
    "print(canJump(nums))"
   ]
  }
 ],
 "metadata": {
  "kernelspec": {
   "display_name": "Python 3",
   "language": "python",
   "name": "python3"
  },
  "language_info": {
   "codemirror_mode": {
    "name": "ipython",
    "version": 3
   },
   "file_extension": ".py",
   "mimetype": "text/x-python",
   "name": "python",
   "nbconvert_exporter": "python",
   "pygments_lexer": "ipython3",
   "version": "3.12.0"
  }
 },
 "nbformat": 4,
 "nbformat_minor": 5
}
