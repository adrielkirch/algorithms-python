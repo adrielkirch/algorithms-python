{
 "cells": [
  {
   "cell_type": "markdown",
   "id": "91713463",
   "metadata": {},
   "source": [
    "The Fibonacci sequence is a series of numbers in which each number is the sum of the two preceding ones, starting from 0 and 1. The sequence begins as follows: 0, 1, 1, 2, 3, 5, 8, 13, 21, 34, ...\n",
    "\n",
    "Mathematically, it can be defined as:\n",
    "- F(0) = 0\n",
    "- F(1) = 1\n",
    "- F(n) = F(n-1) + F(n-2) for n > 1\n",
    "\n",
    "Below is a Python function to generate the first `n` numbers of the Fibonacci sequence:\n"
   ]
  },
  {
   "cell_type": "code",
   "execution_count": null,
   "id": "5ec85ea2",
   "metadata": {},
   "outputs": [
    {
     "name": "stdout",
     "output_type": "stream",
     "text": [
      "[0, 1, 1, 2, 3, 5, 8, 13, 21, 34]\n"
     ]
    }
   ],
   "source": [
    "def fibonacci_sequence(n):\n",
    "    sequence = []\n",
    "    # Initialize the first two Fibonacci numbers\n",
    "    a, b = 0, 1\n",
    "    # Repeat 'n' times — we don't care about the loop variable, so we use \"_\"\n",
    "    for _ in range(n):\n",
    "        sequence.append(a)\n",
    "        # Update values for the next iteration:\n",
    "        # - new 'a' becomes the current 'b' (the next Fibonacci number)\n",
    "        # - new 'b' becomes (old 'a' + old 'b') (sum of the previous two)\n",
    "        a, b = b, a + b\n",
    "    return sequence\n",
    "\n",
    "# Example: Generate the first 10 Fibonacci numbers\n",
    "print(fibonacci_sequence(10))"
   ]
  },
  {
   "cell_type": "markdown",
   "id": "bd7ae2c4",
   "metadata": {},
   "source": [
    "Try to do same thing but with recursive function"
   ]
  }
 ],
 "metadata": {
  "kernelspec": {
   "display_name": "Python 3",
   "language": "python",
   "name": "python3"
  },
  "language_info": {
   "codemirror_mode": {
    "name": "ipython",
    "version": 3
   },
   "file_extension": ".py",
   "mimetype": "text/x-python",
   "name": "python",
   "nbconvert_exporter": "python",
   "pygments_lexer": "ipython3",
   "version": "3.12.0"
  }
 },
 "nbformat": 4,
 "nbformat_minor": 5
}
