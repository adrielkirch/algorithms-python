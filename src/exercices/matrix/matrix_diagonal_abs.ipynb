{
 "cells": [
  {
   "cell_type": "markdown",
   "id": "8e5a933c",
   "metadata": {},
   "source": [
    "```markdown\n",
    "# Diagonal Difference Problem\n",
    "\n",
    "Given a square matrix, calculate the absolute difference between the sums of its diagonals.\n",
    "\n",
    "## Problem Description\n",
    "\n",
    "For a given square matrix `arr`, compute the absolute difference between the sum of its left-to-right diagonal and its right-to-left diagonal.\n",
    "\n",
    "### Example\n",
    "\n",
    "Matrix:\n",
    "```\n",
    "11  2   4\n",
    " 4  5   6\n",
    "10  8 -12\n",
    "```\n",
    "\n",
    "- Left-to-right diagonal: `11 + 5 + (-12) = 4`\n",
    "- Right-to-left diagonal: `4 + 5 + 10 = 19`\n",
    "- Absolute difference: `|4 - 19| = 15`\n",
    "\n",
    "## Notes\n",
    "\n",
    "- The function `diagonalDifference` computes the sums of both diagonals and returns their absolute difference.\n",
    "- The input is read from standard input, and the result is written to the path specified by the environment variable `OUTPUT_PATH`.\n"
   ]
  },
  {
   "cell_type": "markdown",
   "id": "65724526",
   "metadata": {},
   "source": [
    "import math\n",
    "import os\n",
    "import random\n",
    "import re\n",
    "import sys\n",
    "\n",
    "def diagonalDifference(arr):\n",
    "    matrix_size = len(arr)\n",
    "    sum_main_diagonal = 0\n",
    "    sum_secondary_diagonal = 0\n",
    "    for i in range(arr):\n",
    "        for j in range(arr):\n",
    "            if i == j:\n",
    "                sum_main_diagonal += arr[i][j]\n",
    "            if i + j + 1 == matrix_size:\n",
    "                sum_secondary_diagonal += arr[i][j]\n",
    "    return abs(sum_main_diagonal - sum_secondary_diagonal)\n",
    "\n",
    "if __name__ == '__main__':\n",
    "    fptr = open(os.environ['OUTPUT_PATH'], 'w')\n",
    "\n",
    "    n = int(input().strip())\n",
    "    print(n)\n",
    "    arr = []\n",
    "\n",
    "    for _ in range(n):\n",
    "        arr.append(list(map(int, input().rstrip().split())))\n",
    "    result = diagonalDifference(arr)\n",
    "\n",
    "    fptr.write(str(result) + '\\n')\n",
    "\n",
    "    fptr.close()"
   ]
  },
  {
   "cell_type": "code",
   "execution_count": null,
   "id": "a650aa67",
   "metadata": {},
   "outputs": [
    {
     "name": "stdout",
     "output_type": "stream",
     "text": [
      "🎉 Congratulations, you coded it right! 😎\n"
     ]
    }
   ],
   "source": [
    "\n",
    "\"\"\" \n",
    " 11 2 4\n",
    " 4  5 6\n",
    " 10 8 -12\n",
    "    \n",
    " 00 01 02 \n",
    " 10 11 12\n",
    " 20 21 22\n",
    "\"\"\"\n",
    "\n",
    "def diagonalDifference(arr):\n",
    "    matrix_size = len(arr)\n",
    "    sum_main_diagonal = 0\n",
    "    sum_secondary_diagonal = 0\n",
    "    for i in range(0, len(arr)):\n",
    "        for j in range(0, len(arr)):\n",
    "            if i == j:\n",
    "                sum_main_diagonal += arr[i][j]\n",
    "            if i + j + 1 == matrix_size:\n",
    "                sum_secondary_diagonal += arr[i][j]\n",
    "    return abs(sum_main_diagonal - sum_secondary_diagonal)\n",
    "\n",
    "\n",
    "#Code checker\n",
    "arr = [[11, 2, 4], [4, 5, 6], [10, 8, -12]]\n",
    "result = diagonalDifference(arr)\n",
    "expected = 15\n",
    "if result == expected:\n",
    "    print(\"🎉 Congratulations, you coded it right! 😎\")\n",
    "else:\n",
    "    print(\"🤔 Oops! Something went wrong… Try again! ❌\")\n"
   ]
  },
  {
   "cell_type": "code",
   "execution_count": 2,
   "id": "e7e3d9c2",
   "metadata": {},
   "outputs": [
    {
     "name": "stdout",
     "output_type": "stream",
     "text": [
      "🎉 Congratulations, you coded it right! 😎\n"
     ]
    }
   ],
   "source": [
    "\"\"\" \n",
    " 11 2 4\n",
    " 4  5 6\n",
    " 10 8 -12\n",
    "    \n",
    " 00 01 02 \n",
    " 10 11 12\n",
    " 20 21 22\n",
    "\n",
    "\"\"\"\n",
    "\n",
    "def diagonalDifference(arr):\n",
    "    n = len(arr)\n",
    "    sum_main = 0\n",
    "    sum_secondary = 0\n",
    "\n",
    "    for i in range(n):\n",
    "        sum_main += arr[i][i]\n",
    "        sum_secondary += arr[i][n - i - 1]\n",
    "\n",
    "    return abs(sum_main - sum_secondary)\n",
    "\n",
    "#Code checker\n",
    "arr = [[11, 2, 4], [4, 5, 6], [10, 8, -12]]\n",
    "result = diagonalDifference(arr)\n",
    "expected = 15\n",
    "if result == expected:\n",
    "    print(\"🎉 Congratulations, you coded it right! 😎\")\n",
    "else:\n",
    "    print(\"🤔 Oops! Something went wrong… Try again! ❌\")"
   ]
  }
 ],
 "metadata": {
  "kernelspec": {
   "display_name": "Python 3",
   "language": "python",
   "name": "python3"
  },
  "language_info": {
   "codemirror_mode": {
    "name": "ipython",
    "version": 3
   },
   "file_extension": ".py",
   "mimetype": "text/x-python",
   "name": "python",
   "nbconvert_exporter": "python",
   "pygments_lexer": "ipython3",
   "version": "3.12.0"
  }
 },
 "nbformat": 4,
 "nbformat_minor": 5
}
