{
 "cells": [
  {
   "cell_type": "markdown",
   "id": "75d9083d",
   "metadata": {},
   "source": [
    "238. Product of Array Except Self\n",
    "Medium\n",
    "Topics\n",
    "premium lock iconCompanies\n",
    "Hint\n",
    "\n",
    "Given an integer array nums, return an array answer such that answer[i] is equal to the product of all the elements of nums except nums[i].\n",
    "\n",
    "The product of any prefix or suffix of nums is guaranteed to fit in a 32-bit integer.\n",
    "\n",
    "You must write an algorithm that runs in O(n) time and without using the division operation.\n",
    "\n",
    " \n",
    "\n",
    "Example 1:\n",
    "\n",
    "Input: nums = [1,2,3,4]\n",
    "Output: [24,12,8,6]\n",
    "\n",
    "Example 2:\n",
    "\n",
    "Input: nums = [-1,1,0,-3,3]\n",
    "Output: [0,0,9,0,0]\n",
    "\n",
    "\n",
    "Constraints:\n",
    "\n",
    "    2 <= nums.length <= 105\n",
    "    -30 <= nums[i] <= 30\n",
    "    The input is generated such that answer[i] is guaranteed to fit in a 32-bit integer.\n",
    "\n",
    " \n",
    "Follow up: Can you solve the problem in O(1) extra space complexity? (The output array does not count as extra space for space complexity analysis.)\n"
   ]
  },
  {
   "cell_type": "code",
   "execution_count": null,
   "id": "5e401bf2",
   "metadata": {},
   "outputs": [],
   "source": [
    "class Solution:\n",
    "    def productExceptSelf(self, nums):\n",
    "        \"\"\"\n",
    "        pesudo algorith\n",
    "\n",
    "        nums = [2,3,4,5]\n",
    "\n",
    "        acc = 1\n",
    "\n",
    "        i = 0, nums[i] = 2, [3,4,5] => 60 , acc = acc * nums[i] = 2\n",
    "\n",
    "        i = 1, nums[i] = 3 [2,4,5] =>  40, acc = acc *nums[i] = 2 * 6\n",
    "\n",
    "        i = 2, nums[i] = 4, [2,3,5] =>  40, acc = acc * nums[i] = 12\n",
    "\n",
    "        i = 2, nums[i] = 5, [2,3,4] =>  24\n",
    "        \"\"\"\n",
    "        answer = []\n",
    "        for i in range(0,len(nums)):\n",
    "            product = 1\n",
    "            for j in range(0,len(nums)):\n",
    "                if i != j:\n",
    "                    product = product * nums[j]\n",
    "            answer.append(product)\n",
    "        return answer"
   ]
  },
  {
   "cell_type": "code",
   "execution_count": 17,
   "id": "75391260",
   "metadata": {},
   "outputs": [
    {
     "name": "stdout",
     "output_type": "stream",
     "text": [
      "[24, 12, 8, 6]\n"
     ]
    }
   ],
   "source": [
    "class Solution:\n",
    "    def productExceptSelf(self, nums):\n",
    "        n = len(nums)\n",
    "        prefix = [1]*n\n",
    "        suffix = [1]*n\n",
    "        \n",
    "        # Preenche prefixo\n",
    "        for i in range(1, n):\n",
    "            prefix[i] = prefix[i-1] * nums[i-1]\n",
    "        \n",
    "        # Preenche sufixo\n",
    "        for i in range(n-2, -1, -1):\n",
    "            suffix[i] = suffix[i+1] * nums[i+1]\n",
    "        \n",
    "        # Multiplica prefix * sufixo\n",
    "        answer = [prefix[i]*suffix[i] for i in range(n)]\n",
    "        return answer\n",
    "\n",
    "print(Solution().productExceptSelf([1,2,3,4]))\n"
   ]
  },
  {
   "cell_type": "code",
   "execution_count": 18,
   "id": "94ff9dfb",
   "metadata": {},
   "outputs": [
    {
     "name": "stdout",
     "output_type": "stream",
     "text": [
      "[24, 12, 8, 6]\n"
     ]
    }
   ],
   "source": [
    "class Solution:\n",
    "    def productExceptSelf(self, nums):\n",
    "        n = len(nums)\n",
    "        answer = [1] * n\n",
    "        \n",
    "        # prefixo\n",
    "        acc_left = 1\n",
    "        for i in range(n):\n",
    "            answer[i] = acc_left\n",
    "            acc_left *= nums[i]\n",
    "        \n",
    "        # sufixo\n",
    "        acc_right = 1\n",
    "        for i in range(1, n+1):\n",
    "            answer[-i] *= acc_right\n",
    "            acc_right *= nums[-i]\n",
    "        \n",
    "        return answer\n",
    "\n",
    "print(Solution().productExceptSelf([1,2,3,4]))\n"
   ]
  }
 ],
 "metadata": {
  "kernelspec": {
   "display_name": "Python 3",
   "language": "python",
   "name": "python3"
  },
  "language_info": {
   "codemirror_mode": {
    "name": "ipython",
    "version": 3
   },
   "file_extension": ".py",
   "mimetype": "text/x-python",
   "name": "python",
   "nbconvert_exporter": "python",
   "pygments_lexer": "ipython3",
   "version": "3.10.12"
  }
 },
 "nbformat": 4,
 "nbformat_minor": 5
}
