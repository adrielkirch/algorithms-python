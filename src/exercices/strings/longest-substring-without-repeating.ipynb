{
 "cells": [
  {
   "cell_type": "markdown",
   "id": "ebe2e08c",
   "metadata": {},
   "source": [
    "\n",
    "Example 1:\n",
    "\n",
    "Input: s = \"abcabcbb\"\n",
    "Output: 3\n",
    "Explanation: The answer is \"abc\", with the length of 3. Note that \"bca\" and \"cab\" are also correct answers.\n",
    "Example 2:\n",
    "\n",
    "Input: s = \"bbbbb\"\n",
    "Output: 1\n",
    "Explanation: The answer is \"b\", with the length of 1.\n",
    "Example 3:\n",
    "\n",
    "Input: s = \"pwwkew\"\n",
    "Output: 3\n",
    "Explanation: The answer is \"wke\", with the length of 3.\n",
    "Notice that the answer must be a substring, \"pwke\" is a subsequence and not a substring."
   ]
  },
  {
   "cell_type": "code",
   "execution_count": null,
   "id": "7e3fee4d",
   "metadata": {},
   "outputs": [
    {
     "name": "stdout",
     "output_type": "stream",
     "text": [
      "3\n",
      "1\n",
      "3\n",
      "3\n",
      "1\n",
      "3\n"
     ]
    },
    {
     "data": {
      "text/plain": [
       "3"
      ]
     },
     "execution_count": 3,
     "metadata": {},
     "output_type": "execute_result"
    }
   ],
   "source": [
    "class Solution:\n",
    "    def lengthOfLongestSubstring(self, s: str) -> int:\n",
    "        max_len = 0\n",
    "        for i in range(len(s)):\n",
    "            seen = set()\n",
    "            for j in range(i, len(s)):\n",
    "                if s[j] in seen:\n",
    "                    break\n",
    "                seen.add(s[j])\n",
    "            max_len = max(max_len, len(seen))\n",
    "        return max_len\n",
    "\n",
    "\n",
    "# 🧪 Testes\n",
    "print(Solution().lengthOfLongestSubstring(\"abcabcbb\"))  # 3\n",
    "print(Solution().lengthOfLongestSubstring(\"bbbbb\"))     # 1\n",
    "print(Solution().lengthOfLongestSubstring(\"pwwkew\"))    # 3 "
   ]
  },
  {
   "cell_type": "code",
   "execution_count": null,
   "id": "cb3ec176",
   "metadata": {},
   "outputs": [
    {
     "name": "stdout",
     "output_type": "stream",
     "text": [
      "✅ Janela atual: 'a' | Conjunto: {'a'} | max_len=1\n",
      "✅ Janela atual: 'ab' | Conjunto: {'b', 'a'} | max_len=2\n",
      "✅ Janela atual: 'abc' | Conjunto: {'b', 'c', 'a'} | max_len=3\n",
      "🔁 'a' repetido → removendo 'a' do conjunto\n",
      "✅ Janela atual: 'bca' | Conjunto: {'b', 'c', 'a'} | max_len=3\n",
      "🔁 'b' repetido → removendo 'b' do conjunto\n",
      "✅ Janela atual: 'cab' | Conjunto: {'b', 'c', 'a'} | max_len=3\n",
      "🔁 'c' repetido → removendo 'c' do conjunto\n",
      "✅ Janela atual: 'abc' | Conjunto: {'b', 'c', 'a'} | max_len=3\n",
      "🔁 'b' repetido → removendo 'a' do conjunto\n",
      "🔁 'b' repetido → removendo 'b' do conjunto\n",
      "✅ Janela atual: 'cb' | Conjunto: {'b', 'c'} | max_len=3\n",
      "🔁 'b' repetido → removendo 'c' do conjunto\n",
      "🔁 'b' repetido → removendo 'b' do conjunto\n",
      "✅ Janela atual: 'b' | Conjunto: {'b'} | max_len=3\n",
      "3\n",
      "✅ Janela atual: 'b' | Conjunto: {'b'} | max_len=1\n",
      "🔁 'b' repetido → removendo 'b' do conjunto\n",
      "✅ Janela atual: 'b' | Conjunto: {'b'} | max_len=1\n",
      "🔁 'b' repetido → removendo 'b' do conjunto\n",
      "✅ Janela atual: 'b' | Conjunto: {'b'} | max_len=1\n",
      "🔁 'b' repetido → removendo 'b' do conjunto\n",
      "✅ Janela atual: 'b' | Conjunto: {'b'} | max_len=1\n",
      "🔁 'b' repetido → removendo 'b' do conjunto\n",
      "✅ Janela atual: 'b' | Conjunto: {'b'} | max_len=1\n",
      "1\n",
      "✅ Janela atual: 'p' | Conjunto: {'p'} | max_len=1\n",
      "✅ Janela atual: 'pw' | Conjunto: {'p', 'w'} | max_len=2\n",
      "🔁 'w' repetido → removendo 'p' do conjunto\n",
      "🔁 'w' repetido → removendo 'w' do conjunto\n",
      "✅ Janela atual: 'w' | Conjunto: {'w'} | max_len=2\n",
      "✅ Janela atual: 'wk' | Conjunto: {'k', 'w'} | max_len=2\n",
      "✅ Janela atual: 'wke' | Conjunto: {'e', 'k', 'w'} | max_len=3\n",
      "🔁 'w' repetido → removendo 'w' do conjunto\n",
      "✅ Janela atual: 'kew' | Conjunto: {'e', 'k', 'w'} | max_len=3\n",
      "3\n"
     ]
    }
   ],
   "source": [
    "class Solution(object):\n",
    "    def lengthOfLongestSubstring(self, s):\n",
    "        if not s:\n",
    "            return 0\n",
    "\n",
    "        seen = set()\n",
    "        left = 0    \n",
    "        max_len = 0 \n",
    "\n",
    "        for right in range(len(s)):\n",
    "            while s[right] in seen:\n",
    "                print(f\"🔁 '{s[right]}' repetido → removendo '{s[left]}' do conjunto\")\n",
    "                seen.remove(s[left])\n",
    "                left += 1\n",
    "\n",
    "            seen.add(s[right])\n",
    "            current_window = s[left:right+1]\n",
    "            max_len = max(max_len, len(seen))\n",
    "\n",
    "            print(f\"✅ Janela atual: '{current_window}' | Conjunto: {seen} | max_len={max_len}\")\n",
    "\n",
    "        return max_len\n",
    "\n",
    "\n",
    "# 🧪 Testes\n",
    "print(Solution().lengthOfLongestSubstring(\"abcabcbb\"))  # 3\n",
    "print(Solution().lengthOfLongestSubstring(\"bbbbb\"))     # 1\n",
    "print(Solution().lengthOfLongestSubstring(\"pwwkew\"))    # 3\n"
   ]
  }
 ],
 "metadata": {
  "kernelspec": {
   "display_name": "Python 3",
   "language": "python",
   "name": "python3"
  },
  "language_info": {
   "codemirror_mode": {
    "name": "ipython",
    "version": 3
   },
   "file_extension": ".py",
   "mimetype": "text/x-python",
   "name": "python",
   "nbconvert_exporter": "python",
   "pygments_lexer": "ipython3",
   "version": "3.12.0"
  }
 },
 "nbformat": 4,
 "nbformat_minor": 5
}
