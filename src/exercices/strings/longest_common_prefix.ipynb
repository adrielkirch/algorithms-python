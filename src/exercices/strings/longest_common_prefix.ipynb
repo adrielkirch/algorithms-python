{
 "cells": [
  {
   "cell_type": "markdown",
   "id": "bbc604d1",
   "metadata": {},
   "source": [
    "The longest comon prefix is the most letters combined from start to end that we can do in all words if non prefix is common return ''\n",
    "\n",
    "\"flow\",\"flower\",\"floating\",\"fleet\" is \"fl\""
   ]
  },
  {
   "cell_type": "code",
   "execution_count": 1,
   "id": "eaa6cb2a",
   "metadata": {},
   "outputs": [
    {
     "name": "stdout",
     "output_type": "stream",
     "text": [
      "fl\n"
     ]
    }
   ],
   "source": [
    "def longest_common_prefix(strings):\n",
    "    if not strings:\n",
    "        return \"\"\n",
    "    prefix = strings[0]\n",
    "    for string in strings[1:]:\n",
    "        while not string.startswith(prefix):\n",
    "            prefix = prefix[:-1]\n",
    "            if not prefix:\n",
    "                return \"\"\n",
    "    return prefix\n",
    "\n",
    "words = [ \"flower\", \"floating\",\"flight\",\"flow\",]\n",
    "print(longest_common_prefix(words))  # \"fl\""
   ]
  }
 ],
 "metadata": {
  "kernelspec": {
   "display_name": "Python 3",
   "language": "python",
   "name": "python3"
  },
  "language_info": {
   "codemirror_mode": {
    "name": "ipython",
    "version": 3
   },
   "file_extension": ".py",
   "mimetype": "text/x-python",
   "name": "python",
   "nbconvert_exporter": "python",
   "pygments_lexer": "ipython3",
   "version": "3.12.0"
  }
 },
 "nbformat": 4,
 "nbformat_minor": 5
}
