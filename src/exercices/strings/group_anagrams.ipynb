{
 "cells": [
  {
   "cell_type": "markdown",
   "id": "05628022",
   "metadata": {},
   "source": [
    "\n",
    "49. Group Anagrams\n",
    "\n",
    "Given an array of strings strs, group the anagrams together. You can return the answer in any order.\n",
    "\n",
    "Example 1:\n",
    "\n",
    "Input: strs = [\"eat\",\"tea\",\"tan\",\"ate\",\"nat\",\"bat\"]\n",
    "\n",
    "Output: [[\"bat\"],[\"nat\",\"tan\"],[\"ate\",\"eat\",\"tea\"]]\n",
    "\n",
    "Explanation:\n",
    "\n",
    "There is no string in strs that can be rearranged to form \"bat\".\n",
    "The strings \"nat\" and \"tan\" are anagrams as they can be rearranged to form each other.\n",
    "The strings \"ate\", \"eat\", and \"tea\" are anagrams as they can be rearranged to form each other.\n",
    "Example 2:\n",
    "\n",
    "Input: strs = [\"\"]\n",
    "\n",
    "Output: [[\"\"]]\n",
    "\n",
    "Example 3:\n",
    "\n",
    "Input: strs = [\"a\"]\n",
    "\n",
    "Output: [[\"a\"]]\n",
    "\n",
    " \n",
    "\n",
    "Constraints:\n",
    "\n",
    "1 <= strs.length <= 104\n",
    "0 <= strs[i].length <= 100\n",
    "strs[i] consists of lowercase English letters."
   ]
  },
  {
   "cell_type": "code",
   "execution_count": 14,
   "id": "0e2328bb",
   "metadata": {},
   "outputs": [
    {
     "name": "stdout",
     "output_type": "stream",
     "text": [
      "[['eat', 'tea', 'ate'], ['tan', 'nat'], ['bat']]\n"
     ]
    }
   ],
   "source": [
    "class Solution(object):\n",
    "    def groupAnagrams(self, strs):\n",
    "        \"\"\"\n",
    "        :type strs: List[str]\n",
    "        :rtype: List[List[str]]\n",
    "        \"\"\"\n",
    "        dict_anagrams = {\n",
    "\n",
    "        }\n",
    "\n",
    "        for i, word in enumerate(strs):\n",
    "            sorted_word = ''.join(sorted(word))\n",
    "            if sorted_word not in dict_anagrams:\n",
    "                dict_anagrams[sorted_word] = []\n",
    "            dict_anagrams[sorted_word].append(strs[i])\n",
    "        \n",
    "        return list(dict_anagrams.values())\n",
    "       \n",
    "input = [\"eat\",\"tea\",\"tan\",\"ate\",\"nat\",\"bat\"]\n",
    "print(Solution().groupAnagrams(input))"
   ]
  },
  {
   "cell_type": "code",
   "execution_count": null,
   "id": "5c2b6e25",
   "metadata": {},
   "outputs": [],
   "source": [
    "class Solution:\n",
    "    def groupAnagrams(self, strs):\n",
    "        groups = {}  # dicionário normal\n",
    "\n",
    "        for word in strs:\n",
    "            # chave = tupla da contagem de cada letra\n",
    "            key = [0] * 26\n",
    "            for char in word:\n",
    "                key[ord(char) - ord('a')] += 1\n",
    "            key_tuple = tuple(key)\n",
    "\n",
    "            # se a chave não existe, inicializa a lista\n",
    "            if key_tuple not in groups:\n",
    "                groups[key_tuple] = []\n",
    "            groups[key_tuple].append(word)\n",
    "\n",
    "        return list(groups.values())\n"
   ]
  }
 ],
 "metadata": {
  "kernelspec": {
   "display_name": "Python 3",
   "language": "python",
   "name": "python3"
  },
  "language_info": {
   "codemirror_mode": {
    "name": "ipython",
    "version": 3
   },
   "file_extension": ".py",
   "mimetype": "text/x-python",
   "name": "python",
   "nbconvert_exporter": "python",
   "pygments_lexer": "ipython3",
   "version": "3.12.0"
  }
 },
 "nbformat": 4,
 "nbformat_minor": 5
}
