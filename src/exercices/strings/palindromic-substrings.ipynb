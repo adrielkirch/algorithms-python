{
 "cells": [
  {
   "cell_type": "markdown",
   "id": "9137ac7e",
   "metadata": {},
   "source": [
    "5. Palindromic Substrings\n",
    "\n",
    "Given a string s, return the number of palindromic substrings in it.\n",
    "\n",
    "A string is a palindrome when it reads the same backward as forward.\n",
    "\n",
    "A substring is a contiguous sequence of characters within the string.\n",
    "\n",
    "\n",
    "Example 1:\n",
    "\n",
    "Input: s = \"abc\"\n",
    "Output: 3\n",
    "Explanation: Three palindromic strings: \"a\", \"b\", \"c\".\n",
    "Example 2:\n",
    "\n",
    "Input: s = \"aaa\"\n",
    "Output: 6\n",
    "Explanation: Six palindromic strings: \"a\", \"a\", \"a\", \"aa\", \"aa\", \"aaa\"."
   ]
  },
  {
   "cell_type": "markdown",
   "id": "f5ec0dd4",
   "metadata": {},
   "source": [
    "'abcdedcbabac'\n",
    "\n",
    "'abcfcba'"
   ]
  },
  {
   "cell_type": "code",
   "execution_count": null,
   "id": "28fb2b41",
   "metadata": {},
   "outputs": [
    {
     "name": "stdout",
     "output_type": "stream",
     "text": [
      "b\n",
      "a\n",
      "bab\n",
      "b\n",
      "aba\n",
      "a\n",
      "d\n",
      "7\n",
      "a\n",
      "b\n",
      "c\n",
      "d\n",
      "e\n",
      "ded\n",
      "cdedc\n",
      "bcdedcb\n",
      "abcdedcba\n",
      "d\n",
      "c\n",
      "b\n",
      "a\n",
      "bab\n",
      "b\n",
      "aba\n",
      "a\n",
      "17\n"
     ]
    }
   ],
   "source": [
    "class Solution:\n",
    "    def countSubstrings(self, s: str) -> int:\n",
    "        def expand(left, right):\n",
    "            count = 0\n",
    "            while left >= 0 and right < len(s) and s[left] == s[right]:\n",
    "                count += 1\n",
    "                left -= 1\n",
    "                right += 1\n",
    "                \n",
    "            return count\n",
    "\n",
    "        total = 0\n",
    "        for i in range(len(s)):\n",
    "            total += expand(i, i)\n",
    "            total += expand(i, i + 1)\n",
    "        return total\n",
    "\n",
    "print(Solution().countSubstrings('babad'))\n",
    "print(Solution().countSubstrings('abcdedcbaba'))\n",
    "\n"
   ]
  }
 ],
 "metadata": {
  "kernelspec": {
   "display_name": "Python 3",
   "language": "python",
   "name": "python3"
  },
  "language_info": {
   "codemirror_mode": {
    "name": "ipython",
    "version": 3
   },
   "file_extension": ".py",
   "mimetype": "text/x-python",
   "name": "python",
   "nbconvert_exporter": "python",
   "pygments_lexer": "ipython3",
   "version": "3.12.0"
  }
 },
 "nbformat": 4,
 "nbformat_minor": 5
}
