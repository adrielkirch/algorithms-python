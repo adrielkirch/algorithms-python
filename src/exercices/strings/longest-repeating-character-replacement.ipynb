{
 "cells": [
  {
   "cell_type": "markdown",
   "id": "ed80adc2",
   "metadata": {},
   "source": [
    "You are given a string s and an integer k. You can choose any character of the string and change it to any other uppercase English character. You can perform this operation at most k times.\n",
    "\n",
    "Return the length of the longest substring containing the same letter you can get after performing the above operations.\n",
    "\n",
    "Example 1:\n",
    "\n",
    "Input: s = \"ABAB\", k = 2\n",
    "Output: 4\n",
    "Explanation: Replace the two 'A's with two 'B's or vice versa.\n",
    "Example 2:\n",
    "\n",
    "Input: s = \"AABABBA\", k = 1\n",
    "Output: 4\n",
    "Explanation: Replace the one 'A' in the middle with 'B' and form \"AABBBBA\".\n",
    "The substring \"BBBB\" has the longest repeating letters, which is 4.\n",
    "There may exists other ways to achieve this answer too."
   ]
  },
  {
   "cell_type": "code",
   "execution_count": null,
   "id": "c7b35376",
   "metadata": {},
   "outputs": [],
   "source": []
  },
  {
   "cell_type": "code",
   "execution_count": null,
   "id": "f235f049",
   "metadata": {},
   "outputs": [],
   "source": [
    "class Solution:\n",
    "    def characterReplacement(self, s: str, k: int) -> int:\n",
    "        counter_dict = {}       # contagem de caracteres na janela\n",
    "        left = 0         # início da janela\n",
    "        max_freq = 0     # frequência do caractere mais comum na janela\n",
    "        max_len = 0\n",
    "\n",
    "        for right, char in enumerate(s):\n",
    "            counter_dict[char] = counter_dict.get(char, 0) + 1\n",
    "            max_freq = max(max_freq, counter_dict[char])\n",
    "\n",
    "            # Se precisar trocar mais de k caracteres, reduzimos a janela\n",
    "            if (right - left + 1) - max_freq > k:\n",
    "                counter_dict[s[left]] -= 1\n",
    "                left += 1\n",
    "\n",
    "            max_len = max(max_len, right - left + 1)\n",
    "        return max_len"
   ]
  },
  {
   "cell_type": "code",
   "execution_count": 17,
   "id": "10c14e91",
   "metadata": {},
   "outputs": [
    {
     "name": "stdout",
     "output_type": "stream",
     "text": [
      "4\n",
      "4\n",
      "4\n",
      "2\n",
      "6\n",
      "5\n",
      "5\n"
     ]
    }
   ],
   "source": [
    "sol = Solution()\n",
    "print(sol.characterReplacement(\"ABAB\", 2))        # 4\n",
    "print(sol.characterReplacement(\"AABABBA\", 1))     # 4\n",
    "print(sol.characterReplacement(\"AAAA\", 2))        # 4\n",
    "print(sol.characterReplacement(\"ABCDE\", 1))       # 2\n",
    "print(sol.characterReplacement(\"BAAAAB\", 2))      # 6\n",
    "print(sol.characterReplacement(\"AABACCA\", 2))     # 5\n",
    "print(sol.characterReplacement(\"ABBBCCDAA\", 2))   # 5"
   ]
  }
 ],
 "metadata": {
  "kernelspec": {
   "display_name": "Python 3",
   "language": "python",
   "name": "python3"
  },
  "language_info": {
   "codemirror_mode": {
    "name": "ipython",
    "version": 3
   },
   "file_extension": ".py",
   "mimetype": "text/x-python",
   "name": "python",
   "nbconvert_exporter": "python",
   "pygments_lexer": "ipython3",
   "version": "3.12.0"
  }
 },
 "nbformat": 4,
 "nbformat_minor": 5
}
