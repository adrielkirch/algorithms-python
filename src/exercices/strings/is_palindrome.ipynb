{
 "cells": [
  {
   "cell_type": "markdown",
   "id": "6abdfbbd",
   "metadata": {},
   "source": [
    "125. Valid Palindrome\n",
    "Easy\n",
    "Topics\n",
    "premium lock icon\n",
    "Companies\n",
    "A phrase is a palindrome if, after converting all uppercase letters into lowercase letters and removing all non-alphanumeric characters, it reads the same forward and backward. Alphanumeric characters include letters and numbers.\n",
    "\n",
    "Given a string s, return true if it is a palindrome, or false otherwise.\n",
    "\n",
    " \n",
    "\n",
    "Example 1:\n",
    "\n",
    "Input: s = \"A man, a plan, a canal: Panama\"\n",
    "Output: true\n",
    "Explanation: \"amanaplanacanalpanama\" is a palindrome.\n",
    "Example 2:\n",
    "\n",
    "Input: s = \"race a car\"\n",
    "Output: false\n",
    "Explanation: \"raceacar\" is not a palindrome."
   ]
  },
  {
   "cell_type": "code",
   "execution_count": null,
   "id": "c88bca8f",
   "metadata": {},
   "outputs": [
    {
     "data": {
      "text/plain": [
       "False"
      ]
     },
     "execution_count": 29,
     "metadata": {},
     "output_type": "execute_result"
    }
   ],
   "source": [
    "class Solution:\n",
    "    def isPalindrome(self, s: str) -> bool:\n",
    "        #String clear the string\n",
    "        clean = ''.join([char.lower() for char in s if char if char.isalnum()])\n",
    "        left = 0\n",
    "        right = len(clean) - 1\n",
    "        while left < right:\n",
    "            letter_left = clean[left]\n",
    "            letter_right = clean[right]\n",
    "            if letter_left != letter_right:\n",
    "                return False\n",
    "            left += 1\n",
    "            right -= 1\n",
    "        return True\n",
    "\n",
    "\n",
    "Solution().isPalindrome('A man, a plan, a canal: Panama')\n",
    "print(Solution().isPalindrome('race a car'))                     "
   ]
  }
 ],
 "metadata": {
  "kernelspec": {
   "display_name": "Python 3",
   "language": "python",
   "name": "python3"
  },
  "language_info": {
   "codemirror_mode": {
    "name": "ipython",
    "version": 3
   },
   "file_extension": ".py",
   "mimetype": "text/x-python",
   "name": "python",
   "nbconvert_exporter": "python",
   "pygments_lexer": "ipython3",
   "version": "3.12.0"
  }
 },
 "nbformat": 4,
 "nbformat_minor": 5
}
