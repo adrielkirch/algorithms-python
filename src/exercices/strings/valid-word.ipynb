{
 "cells": [
  {
   "cell_type": "markdown",
   "id": "b121ac72",
   "metadata": {},
   "source": [
    "\n",
    "3136. Valid Word\n",
    "\n",
    "A word is considered valid if:\n",
    "\n",
    "It contains a minimum of 3 characters.\n",
    "It contains only digits (0-9), and English letters (uppercase and lowercase).\n",
    "It includes at least one vowel.\n",
    "It includes at least one consonant.\n",
    "You are given a string word.\n",
    "\n",
    "Return true if word is valid, otherwise, return false.\n",
    "\n",
    "Notes:"
   ]
  },
  {
   "cell_type": "code",
   "execution_count": null,
   "id": "6329996b",
   "metadata": {},
   "outputs": [
    {
     "name": "stdout",
     "output_type": "stream",
     "text": [
      "aeiouAEIOU\n",
      "bcdfghjklmnpqrstuvwxyzBCDFGHJKLMNPQRSTUVWXYZ\n"
     ]
    },
    {
     "data": {
      "text/plain": [
       "False"
      ]
     },
     "execution_count": 29,
     "metadata": {},
     "output_type": "execute_result"
    }
   ],
   "source": [
    "class Solution:\n",
    "    def isValid(self, word: str) -> bool:\n",
    "        all_digits = [str(i) for i in range(0,10)]\n",
    "        all_vowel = 'aeiou'\n",
    "        all_vowel_upper = all_vowel.upper()\n",
    "        all_vowel = all_vowel + all_vowel_upper\n",
    "        print(all_vowel)\n",
    "        all_consoant = 'bcdfghjklmnpqrstuvwxyz'\n",
    "        all_consoant_upper = all_consoant.upper()\n",
    "        all_consoant = all_consoant + all_consoant_upper\n",
    "        print(all_consoant)\n",
    "        at_least_single_consoant = False\n",
    "        at_least_single_vowel = False\n",
    "        has_no_caracter_special = True\n",
    "        for char in word:\n",
    "            \n",
    "            if not at_least_single_vowel and char in all_vowel:\n",
    "                at_least_single_consoant = True\n",
    "            if not at_least_single_consoant and char in all_consoant:\n",
    "                at_least_single_consoant = True\n",
    "            if not char.isalnum():\n",
    "                has_no_caracter_special = False\n",
    "  \n",
    "        return at_least_single_consoant and at_least_single_consoant and has_no_caracter_special\n",
    "\n",
    "\n",
    "Solution().isValid('abc1231A') "
   ]
  }
 ],
 "metadata": {
  "kernelspec": {
   "display_name": "Python 3",
   "language": "python",
   "name": "python3"
  },
  "language_info": {
   "codemirror_mode": {
    "name": "ipython",
    "version": 3
   },
   "file_extension": ".py",
   "mimetype": "text/x-python",
   "name": "python",
   "nbconvert_exporter": "python",
   "pygments_lexer": "ipython3",
   "version": "3.12.0"
  }
 },
 "nbformat": 4,
 "nbformat_minor": 5
}
