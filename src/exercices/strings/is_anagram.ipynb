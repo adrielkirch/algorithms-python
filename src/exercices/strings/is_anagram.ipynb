{
 "cells": [
  {
   "cell_type": "markdown",
   "id": "8425877c",
   "metadata": {},
   "source": [
    "Given two strings s and t, return true if t is an anagram of s, and false otherwise.\n",
    "\n",
    "Example 1:\n",
    "\n",
    "Input: s = \"anagram\", t = \"nagaram\"\n",
    "\n",
    "Output: true\n",
    "\n",
    "Example 2:\n",
    "\n",
    "Input: s = \"rat\", t = \"car\"\n",
    "\n",
    "Output: false"
   ]
  },
  {
   "cell_type": "code",
   "execution_count": 3,
   "id": "2a970ee2",
   "metadata": {},
   "outputs": [],
   "source": [
    "class Solution:\n",
    "    def isAnagram(self, s: str, t: str) -> bool:\n",
    "        sorted_s = sorted(s)\n",
    "        sorted_t = sorted(t)\n",
    "        return sorted_s == sorted_t"
   ]
  },
  {
   "cell_type": "code",
   "execution_count": 5,
   "id": "ddac223d",
   "metadata": {},
   "outputs": [
    {
     "name": "stdout",
     "output_type": "stream",
     "text": [
      "True\n"
     ]
    }
   ],
   "source": [
    "print(Solution().isAnagram('anagram','ramagan'))"
   ]
  },
  {
   "cell_type": "code",
   "execution_count": 1,
   "id": "b665236a",
   "metadata": {},
   "outputs": [
    {
     "name": "stdout",
     "output_type": "stream",
     "text": [
      "Solution 1: True\n"
     ]
    }
   ],
   "source": [
    "# Solution 1: Using Hash Table (Dictionary)\n",
    "class Solution1:\n",
    "    def isAnagram(self, s: str, t: str) -> bool:\n",
    "        # If lengths are different, they can't be anagrams\n",
    "        if len(s) != len(t):\n",
    "            return False\n",
    "        \n",
    "        # Create dictionaries to store character counts\n",
    "        char_count_s = {}\n",
    "        char_count_t = {}\n",
    "        \n",
    "        # Count characters in string s\n",
    "        for char in s:\n",
    "            char_count_s[char] = char_count_s.get(char, 0) + 1\n",
    "        \n",
    "        # Count characters in string t\n",
    "        for char in t:\n",
    "            char_count_t[char] = char_count_t.get(char, 0) + 1\n",
    "        \n",
    "        # Compare the dictionaries\n",
    "        return char_count_s == char_count_t\n",
    "\n",
    "# Test\n",
    "print(\"Solution 1:\", Solution1().isAnagram('anagram', 'nagaram'))"
   ]
  },
  {
   "cell_type": "code",
   "execution_count": 2,
   "id": "5dabec5b",
   "metadata": {},
   "outputs": [
    {
     "name": "stdout",
     "output_type": "stream",
     "text": [
      "Solution 2: True\n"
     ]
    }
   ],
   "source": [
    "# Solution 2: Using Counter from collections\n",
    "from collections import Counter\n",
    "\n",
    "class Solution2:\n",
    "    def isAnagram(self, s: str, t: str) -> bool:\n",
    "        # Counter creates a dictionary-like object with character counts\n",
    "        return Counter(s) == Counter(t)\n",
    "\n",
    "# Test\n",
    "print(\"Solution 2:\", Solution2().isAnagram('anagram', 'nagaram'))"
   ]
  },
  {
   "cell_type": "code",
   "execution_count": null,
   "id": "fc3380c0",
   "metadata": {},
   "outputs": [],
   "source": [
    "# Solution 3: Using character frequency array (optimized for lowercase English letters)\n",
    "class Solution3:\n",
    "    def isAnagram(self, s: str, t: str) -> bool:\n",
    "        # If lengths are different, they can't be anagrams\n",
    "        if len(s) != len(t):\n",
    "            return False\n",
    "        \n",
    "        # Create a frequency array for 26 lowercase letters\n",
    "        freq = [0] * 26\n",
    "        \n",
    "        # Increment counts for string s, decrement for string t\n",
    "        for i in range(len(s)):\n",
    "            freq[ord(s[i]) - ord('a')] += 1\n",
    "            freq[ord(t[i]) - ord('a')] -= 1\n",
    "        \n",
    "        # If all counts are zero, the strings are anagrams\n",
    "        for count in freq:\n",
    "            if count != 0:\n",
    "                return False\n",
    "                \n",
    "        return True\n",
    "\n",
    "# Test\n",
    "print(\"Solution 3:\", Solution3().isAnagram('anagram', 'nagaram'))"
   ]
  },
  {
   "cell_type": "markdown",
   "id": "69b77e0b",
   "metadata": {},
   "source": [
    "## Performance Comparison\n",
    "\n",
    "Let's compare the performance of all solutions:\n",
    "\n",
    "| Solution | Time Complexity | Space Complexity | Advantages | Disadvantages |\n",
    "|----------|----------------|-----------------|------------|---------------|\n",
    "| Sorting  | O(n log n)     | O(n)            | Simple, easy to understand | Slower for large inputs |\n",
    "| Hash Table (Dict) | O(n) | O(k) where k is unique chars | Fast for all inputs | Requires extra space |\n",
    "| Counter | O(n) | O(k) where k is unique chars | Concise, readable code | Slight overhead from Counter class |\n",
    "| Frequency Array | O(n) | O(1) - fixed size | Most memory efficient | Limited to specific character sets (e.g., lowercase a-z) |\n",
    "| One-pass Dict | O(n) | O(k) where k is unique chars | Single pass through strings | None significant |\n",
    "\n",
    "For most practical cases, the Counter solution (Solution 2) offers the best balance of readability, performance, and flexibility. If memory is a concern and you're working with a known character set (like lowercase letters only), the frequency array approach (Solution 3) is the most efficient.\n",
    "\n",
    "The one-pass dictionary solution (Solution 4) is also excellent as it combines good performance with a single pass through both strings."
   ]
  },
  {
   "cell_type": "code",
   "execution_count": null,
   "id": "af805808",
   "metadata": {},
   "outputs": [],
   "source": [
    "# Example of handling edge cases with the recommended solution\n",
    "from collections import Counter\n",
    "\n",
    "class OptimalSolution:\n",
    "    def isAnagram(self, s: str, t: str) -> bool:\n",
    "        # Handle empty strings\n",
    "        if not s and not t:\n",
    "            return True\n",
    "            \n",
    "        # Early return if lengths differ (optimization)\n",
    "        if len(s) != len(t):\n",
    "            return False\n",
    "            \n",
    "        # Use Counter for readability and efficiency\n",
    "        return Counter(s) == Counter(t)\n",
    "\n",
    "# Test edge cases\n",
    "print(\"Empty strings:\", OptimalSolution().isAnagram(\"\", \"\"))\n",
    "print(\"Different lengths:\", OptimalSolution().isAnagram(\"abc\", \"abcd\"))\n",
    "print(\"Unicode characters:\", OptimalSolution().isAnagram(\"你好世界\", \"世界你好\"))\n",
    "print(\"Same characters, different case:\", OptimalSolution().isAnagram(\"Anagram\", \"nagaram\"))"
   ]
  }
 ],
 "metadata": {
  "kernelspec": {
   "display_name": "Python 3",
   "language": "python",
   "name": "python3"
  },
  "language_info": {
   "codemirror_mode": {
    "name": "ipython",
    "version": 3
   },
   "file_extension": ".py",
   "mimetype": "text/x-python",
   "name": "python",
   "nbconvert_exporter": "python",
   "pygments_lexer": "ipython3",
   "version": "3.12.0"
  }
 },
 "nbformat": 4,
 "nbformat_minor": 5
}
