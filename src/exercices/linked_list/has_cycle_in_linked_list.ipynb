{
 "cells": [
  {
   "cell_type": "markdown",
   "id": "67d7f44b",
   "metadata": {},
   "source": [
    "141. Linked List Cycle\n",
    "Easy\n",
    "Topics\n",
    "premium lock icon\n",
    "Companies\n",
    "Given head, the head of a linked list, determine if the linked list has a cycle in it.\n",
    "\n",
    "There is a cycle in a linked list if there is some node in the list that can be reached again by continuously following the next pointer. Internally, pos is used to denote the index of the node that tail's next pointer is connected to. Note that pos is not passed as a parameter.\n",
    "\n",
    "Return true if there is a cycle in the linked list. Otherwise, return false.\n",
    "\n",
    " \n",
    "\n",
    "Example 1:\n",
    "\n",
    "![alt text](image-1.png)\n",
    "\n",
    "Input: head = [3,2,0,-4], pos = 1\n",
    "Output: true\n",
    "Explanation: There is a cycle in the linked list, where the tail connects to the 1st node (0-indexed).\n",
    "Example 2:"
   ]
  },
  {
   "cell_type": "code",
   "execution_count": null,
   "id": "4f4f358e",
   "metadata": {},
   "outputs": [
    {
     "name": "stdout",
     "output_type": "stream",
     "text": [
      "True\n"
     ]
    }
   ],
   "source": [
    "from typing import List, Optional\n",
    "\n",
    "# Definition for singly-linked list.\n",
    "class ListNode:\n",
    "    def __init__(self, x):\n",
    "        self.val = x\n",
    "        self.next = None\n",
    "\n",
    "class Solution:\n",
    "    def hasCycle(self, head: Optional[ListNode]) -> bool:\n",
    "        node_step_1 = head\n",
    "        node_step_2 = head\n",
    "\n",
    "        # Função auxiliar para pular 'steps' nós\n",
    "        def jump_step(node: Optional[ListNode], steps: int) -> Optional[ListNode]:\n",
    "            for _ in range(steps):\n",
    "                if node is None:\n",
    "                    return None\n",
    "                else:\n",
    "                    node = node.next\n",
    "            return node\n",
    "\n",
    "        while node_step_1 and node_step_2:\n",
    "            node_step_1 = jump_step(node_step_1, 1)  \n",
    "            node_step_2 = jump_step(node_step_2, 2)\n",
    "            if node_step_1 is not None and node_step_1 == node_step_2:\n",
    "                return True\n",
    "\n",
    "        return False\n",
    "\n",
    "head = ListNode(3)\n",
    "head.next = ListNode(2)\n",
    "head.next.next = ListNode(0)\n",
    "head.next.next.next = ListNode(-4)\n",
    "head.next.next.next.next = head.next\n",
    "\n",
    "sol = Solution()\n",
    "print(sol.hasCycle(head))  # \n"
   ]
  }
 ],
 "metadata": {
  "kernelspec": {
   "display_name": "Python 3",
   "language": "python",
   "name": "python3"
  },
  "language_info": {
   "codemirror_mode": {
    "name": "ipython",
    "version": 3
   },
   "file_extension": ".py",
   "mimetype": "text/x-python",
   "name": "python",
   "nbconvert_exporter": "python",
   "pygments_lexer": "ipython3",
   "version": "3.12.0"
  }
 },
 "nbformat": 4,
 "nbformat_minor": 5
}
