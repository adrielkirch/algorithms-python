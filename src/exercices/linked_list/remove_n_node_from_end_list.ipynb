{
 "cells": [
  {
   "cell_type": "markdown",
   "id": "d813a82b",
   "metadata": {},
   "source": [
    "19. Remove Nth Node From End of List\n",
    "Medium\n",
    "Topics\n",
    "premium lock icon\n",
    "Companies\n",
    "Hint\n",
    "Given the head of a linked list, remove the nth node from the end of the list and return its head.\n",
    "\n",
    "Example 1:\n",
    "\n",
    "[![alt text](image-3.png)]\n",
    "\n",
    "Input: head = [1,2,3,4,5], n = 2\n",
    "Output: [1,2,3,5]\n",
    "Example 2:\n",
    "\n",
    "Input: head = [1], n = 1\n",
    "Output: []\n",
    "Example 3:\n",
    "\n",
    "Input: head = [1,2], n = 1\n",
    "Output: [1]"
   ]
  },
  {
   "cell_type": "code",
   "execution_count": null,
   "id": "3fbc4f86",
   "metadata": {},
   "outputs": [
    {
     "name": "stdout",
     "output_type": "stream",
     "text": [
      "Lista original:\n",
      "1 -> 2 -> 3 -> 4 -> 5 -> None\n",
      "🚀 Removendo o 2º nó a partir do final...\n",
      "Índice equivalente a partir do início: 3\n",
      "\n",
      "👉 Visitando nó com valor 1 (índice 0)\n",
      "👉 Visitando nó com valor 2 (índice 1)\n",
      "👉 Visitando nó com valor 3 (índice 2)\n",
      "👉 Visitando nó com valor 4 (índice 3)\n",
      "✅ Lista final:\n",
      "1 -> 2 -> 3 -> 5 -> None\n"
     ]
    }
   ],
   "source": [
    "from typing import Optional\n",
    "\n",
    "class ListNode:\n",
    "    def __init__(self, val=0, next=None):\n",
    "        self.val = val\n",
    "        self.next = next\n",
    "\n",
    "class Solution:\n",
    "    def findOutIndexFromStart(self, head: Optional[ListNode], n: int) -> int:\n",
    "        \"\"\"Conta o tamanho total e retorna o índice do elemento a remover (a partir do início)\"\"\"\n",
    "        current = head\n",
    "        node_count = 0\n",
    "        while current:\n",
    "            node_count += 1\n",
    "            current = current.next\n",
    "        return node_count - n  # posição do nó a ser removido, contando do início (0-indexado)\n",
    "\n",
    "    def removeNthFromEnd(self, head: Optional[ListNode], n: int) -> Optional[ListNode]:\n",
    "        print(f\"🚀 Removendo o {n}º nó a partir do final...\")\n",
    "\n",
    "        n = self.findOutIndexFromStart(head, n)\n",
    "        print(f\"Índice equivalente a partir do início: {n}\\n\")\n",
    "\n",
    "        new_list = ListNode(0, head)\n",
    "        current = new_list\n",
    "        index = 0\n",
    "\n",
    "        while current.next:\n",
    "            if index == n:\n",
    "                current.next = current.next.next\n",
    "                break\n",
    "            current = current.next\n",
    "            index += 1\n",
    "\n",
    "        return new_list.next\n",
    "\n",
    "    def print_list(self, head: Optional[ListNode]):\n",
    "        current = head\n",
    "        while current:\n",
    "            print(current.val, end=\" -> \")\n",
    "            current = current.next\n",
    "        print(\"None\")\n",
    "\n",
    "head = ListNode(1, ListNode(2, ListNode(3, ListNode(4, ListNode(5)))))\n",
    "sol = Solution()\n",
    "\n",
    "print(\"Lista original:\")\n",
    "sol.print_list(head)\n",
    "\n",
    "new_list = sol.removeNthFromEnd(head, 2)\n",
    "\n",
    "print(\"✅ Lista final:\")\n",
    "sol.print_list(new_list)\n",
    "\n"
   ]
  }
 ],
 "metadata": {
  "kernelspec": {
   "display_name": "Python 3",
   "language": "python",
   "name": "python3"
  },
  "language_info": {
   "codemirror_mode": {
    "name": "ipython",
    "version": 3
   },
   "file_extension": ".py",
   "mimetype": "text/x-python",
   "name": "python",
   "nbconvert_exporter": "python",
   "pygments_lexer": "ipython3",
   "version": "3.12.0"
  }
 },
 "nbformat": 4,
 "nbformat_minor": 5
}
