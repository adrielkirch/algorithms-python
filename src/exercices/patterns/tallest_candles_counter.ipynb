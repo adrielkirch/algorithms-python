{
 "cells": [
  {
   "cell_type": "markdown",
   "id": "21c7ea4c",
   "metadata": {},
   "source": [
    "\n",
    "```markdown\n",
    "# Birthday Cake Candles\n",
    "\n",
    "You are in charge of the cake for a child's birthday. It will have **one candle for each year of their total age**. They will only be able to blow out the **tallest of the candles**. Your task is to **count how many candles are the tallest**.\n",
    "\n",
    "---\n",
    "\n",
    "### Example\n",
    "\n",
    "Suppose the candle heights are:  \n",
    "\n",
    "```\n",
    "\n",
    "[4, 4, 1, 3]\n",
    "\n",
    "```\n",
    "\n",
    "The tallest candles are 4 units high. There are 2 candles with this height, so the function should return:\n",
    "\n",
    "```\n",
    "\n",
    "2\n",
    "\n",
    "```\n",
    "\n",
    "---\n",
    "\n",
    "### Function Description\n",
    "\n",
    "Complete the function `birthdayCakeCandles` with the following parameter(s):\n",
    "\n",
    "- `candles`: an array of integers representing the candle heights\n",
    "\n",
    "**Returns:**\n",
    "\n",
    "- An integer, the number of tallest candles\n",
    "\n",
    "---\n",
    "\n",
    "### Input Format\n",
    "\n",
    "1. The first line contains a single integer, `n`, the size of `candles`.  \n",
    "2. The second line contains `n` space-separated integers, where each integer `candles[i]` describes the height of the candle.\n",
    "\n",
    "---\n",
    "\n",
    "### Constraints\n",
    "\n",
    "- `1 ≤ n ≤ 10^5`  \n",
    "- `1 ≤ candles[i] ≤ 10^7`  \n",
    "\n",
    "---\n",
    "\n",
    "### Sample Input 0\n",
    "\n",
    "```\n",
    "\n",
    "4\n",
    "3 2 1 3\n",
    "\n",
    "```\n",
    "\n",
    "### Sample Output 0\n",
    "\n",
    "```\n",
    "\n",
    "2\n",
    "\n",
    "```\n",
    "```\n",
    "\n",
    "This is now **ready to paste into a Jupyter Markdown cell**.\n",
    "\n",
    "If you want, I can also **add a small code cell template** below it so you can directly implement and test the function.\n",
    "\n",
    "Do you want me to do that?\n"
   ]
  },
  {
   "cell_type": "code",
   "execution_count": null,
   "id": "008b5462",
   "metadata": {},
   "outputs": [
    {
     "name": "stdout",
     "output_type": "stream",
     "text": [
      "3\n"
     ]
    }
   ],
   "source": [
    "# Approach 1: Traditional iterative solution\n",
    "def tallest_candles_counter_traditional(candles):\n",
    "    tallest = 0\n",
    "    count = 0\n",
    "    for candle in candles:\n",
    "        if candle > tallest:\n",
    "            tallest = candle\n",
    "            count = 1\n",
    "        elif candle == tallest:\n",
    "            count += 1\n",
    "    return count\n",
    "\n",
    "# Test with example\n",
    "print(tallest_candles_counter_traditional([4,5,6,7,4,1,7,7,3,5,5,5,5,2]))"
   ]
  },
  {
   "cell_type": "code",
   "execution_count": 4,
   "id": "1200eec7",
   "metadata": {},
   "outputs": [
    {
     "name": "stdout",
     "output_type": "stream",
     "text": [
      "5\n"
     ]
    }
   ],
   "source": [
    "# Approach 2: Using list comprehension with walrus operator\n",
    "# The walrus operator := was introduced in Python 3.8 to allow assignment in expressions\n",
    "\n",
    "def birthdayCakeCandles_list_comprehension(candles):\n",
    "    tallest = max_seen = 0\n",
    "    # iterate using inline for-style logic with walrus operator\n",
    "    counts = [(tallest := candle, count := 1) if candle > tallest else (tallest, count := count + 1) \n",
    "              for candle in candles if candle >= tallest]\n",
    "    return count\n",
    "\n",
    "# Note: This approach uses Python's walrus operator (:=) which allows assignment within expressions\n",
    "# The list comprehension creates a sequence that tracks the tallest candle and count as it goes through the list\n",
    "# It reassigns tallest when a taller candle is found and increments count when an equal-height candle is found\n",
    "# Only candles that are at least as tall as the current tallest are considered\n",
    "\n",
    "# Test with example\n",
    "print(birthdayCakeCandles_list_comprehension([4, 4, 1, 4, 4,4,1,1,1,2,2, 3]))"
   ]
  },
  {
   "cell_type": "code",
   "execution_count": 5,
   "id": "73e99c32",
   "metadata": {},
   "outputs": [
    {
     "name": "stdout",
     "output_type": "stream",
     "text": [
      "2\n"
     ]
    }
   ],
   "source": [
    "# Approach 3: Pythonic solution using built-in functions\n",
    "def birthdayCakeCandles_pythonic(candles):\n",
    "    tallest = max(candles)          # find the tallest\n",
    "    return candles.count(tallest)   # count how many candles have that height\n",
    "\n",
    "# This approach is the most concise and leverages Python's built-in functions:\n",
    "# - max(): finds the maximum value in the list in a single pass\n",
    "# - count(): counts occurrences of a specific value in the list\n",
    "#\n",
    "# This is the most readable and efficient solution for this problem in Python\n",
    "# Time complexity is O(n) as it needs to scan the list twice (once for max, once for count)\n",
    "\n",
    "# Test with example\n",
    "print(birthdayCakeCandles_pythonic([4, 4, 1, 3]))"
   ]
  },
  {
   "cell_type": "markdown",
   "id": "84bae9f5",
   "metadata": {},
   "source": [
    "# Solution Comparison\n",
    "\n",
    "We've implemented three different approaches to solve the tallest candles problem:\n",
    "\n",
    "1. **Traditional Approach**: Uses a simple loop and conditional logic to find the tallest candle and count occurrences.\n",
    "   - Easy to understand and implement\n",
    "   - Works in all Python versions\n",
    "   - Explicitly shows the logic step by step\n",
    "\n",
    "2. **List Comprehension Approach**: Uses Python's walrus operator (`:=`) for inline assignments in a list comprehension.\n",
    "   - More concise code but harder to read\n",
    "   - Requires Python 3.8+\n",
    "   - Shows advanced Python features\n",
    "   - May be less intuitive for beginners\n",
    "\n",
    "3. **Pythonic Approach**: Leverages built-in functions `max()` and `count()` to solve the problem.\n",
    "   - Most concise solution\n",
    "   - Very readable once you understand built-in functions\n",
    "   - Likely the most efficient as built-in functions are optimized\n",
    "   - Best approach for real-world Python applications\n",
    "\n",
    "## Best Practice\n",
    "For this specific problem, the third approach (Pythonic solution) is generally preferred because:\n",
    "- It's the most readable and maintainable\n",
    "- It has the least code to write and debug\n",
    "- It leverages Python's built-in optimizations\n",
    "\n",
    "However, understanding all three approaches helps develop a comprehensive understanding of Python programming concepts and styles."
   ]
  }
 ],
 "metadata": {
  "kernelspec": {
   "display_name": "Python 3",
   "language": "python",
   "name": "python3"
  },
  "language_info": {
   "codemirror_mode": {
    "name": "ipython",
    "version": 3
   },
   "file_extension": ".py",
   "mimetype": "text/x-python",
   "name": "python",
   "nbconvert_exporter": "python",
   "pygments_lexer": "ipython3",
   "version": "3.12.0"
  }
 },
 "nbformat": 4,
 "nbformat_minor": 5
}
