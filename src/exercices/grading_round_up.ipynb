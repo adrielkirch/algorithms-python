{
 "cells": [
  {
   "cell_type": "markdown",
   "id": "cd66ffc1",
   "metadata": {},
   "source": [
    "# Grading Round Up Exercise\n",
    "\n",
    "## Problem Description\n",
    "\n",
    "HackerLand University has the following grading policy:\n",
    "\n",
    "* Every student receives a grade in the inclusive range from 0 to 100.\n",
    "* Any grade less than 40 is a failing grade.\n",
    "\n",
    "Sam is a professor at the university and likes to round each student's grade according to these rules:\n",
    "\n",
    "* If the difference between the grade and the next multiple of 5 is less than 3, round grade up to the next multiple of 5.\n",
    "* If the value of grade is less than 38, no rounding occurs as the result will still be a failing grade.\n",
    "\n",
    "### Examples\n",
    "\n",
    "* grade = 84 round to 85 (85 - 84 is less than 3)\n",
    "* grade = 29 do not round (result is less than 38)\n",
    "* grade = 57 do not round (60 - 57 is 3 or higher)\n",
    "\n",
    "Given the initial value of grade for each of Sam's n students, write code to automate the rounding process.\n",
    "\n",
    "### Function Description\n",
    "\n",
    "Complete the function `gradingStudents` with the following parameter(s):\n",
    "* int grades[n]: the grades before rounding\n",
    "\n",
    "### Returns\n",
    "* int[n]: the grades after rounding\n",
    "\n",
    "### Input Format\n",
    "\n",
    "The first line contains a single integer, n, the number of students.\n",
    "Each line i of the n subsequent lines contains a single integer, grades[i].\n",
    "\n",
    "### Constraints\n",
    "* 1 ≤ n ≤ 60\n",
    "* 0 ≤ grades[i] ≤ 100\n",
    "\n",
    "### Sample Input 0\n",
    "```\n",
    "4\n",
    "73\n",
    "67\n",
    "38\n",
    "33\n",
    "```\n",
    "\n",
    "### Sample Output 0\n",
    "```\n",
    "75\n",
    "67\n",
    "40\n",
    "33\n",
    "```\n",
    "\n",
    "### Explanation 0\n",
    "\n",
    "* Student 1 received a 73, and the next multiple of 5 from 73 is 75. Since 75 - 73 < 3, the student's grade is rounded to 75.\n",
    "* Student 2 received a 67, and the next multiple of 5 from 67 is 70. Since 70 - 67 = 3, which is not less than 3, the grade will not be modified and the student's final grade is 67.\n",
    "* Student 3 received a 38, and the next multiple of 5 from 38 is 40. Since 40 - 38 < 3, the student's grade will be rounded to 40.\n",
    "* Student 4 received a grade below 38, so the grade will not be modified and the student's final grade is 33."
   ]
  },
  {
   "cell_type": "markdown",
   "id": "c43a1794",
   "metadata": {},
   "source": [
    "## Solution"
   ]
  },
  {
   "cell_type": "code",
   "execution_count": null,
   "id": "4a045754",
   "metadata": {},
   "outputs": [],
   "source": [
    "\"\"\"\n",
    "38 / 5 => 7 rest 3  (5-3) = 2 + 38 = 40\n",
    "\n",
    "49 / 5 => 9 rest 4 ; (5-4) = 1 + 49 = 50\n",
    "\n",
    "73 / 5 => 14 rest 3; (5 - 3) = 2 + 73  = 75\n",
    " \n",
    "72 / 5 => 14 rest 2; (5 - 2) = 3 + 72 = 75 ❌\n",
    "\n",
    "50 / 5 => 10 rest 0; (5 - 0) = 5 + 75 = 80 ❌\n",
    "\"\"\"\n",
    "\n",
    "def gradingStudents(grades):\n",
    "    for i, grade in enumerate(grades):\n",
    "        # Calculate modulo and next multiple of 5\n",
    "        mod_five = grade % 5\n",
    "        diff_next_multiple_five = 5 - mod_five\n",
    "        \n",
    "        # Apply rounding rule\n",
    "        if grade >= 38 and diff_next_multiple_five < 3 and mod_five > 0:\n",
    "            grade = grade + diff_next_multiple_five\n",
    "            grades[i] = grade\n",
    "            \n",
    "    return grades"
   ]
  },
  {
   "cell_type": "markdown",
   "id": "a5048d0c",
   "metadata": {},
   "source": [
    "Pythoner lookalike using list comprehesion [grade for grade in grades]"
   ]
  },
  {
   "cell_type": "code",
   "execution_count": 5,
   "id": "34ac5995",
   "metadata": {},
   "outputs": [],
   "source": [
    "def gradingStudents(grades):\n",
    "    new_list  = [\n",
    "       grade + (5 - grade % 5) if grade >= 38 and (5 - grade % 5) < 3\n",
    "       else grade\n",
    "       for grade in grades  \n",
    "    ]\n",
    "    return new_list"
   ]
  },
  {
   "cell_type": "code",
   "execution_count": 7,
   "id": "702e4dc6",
   "metadata": {},
   "outputs": [],
   "source": [
    "def gradingStudents(grades):\n",
    "    new_list  = [\n",
    "       grade if grade < 38 or (5 - grade % 5) >= 3\n",
    "       else grade + (5 - grade % 5)\n",
    "       for grade in grades  \n",
    "    ]\n",
    "    return new_list"
   ]
  },
  {
   "cell_type": "markdown",
   "id": "0052f198",
   "metadata": {},
   "source": [
    "## Testing the Solution"
   ]
  },
  {
   "cell_type": "code",
   "execution_count": 8,
   "id": "9a036df0",
   "metadata": {},
   "outputs": [
    {
     "name": "stdout",
     "output_type": "stream",
     "text": [
      "Input: [73, 67, 38, 33]\n",
      "Output: [75, 67, 40, 33]\n",
      "Expected Output: [75, 67, 40, 33]\n"
     ]
    }
   ],
   "source": [
    "# Test case from the problem description\n",
    "test_grades = [73, 67, 38, 33]\n",
    "result = gradingStudents(test_grades)\n",
    "print(\"Input:\", test_grades)\n",
    "print(\"Output:\", result)\n",
    "print(\"Expected Output: [75, 67, 40, 33]\")"
   ]
  },
  {
   "cell_type": "markdown",
   "id": "664fad1d",
   "metadata": {},
   "source": [
    "### Additional Test Cases"
   ]
  }
 ],
 "metadata": {
  "kernelspec": {
   "display_name": "Python 3",
   "language": "python",
   "name": "python3"
  },
  "language_info": {
   "codemirror_mode": {
    "name": "ipython",
    "version": 3
   },
   "file_extension": ".py",
   "mimetype": "text/x-python",
   "name": "python",
   "nbconvert_exporter": "python",
   "pygments_lexer": "ipython3",
   "version": "3.12.0"
  }
 },
 "nbformat": 4,
 "nbformat_minor": 5
}
