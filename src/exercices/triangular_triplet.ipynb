{
 "cells": [
  {
   "cell_type": "markdown",
   "metadata": {},
   "source": [
    " # Triangular Triplet Problem\n",
    " \n",
    " **A zero-indexed array A consisting of N integers is given.**\n",
    " \n",
    " A triplet (P, Q, R) is triangular if 0 ≤ P < Q < R < N and:\n",
    " \n",
    " - A[P] + A[Q] > A[R],\n",
    " - A[Q] + A[R] > A[P],\n",
    " - A[R] + A[P] > A[Q].\n",
    " \n",
    "  Example\n",
    " \n",
    " Consider the array A such that:\n",
    " \n",
    " - A[0] = 10\n",
    " - A[1] = 2\n",
    " - A[2] = 5\n",
    " - A[3] = 1\n",
    " - A[4] = 8\n",
    " - A[5] = 20\n",
    " \n",
    " Triplet (0, 2, 4) is triangular.\n",
    " \n",
    "  Task\n",
    " \n",
    " Write a function:\n",
    " \n",
    " ```python\n",
    " def solution(arr: list[int]) -> int:\n",
    " ```\n",
    " \n",
    " that, given a zero-indexed array A consisting of N integers, returns 1 if there exists a triangular triplet for this array and returns 0 otherwise.\n",
    " \n",
    "  Examples\n",
    " \n",
    " **Example 1:**\n",
    " \n",
    " Given array A such that:\n",
    " \n",
    " - A[0] = 10\n",
    " - A[1] = 2\n",
    " - A[2] = 5\n",
    " - A[3] = 1\n",
    " - A[4] = 8\n",
    " - A[5] = 20\n",
    " \n",
    " The function should return 1, as explained above.\n",
    " \n",
    " **Example 2:**\n",
    " \n",
    " Given array A such that:\n",
    " \n",
    " - A[0] = 10\n",
    " - A[1] = 50\n",
    " - A[2] = 5\n",
    " - A[3] = 1\n",
    " \n",
    " The function should return 0.\n",
    " \n",
    "  Assumptions\n",
    " \n",
    " - N is an integer within the range [0..100,000].\n",
    " - Each element of array A is an integer within the range [-2,147,483,648..2,147,483,647].\n",
    " \n",
    "  Expected Complexity\n",
    " \n",
    " - Expected worst-case time complexity is O(N*log(N)).\n",
    " - Expected worst-case space complexity is O(N), beyond input storage (not counting the storage required for input arguments).\n",
    " - Elements of input arrays can be modified."
   ]
  },
  {
   "cell_type": "code",
   "execution_count": 1,
   "metadata": {},
   "outputs": [
    {
     "name": "stdout",
     "output_type": "stream",
     "text": [
      "1\n"
     ]
    }
   ],
   "source": [
    "# Time complexity\n",
    "def isTriangulatTriplet(arr: list[int]) -> int:\n",
    "    length = len(arr)\n",
    "\n",
    "    if length < 3:\n",
    "        return 0\n",
    "\n",
    "  \n",
    "    arr.sort()\n",
    "\n",
    "    for i in range(length - 2):\n",
    "        if arr[i] + arr[i + 1] > arr[i + 2]:\n",
    "            return 1\n",
    "    return 0\n",
    "\n",
    "\n",
    "list = [10, 2, 5, 1, 8, 20]\n",
    "\n",
    "print(isTriangulatTriplet(list))\n"
   ]
  }
 ],
 "metadata": {
  "kernelspec": {
   "display_name": "Python 3",
   "language": "python",
   "name": "python3"
  },
  "language_info": {
   "codemirror_mode": {
    "name": "ipython",
    "version": 3
   },
   "file_extension": ".py",
   "mimetype": "text/x-python",
   "name": "python",
   "nbconvert_exporter": "python",
   "pygments_lexer": "ipython3",
   "version": "3.10.12"
  }
 },
 "nbformat": 4,
 "nbformat_minor": 2
}
