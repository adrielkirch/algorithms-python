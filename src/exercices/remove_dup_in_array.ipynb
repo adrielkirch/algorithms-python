{
 "cells": [
  {
   "cell_type": "markdown",
   "id": "dc3f2c5d",
   "metadata": {},
   "source": [
    "🎯 Goal\n",
    "\n",
    "Given an array nums, return a new array with duplicates removed, keeping the first occurrence of each element.\n",
    "\n",
    "Example\n",
    "\n",
    "Input:  [3, 4, 1, 2, 5, 1, 4, 2]\n",
    "Output: [3, 4, 1, 2, 5]"
   ]
  },
  {
   "cell_type": "code",
   "execution_count": 3,
   "id": "1ce0652d",
   "metadata": {},
   "outputs": [
    {
     "name": "stdout",
     "output_type": "stream",
     "text": [
      "[3, 4, 1, 2, 5, 0]\n"
     ]
    }
   ],
   "source": [
    "class Solution:\n",
    "    def removesDuplicates(self, nums) -> bool:\n",
    "        \"\"\"\n",
    "        array of nums\n",
    "\n",
    "        return the final list with no duplicates\n",
    "         \n",
    "        \"\"\"\n",
    "        no_dup = []\n",
    "        for num in nums:\n",
    "            if num not in no_dup:\n",
    "                no_dup.append(num)\n",
    "        return no_dup\n",
    "        \n",
    "nums = [3, 4, 1, 2, 5, 1, 4, 2, 0, 0, 1]\n",
    "print(Solution().removesDuplicates(nums))\n"
   ]
  },
  {
   "cell_type": "code",
   "execution_count": null,
   "id": "d4d8a7b7",
   "metadata": {},
   "outputs": [
    {
     "name": "stdout",
     "output_type": "stream",
     "text": [
      "[0, 1, 2, 3, 4, 5]\n"
     ]
    }
   ],
   "source": [
    "class Solution:\n",
    "    def removesDuplicates(self, nums) -> bool:\n",
    "        \"\"\"\n",
    "        array of nums\n",
    "\n",
    "        return the final list with no duplicates\n",
    "         \n",
    "        \"\"\"\n",
    "        s = set()\n",
    "        for num in nums:\n",
    "            s.add(num)\n",
    "        return list(s)\n",
    "        \n",
    "nums = [3, 4, 1, 2, 5, 1, 4, 2, 0, 0, 1]\n",
    "print(Solution().removesDuplicates(nums))\n"
   ]
  }
 ],
 "metadata": {
  "kernelspec": {
   "display_name": "Python 3",
   "language": "python",
   "name": "python3"
  },
  "language_info": {
   "codemirror_mode": {
    "name": "ipython",
    "version": 3
   },
   "file_extension": ".py",
   "mimetype": "text/x-python",
   "name": "python",
   "nbconvert_exporter": "python",
   "pygments_lexer": "ipython3",
   "version": "3.12.0"
  }
 },
 "nbformat": 4,
 "nbformat_minor": 5
}
