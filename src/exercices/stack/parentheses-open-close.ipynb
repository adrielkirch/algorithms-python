{
 "cells": [
  {
   "cell_type": "markdown",
   "id": "7cfd8c1c",
   "metadata": {},
   "source": [
    "# Valid Parentheses Problem\n",
    "\n",
    "## Problem Description\n",
    "\n",
    "Given a string containing just the characters `'('`, `')'`, `'{'`, `'}'`, `'['` and `']'`, determine if the input string is valid.\n",
    "\n",
    "An input string is valid if:\n",
    "1. Open brackets must be closed by the same type of brackets.\n",
    "2. Open brackets must be closed in the correct order.\n",
    "3. Every close bracket has a corresponding open bracket of the same type.\n",
    "\n",
    "**Examples:**\n",
    "- `\"()\"` → `true`\n",
    "- `\"()[]{}\"` → `true`\n",
    "- `\"(]\"` → `false`\n",
    "- `\"([)]\"` → `false`\n",
    "- `\"{[]}\"` → `true`\n",
    "\n",
    "## Approach: Using a Stack\n",
    "\n",
    "This is a classic problem that can be solved efficiently using a **stack** data structure. Here's how the approach works:\n",
    "\n",
    "1. Initialize an empty stack.\n",
    "2. Iterate through each character in the string.\n",
    "3. If the character is an opening bracket (`(`, `{`, or `[`), push it onto the stack.\n",
    "4. If the character is a closing bracket (`)`， `}`, or `]`), check if the stack is empty. If it is, return `false`.\n",
    "5. If the stack is not empty, pop the top element from the stack and check if it's the matching opening bracket for the current closing bracket. If not, return `false`.\n",
    "6. After processing all characters, check if the stack is empty. If it is, return `true` (all brackets were matched), otherwise return `false` (some opening brackets were not matched).\n",
    "\n",
    "Let's implement this solution!"
   ]
  },
  {
   "cell_type": "code",
   "execution_count": 1,
   "id": "7e18a8ce",
   "metadata": {},
   "outputs": [],
   "source": [
    "def is_valid_parentheses(s):\n",
    "    \"\"\"\n",
    "    Function to check if the string has valid parentheses\n",
    "    \n",
    "    Args:\n",
    "        s (str): A string containing only parentheses characters '(', ')', '{', '}', '[', ']'\n",
    "        \n",
    "    Returns:\n",
    "        bool: True if the string has valid parentheses, False otherwise\n",
    "    \"\"\"\n",
    "    # Create a mapping of closing brackets to their corresponding opening brackets\n",
    "    bracket_map = {')': '(', '}': '{', ']': '['}\n",
    "    \n",
    "    # Initialize an empty stack\n",
    "    stack = []\n",
    "    \n",
    "    # Iterate through each character in the string\n",
    "    for char in s:\n",
    "        # If the character is a closing bracket\n",
    "        if char in bracket_map:\n",
    "            # Pop the top element from stack if it's not empty, otherwise use a dummy value '#'\n",
    "            top_element = stack.pop() if stack else '#'\n",
    "            \n",
    "            # Check if the popped element matches the corresponding opening bracket\n",
    "            if bracket_map[char] != top_element:\n",
    "                return False\n",
    "        else:\n",
    "            # If it's an opening bracket, push it onto the stack\n",
    "            stack.append(char)\n",
    "    \n",
    "    # If the stack is empty, all brackets were matched\n",
    "    return len(stack) == 0"
   ]
  },
  {
   "cell_type": "code",
   "execution_count": null,
   "id": "1517bf73",
   "metadata": {},
   "outputs": [
    {
     "name": "stdout",
     "output_type": "stream",
     "text": [
      "Test #1: '()' → Expected: True, Got: True ✅ PASS\n",
      "Test #2: '()[]{}' → Expected: True, Got: True ✅ PASS\n",
      "Test #3: '(]' → Expected: False, Got: False ✅ PASS\n",
      "Test #4: '([)]' → Expected: False, Got: False ✅ PASS\n",
      "Test #5: '{[]}' → Expected: True, Got: True ✅ PASS\n",
      "Test #6: '' → Expected: True, Got: True ✅ PASS\n",
      "Test #7: '((' → Expected: False, Got: False ✅ PASS\n",
      "Test #8: '))' → Expected: False, Got: False ✅ PASS\n",
      "Test #9: '([]{})' → Expected: True, Got: True ✅ PASS\n",
      "Test #10: '{[(a)(a)]}' → Expected: True, Got: False ❌ FAIL\n"
     ]
    }
   ],
   "source": [
    "# Test cases\n",
    "test_cases = [\n",
    "    (\"()\", True),                 # Simple case with matching parentheses\n",
    "    (\"()[]{}\", True),             # Multiple different types of valid parentheses\n",
    "    (\"(]\", False),                # Mismatched brackets\n",
    "    (\"([)]\", False),              # Correct brackets but wrong order\n",
    "    (\"{[]}\", True),               # Nested brackets\n",
    "    (\"\", True),                   # Empty string (valid by default)\n",
    "    (\"((\", False),                # Unclosed brackets\n",
    "    (\"))\", False),                # Unopened brackets\n",
    "    (\"([]{})\", True),             # Nested and sequential combination\n",
    "    (\"{[()()]}\", True)            # Complex nesting\n",
    "]\n",
    "\n",
    "# Run the test cases\n",
    "for i, (test_string, expected) in enumerate(test_cases):\n",
    "    result = is_valid_parentheses(test_string)\n",
    "    status = \"✅ PASS\" if result == expected else \"❌ FAIL\"\n",
    "    print(f\"Test #{i+1}: '{test_string}' → Expected: {expected}, Got: {result} {status}\")"
   ]
  }
 ],
 "metadata": {
  "kernelspec": {
   "display_name": "Python 3",
   "language": "python",
   "name": "python3"
  },
  "language_info": {
   "codemirror_mode": {
    "name": "ipython",
    "version": 3
   },
   "file_extension": ".py",
   "mimetype": "text/x-python",
   "name": "python",
   "nbconvert_exporter": "python",
   "pygments_lexer": "ipython3",
   "version": "3.12.0"
  }
 },
 "nbformat": 4,
 "nbformat_minor": 5
}
