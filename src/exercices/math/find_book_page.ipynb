{
 "cells": [
  {
   "cell_type": "markdown",
   "id": "d6013a65",
   "metadata": {},
   "source": [
    "# Find Book Page - Minimum Page Turns\n",
    "\n",
    "## Problem Description\n",
    "\n",
    "A teacher asks the class to open their books to a page number. A student can either start turning pages from the front of the book or from the back of the book. They always turn pages one at a time. When they open the book, page 1 is always on the right side.\n",
    "\n",
    "Untitled Diagram(4).png\n",
    "\n",
    "When they flip page 1, they see pages 2 and 3. Each page except the last page will always be printed on both sides. The last page may only be printed on the front, given the length of the book.\n",
    "\n",
    "**Goal**: Find the minimum number of pages that must be turned to arrive at page p, starting from either the beginning or end of the book.\n",
    "\n",
    "![alt text](image.png)\n",
    "\n",
    "## Understanding the Problem\n",
    "\n",
    "- Pages are paired: (1), (2,3), (4,5), (6,7), etc.\n",
    "- Return the minimum of these two values"
   ]
  },
  {
   "cell_type": "code",
   "execution_count": 23,
   "id": "74fb5f92",
   "metadata": {},
   "outputs": [
    {
     "name": "stdout",
     "output_type": "stream",
     "text": [
      "Book with 8 pages, target page 3\n",
      "start: [None, 1] <=> end: (8, None)\n",
      "start: [2, 3] <=> end: [7, 6]\n",
      "start: [4, 5] <=> end: [6, 5]\n",
      "Minimum pages to turn: 2\n"
     ]
    }
   ],
   "source": [
    "def pageCount(n, p):\n",
    "    # Test the solution with the example from the problem\n",
    "    n = 8  # Total pages\n",
    "    p = 5  # Target page\n",
    "\n",
    "    start = [None,1]\n",
    "    end = [n-1,n] if n%2 > 0 else (n,None)\n",
    "    print(f\"start: {start} <=> end: {end}\")\n",
    "\n",
    "    if p in start or p in end:\n",
    "         return 0\n",
    "    \n",
    "    for i in range(1,n):\n",
    "        if p in start or p in end:\n",
    "            return i-1\n",
    "        start, end = [start[1]+1,start[1]+2],[end[0]-1,end[0]-2]\n",
    "        print(f\"start: {start} <=> end: {end}\")\n",
    "\n",
    "\n",
    "n=8\n",
    "p=3\n",
    "print(f\"Book with {n} pages, target page {p}\")\n",
    "print(f\"Minimum pages to turn: {pageCount(8, 4)}\")\n",
    "\n",
    "\n"
   ]
  },
  {
   "cell_type": "code",
   "execution_count": 24,
   "id": "6767cfea",
   "metadata": {},
   "outputs": [
    {
     "name": "stdout",
     "output_type": "stream",
     "text": [
      "Book with 8 pages, target page 4\n",
      "Minimum pages to turn: 2\n"
     ]
    }
   ],
   "source": [
    "def pageCount(n, p):\n",
    "    \"\"\"\n",
    "    1 |1flip| 23 |2flip| 45 |3flip| 67 |4flip| 8\n",
    "\n",
    "    direita até esquerda \n",
    "\n",
    "    se 5 é 2 flips 5//2 = 2\n",
    "    se 7 é 3 flips 7//2 = 3\n",
    "\n",
    "    1 |1flip| 23 |2flip| 45 |3flip| 67 |4flip| 8\n",
    "    \n",
    "    se pegar o total seria n//2 - p//2\n",
    "    \"\"\"\n",
    "    flips_start = n//2\n",
    "    flips_end = n//2 - p//2\n",
    "    return min(flips_start,flips_end)\n",
    "\n",
    "n=8\n",
    "p=4\n",
    "print(f\"Book with {n} pages, target page {p}\")\n",
    "print(f\"Minimum pages to turn: {pageCount(8, 4)}\")"
   ]
  }
 ],
 "metadata": {
  "kernelspec": {
   "display_name": "Python 3",
   "language": "python",
   "name": "python3"
  },
  "language_info": {
   "codemirror_mode": {
    "name": "ipython",
    "version": 3
   },
   "file_extension": ".py",
   "mimetype": "text/x-python",
   "name": "python",
   "nbconvert_exporter": "python",
   "pygments_lexer": "ipython3",
   "version": "3.12.0"
  }
 },
 "nbformat": 4,
 "nbformat_minor": 5
}
