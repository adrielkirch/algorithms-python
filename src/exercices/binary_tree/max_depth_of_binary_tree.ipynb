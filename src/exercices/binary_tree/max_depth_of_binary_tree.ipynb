{
 "cells": [
  {
   "cell_type": "markdown",
   "id": "774b7e94",
   "metadata": {},
   "source": [
    "104. Maximum Depth of Binary Tree\n",
    "\n",
    "Given the root of a binary tree, return its maximum depth.\n",
    "\n",
    "A binary tree's maximum depth is the number of nodes along the longest path from the root node down to the farthest leaf node.\n",
    "\n",
    " \n",
    "Example 1:\n",
    "\n",
    "Input: root = [3,9,20,null,null,15,7]\n",
    "Output: 3\n",
    "Example 2:\n",
    "\n",
    "Input: root = [1,null,2]\n",
    "Output: 2\n",
    " \n",
    "\n",
    "Constraints:\n",
    "\n",
    "The number of nodes in the tree is in the range [0, 104].\n",
    "-100 <= Node.val <= 100\n"
   ]
  },
  {
   "cell_type": "markdown",
   "id": "4f95189e",
   "metadata": {},
   "source": [
    "# Cria uma árvore:\n",
    "#        1\n",
    "#       / \\\n",
    "#      2   3\n",
    "#     / \\\n",
    "#    4   5\n",
    "\n",
    "- Initial queue: [1]\n",
    "\n",
    "    Process node 1\n",
    "\n",
    "    Add 2 and 3 to the queue\n",
    "\n",
    "    End of level → max_depth = 1\n",
    "\n",
    "- Queue: [2, 3]\n",
    "\n",
    "    Process 2 → add 4 and 5\n",
    "\n",
    "    Process 3 → add nothing (no children)\n",
    "\n",
    "- End of level → max_depth = 2\n",
    "\n",
    "    Queue: [4, 5]\n",
    "\n",
    "    Process 4 → no children\n",
    "\n",
    "    Process 5 → no children\n",
    "\n",
    "- End of level → max_depth = 3"
   ]
  },
  {
   "cell_type": "code",
   "execution_count": 10,
   "id": "9a445b5a",
   "metadata": {},
   "outputs": [
    {
     "name": "stdout",
     "output_type": "stream",
     "text": [
      "1\n"
     ]
    }
   ],
   "source": [
    "\n",
    "from collections import deque\n",
    "\n",
    "class TreeNode(object):\n",
    "    def __init__(self, val=0, left=None, right=None):\n",
    "        self.val = val\n",
    "        self.left = left\n",
    "        self.right = right\n",
    "    \n",
    "class Solution(object):\n",
    "    def maxDepth(self, root):\n",
    "      depth = 0\n",
    "      if not root:\n",
    "        return 0\n",
    "      queue = deque([root])\n",
    "       \n",
    "      while len(queue) > 0:\n",
    "        path_size = len(queue)\n",
    "        for _ in range(path_size):\n",
    "            node = queue.popleft()\n",
    "            if node.left:\n",
    "                queue.append(node.left)\n",
    "            if node.right:\n",
    "                queue.append(node.right)\n",
    "            depth += 1\n",
    "        return depth\n",
    "            \n",
    "\n",
    "root = TreeNode(1)\n",
    "root.left = TreeNode(2, TreeNode(4), TreeNode(5))\n",
    "root.right = TreeNode(3)\n",
    "\n",
    "print(Solution().maxDepth(root))"
   ]
  }
 ],
 "metadata": {
  "kernelspec": {
   "display_name": "Python 3",
   "language": "python",
   "name": "python3"
  },
  "language_info": {
   "codemirror_mode": {
    "name": "ipython",
    "version": 3
   },
   "file_extension": ".py",
   "mimetype": "text/x-python",
   "name": "python",
   "nbconvert_exporter": "python",
   "pygments_lexer": "ipython3",
   "version": "3.12.0"
  }
 },
 "nbformat": 4,
 "nbformat_minor": 5
}
