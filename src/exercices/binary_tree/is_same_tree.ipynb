{
 "cells": [
  {
   "cell_type": "markdown",
   "id": "fe703fa0",
   "metadata": {},
   "source": [
    "100. Same Tree\n",
    "\n",
    "Given the roots of two binary trees p and q, write a function to check if they are the same or not.\n",
    "\n",
    "Two binary trees are considered the same if they are structurally identical, and the nodes have the same value.\n",
    "\n",
    "\n",
    "Example 1:\n",
    "\n",
    "Input: p = [1,2,3], q = [1,2,3]\n",
    "Output: true\n",
    "Example 2:\n",
    "\n",
    "\n",
    "Input: p = [1,2], q = [1,null,2]\n",
    "Output: false\n",
    "Example 3:\n",
    "\n",
    "\n",
    "Input: p = [1,2,1], q = [1,1,2]\n",
    "Output: false"
   ]
  },
  {
   "cell_type": "code",
   "execution_count": 4,
   "id": "705bc084",
   "metadata": {},
   "outputs": [
    {
     "name": "stdout",
     "output_type": "stream",
     "text": [
      "False\n"
     ]
    }
   ],
   "source": [
    "\n",
    "from collections import deque\n",
    "\n",
    "class TreeNode(object):\n",
    "    def __init__(self, val=0, left=None, right=None):\n",
    "        self.val = val\n",
    "        self.left = left\n",
    "        self.right = right\n",
    "\n",
    "class Solution(object):\n",
    "    def isSameTree(self, p, q):\n",
    "        \"\"\"\n",
    "        :type p: Optional[TreeNode]\n",
    "        :type q: Optional[TreeNode]\n",
    "        :rtype: bool\n",
    "        \"\"\"\n",
    "        if not p and not q:\n",
    "            return True\n",
    "        if not p or not q:\n",
    "            return False\n",
    "        \n",
    "        queue_a = deque([p])\n",
    "        queue_b = deque([q])\n",
    "\n",
    "        while queue_a or queue_b:\n",
    "            node_a, node_b = queue_a.popleft(), queue_b.popleft()\n",
    "\n",
    "            if node_a.val != node_b:\n",
    "                return False\n",
    "            #Left\n",
    "            if  (node_a.left and not node_b.left) or (not node_a.left and node_b.left):\n",
    "                 return False\n",
    "\n",
    "            if node_a.left and node_b.left:\n",
    "                queue_a.append(node_a.left)\n",
    "                queue_b.append(node_b.left)\n",
    "            #Right\n",
    "            if  (node_a.right and not node_b.right) or (not node_a.right and node_b.right):\n",
    "                 return False\n",
    "\n",
    "            if node_a.right and node_b.right:\n",
    "                queue_a.append(node_a.right)\n",
    "                queue_b.append(node_b.right)\n",
    "        return True        \n",
    "            \n",
    "\n",
    "p = TreeNode(1, TreeNode(2), TreeNode(3))\n",
    "q = TreeNode(1, TreeNode(2), TreeNode(3))\n",
    "print(Solution().isSameTree(p, q))\n"
   ]
  }
 ],
 "metadata": {
  "kernelspec": {
   "display_name": "Python 3",
   "language": "python",
   "name": "python3"
  },
  "language_info": {
   "codemirror_mode": {
    "name": "ipython",
    "version": 3
   },
   "file_extension": ".py",
   "mimetype": "text/x-python",
   "name": "python",
   "nbconvert_exporter": "python",
   "pygments_lexer": "ipython3",
   "version": "3.12.0"
  }
 },
 "nbformat": 4,
 "nbformat_minor": 5
}
