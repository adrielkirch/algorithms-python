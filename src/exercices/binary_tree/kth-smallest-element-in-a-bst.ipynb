{
 "cells": [
  {
   "cell_type": "markdown",
   "id": "33dfec5d",
   "metadata": {},
   "source": [
    "\n",
    "Given the root of a binary search tree, and an integer k, return the kth smallest value (1-indexed) of all the values of the nodes in the tree.\n",
    "\n",
    " \n",
    "Example 1:\n",
    "\n",
    "![alt text](image-4.png)\n",
    "\n",
    "Input: root = [3,1,4,null,2], k = 1\n",
    "Output: 1\n",
    "\n",
    "Example 2:\n",
    "\n",
    "![alt text](image-5.png)\n",
    "\n",
    "Input: root = [5,3,6,2,4,null,null,1], k = 3\n",
    "Output: 3\n",
    " \n",
    "Constraints:\n",
    "\n",
    "The number of nodes in the tree is n.\n",
    "1 <= k <= n <= 104\n",
    "0 <= Node.val <= 104\n",
    " \n",
    "Follow up: If the BST is modified often (i.e., we can do insert and delete operations) and you need to find the kth smallest frequently, how would you optimize?"
   ]
  },
  {
   "cell_type": "code",
   "execution_count": null,
   "id": "9a0af587",
   "metadata": {},
   "outputs": [],
   "source": [
    "# Definition for a binary tree node.\n",
    "class TreeNode(object):\n",
    "    def __init__(self, val=0, left=None, right=None):\n",
    "        self.val = val\n",
    "        self.left = left\n",
    "        self.right = right\n",
    "\n",
    "class Solution(object):\n",
    "    def kthSmallest(self, root, k):\n",
    "        \"\"\"\n",
    "        :type root: Optional[TreeNode]\n",
    "        :type k: int\n",
    "        :rtype: int\n",
    "        \"\"\"\n",
    "        # Method 1: Recursive in-order traversal with a counter\n",
    "        self.k = k\n",
    "        self.result = None\n",
    "        \n",
    "        def inorder(node):\n",
    "            if not node or self.result is not None:\n",
    "                return\n",
    "            \n",
    "            # Visit left subtree\n",
    "            inorder(node.left)\n",
    "            \n",
    "            # Visit current node\n",
    "            self.k -= 1\n",
    "            if self.k == 0:\n",
    "                self.result = node.val\n",
    "                return\n",
    "            \n",
    "            # Visit right subtree\n",
    "            inorder(node.right)\n",
    "        \n",
    "        inorder(root)\n",
    "        return self.result"
   ]
  }
 ],
 "metadata": {
  "language_info": {
   "name": "python"
  }
 },
 "nbformat": 4,
 "nbformat_minor": 5
}
