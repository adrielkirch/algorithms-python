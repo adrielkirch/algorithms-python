{
 "cells": [
  {
   "cell_type": "markdown",
   "id": "907921bc",
   "metadata": {},
   "source": [
    "105. Construct Binary Tree from Preorder and Inorder Traversal\n",
    "\n",
    "Given two integer arrays preorder and inorder where preorder is the preorder traversal of a binary tree and inorder is the inorder traversal of the same tree, construct and return the binary tree.\n",
    "\n",
    "Example 1:\n",
    "\n",
    "![alt text](image-3.png)\n",
    "\n",
    "Input: preorder = [3,9,20,15,7], inorder = [9,3,15,20,7]\n",
    "Output: [3,9,20,null,null,15,7]\n",
    "Example 2:\n",
    " \n",
    "\n",
    "Constraints:\n",
    "\n",
    "1 <= preorder.length <= 3000\n",
    "inorder.length == preorder.length\n",
    "-3000 <= preorder[i], inorder[i] <= 3000\n",
    "preorder and inorder consist of unique values.\n",
    "Each value of inorder also appears in preorder.\n",
    "preorder is guaranteed to be the preorder traversal of the tree.\n",
    "inorder is guaranteed to be the inorder traversal of the tree."
   ]
  },
  {
   "cell_type": "code",
   "execution_count": null,
   "id": "22a3b583",
   "metadata": {},
   "outputs": [],
   "source": [
    "# Implementação da solução\n",
    "\n",
    "class TreeNode:\n",
    "    def __init__(self, val=0, left=None, right=None):\n",
    "        self.val = val\n",
    "        self.left = left\n",
    "        self.right = right\n",
    "\n",
    "class Solution:\n",
    "    def buildTree(self, preorder, inorder):\n",
    "        \"\"\"\n",
    "        :type preorder: List[int]\n",
    "        :type inorder: List[int]\n",
    "        :rtype: TreeNode\n",
    "        \"\"\"\n",
    "        if not preorder or not inorder:\n",
    "            return None\n",
    "        \n",
    "        # O primeiro elemento do preorder é sempre a raiz\n",
    "        root_val = preorder[0]\n",
    "        root = TreeNode(root_val)\n",
    "        \n",
    "        # Encontrar índice da raiz no inorder\n",
    "        root_idx = inorder.index(root_val)\n",
    "        \n",
    "        # Dividir os arrays para as subárvores esquerda e direita\n",
    "        # Subárvore esquerda\n",
    "        left_inorder = inorder[:root_idx]\n",
    "        left_preorder = preorder[1:1+len(left_inorder)]\n",
    "        \n",
    "        # Subárvore direita\n",
    "        right_inorder = inorder[root_idx+1:]\n",
    "        right_preorder = preorder[1+len(left_inorder):]\n",
    "        \n",
    "        # Construir recursivamente as subárvores\n",
    "        root.left = self.buildTree(left_preorder, left_inorder)\n",
    "        root.right = self.buildTree(right_preorder, right_inorder)\n",
    "        \n",
    "        return root"
   ]
  }
 ],
 "metadata": {
  "language_info": {
   "name": "python"
  }
 },
 "nbformat": 4,
 "nbformat_minor": 5
}
