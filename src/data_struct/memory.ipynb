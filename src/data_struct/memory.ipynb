{
 "cells": [
  {
   "cell_type": "markdown",
   "metadata": {},
   "source": [
    "# Introduction to Memory in Python\n",
    "\n",
    "Memory management in Python involves understanding how data is stored and accessed within the computer's memory. When you store an item in memory, the computer allocates space and provides you with an address where the item can be stored.\n",
    "\n",
    "### Assignment and References\n",
    "\n",
    "In Python, assigning a variable behaves differently based on the type of data:\n",
    "\n",
    "- **Primitive Types**: Variables holding primitive types (int, float, etc.) directly store their values in memory.\n",
    "- **Object References**: Variables referencing objects (arrays, lists, functions) store references (pointers) to the object's memory location.\n",
    "\n",
    "When you assign an object (like an array or a function), you're actually working with a reference to that object's location in memory. This means changes to the object reflect everywhere it's referenced.\n",
    "\n",
    "Understanding these concepts helps in choosing the right data structure for specific use cases, optimizing memory usage, and ensuring efficient program execution.\n"
   ]
  },
  {
   "cell_type": "code",
   "execution_count": 23,
   "metadata": {},
   "outputs": [
    {
     "name": "stdout",
     "output_type": "stream",
     "text": [
      "num1 = 2\n",
      "num2 = 2\n",
      "num1 = 2\n",
      "num2 = 3\n",
      "--------\n",
      "str1 = world\n",
      "str2 = world\n",
      "str1 = world\n",
      "str2 = world!\n"
     ]
    }
   ],
   "source": [
    "#For primitives, assign to a new variable will deep copy the element and assign to a new memory location\n",
    "\n",
    "#Numbers\n",
    "num1 = 1\n",
    "num2 = 2\n",
    "\n",
    "# Assigning num2 to num1 (deep copy)\n",
    "num1 = num2\n",
    "\n",
    "print(\"num1 = %d\" % num1)\n",
    "print(\"num2 = %d\" % num2)\n",
    "\n",
    "num2 = num2 + 1\n",
    "\n",
    "print(\"num1 = %d\" % num1)\n",
    "print(\"num2 = %d\" % num2)\n",
    "\n",
    "assert num2 > num1\n",
    "\n",
    "print(\"--------\")\n",
    "# String example\n",
    "str1 = \"hello\"\n",
    "str2 = \"world\"\n",
    "\n",
    "# Assigning str2 to str1 (deep copy)\n",
    "str1 = str2\n",
    "print(\"str1 =\", str1)\n",
    "print(\"str2 =\", str2)\n",
    "\n",
    "# Modify str2\n",
    "str2 += \"!\"\n",
    "print(\"str1 =\", str1)  # str1 remains \"world\" because strings are immutable\n",
    "print(\"str2 =\", str2)\n",
    "\n",
    "# Assertion for strings (this will fail)\n",
    "assert str1 != str2\n",
    "\n",
    "\n"
   ]
  },
  {
   "cell_type": "code",
   "execution_count": 28,
   "metadata": {},
   "outputs": [
    {
     "name": "stdout",
     "output_type": "stream",
     "text": [
      "Initial dict1: {'key1': 'value1', 'key2': 'value2', 'key3': 'value3'}\n",
      "Initial dict2: {'key1': 'value1', 'key2': 'value2', 'key3': 'value3'}\n",
      "--------\n",
      "Inside modify_dict, before modification: {'key1': 'value1', 'key2': 'value2', 'key3': 'value3'}\n",
      "Inside modify_dict, after modification: {'key1': 'value1', 'key2': 'value2', 'key3': 'value3', 'key4': 'value4'}\n",
      "After function call, dict1: {'key1': 'value1', 'key2': 'value2', 'key3': 'value3', 'key4': 'value4'}\n",
      "After function call, dict2: {'key1': 'value1', 'key2': 'value2', 'key3': 'value3', 'key4': 'value4'}\n",
      "--------\n",
      "After modifying dict1 independently: {'key1': 'updated_value1', 'key2': 'value2', 'key3': 'value3', 'key4': 'value4'}\n",
      "After modifying dict1 independently, dict2: {'key1': 'updated_value1', 'key2': 'value2', 'key3': 'value3', 'key4': 'value4'}\n"
     ]
    }
   ],
   "source": [
    "# Example to demonstrate dictionary assignment and copying in Python\n",
    "\n",
    "# Define a function to modify a dictionary\n",
    "def modify_dict(d):\n",
    "    print(\"Inside modify_dict, before modification:\", d)\n",
    "    d['key4'] = 'value4'  # Modify the dictionary by adding a key-value pair\n",
    "    print(\"Inside modify_dict, after modification:\", d)\n",
    "\n",
    "# Create a dictionary\n",
    "dict1 = {'key1': 'value1', 'key2': 'value2', 'key3': 'value3'}\n",
    "\n",
    "# Assign dict1 to dict2\n",
    "dict2 = dict1\n",
    "\n",
    "# Print initial dictionaries\n",
    "print(\"Initial dict1:\", dict1)\n",
    "print(\"Initial dict2:\", dict2)\n",
    "print(\"--------\")\n",
    "# Assert if dict1 and dict2 are equal\n",
    "assert dict1 == dict2, \"Dictionaries dict1 and dict2 should be equal\"\n",
    "\n",
    "# Modify dict2\n",
    "modify_dict(dict2)\n",
    "\n",
    "# Print dictionaries after modification\n",
    "print(\"After function call, dict1:\", dict1)\n",
    "print(\"After function call, dict2:\", dict2)\n",
    "print(\"--------\")\n",
    "# Assert if dict1 and dict2 are still equal\n",
    "assert dict1 == dict2, \"Dictionaries dict1 and dict2 should still be equal\"\n",
    "\n",
    "# Modify dict1 independently\n",
    "dict1['key1'] = 'updated_value1'\n",
    "\n",
    "# Print dictionaries after independent modification\n",
    "print(\"After modifying dict1 independently:\", dict1)\n",
    "print(\"After modifying dict1 independently, dict2:\", dict2)\n",
    "\n",
    "assert dict1 == dict2, \"Dictionaries dict1 and dict2 should still be equal\"\n"
   ]
  },
  {
   "cell_type": "code",
   "execution_count": 31,
   "metadata": {},
   "outputs": [
    {
     "name": "stdout",
     "output_type": "stream",
     "text": [
      "Initial list1: [1, 2, 3]\n",
      "Initial list2: [1, 2, 3]\n",
      "--------\n",
      "Inside modify_list, before modification: [1, 2, 3]\n",
      "Inside modify_list, after modification: [1, 2, 3, 4]\n",
      "--------\n",
      "After function call, list1: [1, 2, 3, 4]\n",
      "After function call, list2: [1, 2, 3, 4]\n",
      "--------\n",
      "After modifying list1 independently: [100, 2, 3, 4]\n",
      "After modifying list1 independently, list2: [100, 2, 3, 4]\n"
     ]
    }
   ],
   "source": [
    "# Define a function to modify a list\n",
    "def modify_list(lst):\n",
    "    print(\"Inside modify_list, before modification:\", lst)\n",
    "    lst.append(4)  # Modify the list by adding an element\n",
    "    print(\"Inside modify_list, after modification:\", lst)\n",
    "    print(\"--------\")\n",
    "\n",
    "# Create a list\n",
    "list1 = [1, 2, 3]\n",
    "\n",
    "# Assign list1 to list2\n",
    "list2 = list1\n",
    "\n",
    "# Print initial lists\n",
    "print(\"Initial list1:\", list1)\n",
    "print(\"Initial list2:\", list2)\n",
    "print(\"--------\")\n",
    "\n",
    "# Assert if list1 and list2 are equal\n",
    "assert list1 == list2, \"Lists list1 and list2 should be equal\"\n",
    "\n",
    "# Modify list2\n",
    "modify_list(list2)\n",
    "\n",
    "# Print lists after modification\n",
    "print(\"After function call, list1:\", list1)\n",
    "print(\"After function call, list2:\", list2)\n",
    "print(\"--------\")\n",
    "\n",
    "# Assert if list1 and list2 are still equal\n",
    "assert list1 == list2, \"Lists list1 and list2 should still be equal\"\n",
    "\n",
    "# Modify list1 independently\n",
    "list1[0] = 100\n",
    "\n",
    "# Print lists after independent modification\n",
    "print(\"After modifying list1 independently:\", list1)\n",
    "print(\"After modifying list1 independently, list2:\", list2)\n",
    "\n",
    "# Assert if list1 and list2 are still equal\n",
    "assert list1 == list2, \"Lists list1 and list2 should still be equal\"\n"
   ]
  }
 ],
 "metadata": {
  "kernelspec": {
   "display_name": "Python 3",
   "language": "python",
   "name": "python3"
  },
  "language_info": {
   "codemirror_mode": {
    "name": "ipython",
    "version": 3
   },
   "file_extension": ".py",
   "mimetype": "text/x-python",
   "name": "python",
   "nbconvert_exporter": "python",
   "pygments_lexer": "ipython3",
   "version": "3.10.12"
  }
 },
 "nbformat": 4,
 "nbformat_minor": 2
}
