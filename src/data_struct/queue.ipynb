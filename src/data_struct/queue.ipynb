{
 "cells": [
  {
   "cell_type": "markdown",
   "metadata": {},
   "source": [
    "# Queue\n",
    "\n",
    "## Overview\n",
    "\n",
    "A queue is a linear data structure that follows the First In, First Out (FIFO) principle. This means that the first element added to the queue is the first one to be removed. Think of it like a line of people waiting for a service: the person who arrives first is served first.\n",
    "\n",
    "## Common List Operations and Time Complexities\n",
    "\n",
    "### `append(element)`\n",
    "\n",
    "Appends `element` to the end of the queue.\n",
    "\n",
    "**Time Complexity**: O(1)\n",
    "\n",
    "### `pop(0)`\n",
    "\n",
    "remove first index `element` in the queue\n",
    "\n",
    "**Time Complexity**: O(1)\n"
   ]
  },
  {
   "cell_type": "code",
   "execution_count": 1,
   "metadata": {},
   "outputs": [
    {
     "name": "stdout",
     "output_type": "stream",
     "text": [
      "deque([1, 2, 3, 4, 5])\n"
     ]
    }
   ],
   "source": [
    "from collections import deque\n",
    "\n",
    "queue = deque([1, 2, 3, 4])\n",
    "new_element = 5\n",
    "\n",
    "queue.append(new_element)\n",
    "\n",
    "print(queue)  # Output: deque([1, 2, 3, 4, 5])\n"
   ]
  },
  {
   "cell_type": "code",
   "execution_count": 2,
   "metadata": {},
   "outputs": [
    {
     "name": "stdout",
     "output_type": "stream",
     "text": [
      "1\n",
      "deque([2, 3, 4])\n"
     ]
    }
   ],
   "source": [
    "from collections import deque\n",
    "\n",
    "queue = deque([1, 2, 3, 4])\n",
    "first_element = queue.popleft()  \n",
    "print(first_element)  \n",
    "print(queue)          \n"
   ]
  }
 ],
 "metadata": {
  "kernelspec": {
   "display_name": "Python 3",
   "language": "python",
   "name": "python3"
  },
  "language_info": {
   "codemirror_mode": {
    "name": "ipython",
    "version": 3
   },
   "file_extension": ".py",
   "mimetype": "text/x-python",
   "name": "python",
   "nbconvert_exporter": "python",
   "pygments_lexer": "ipython3",
   "version": "3.10.12"
  }
 },
 "nbformat": 4,
 "nbformat_minor": 2
}
