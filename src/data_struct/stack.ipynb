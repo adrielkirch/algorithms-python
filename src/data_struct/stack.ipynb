{
 "cells": [
  {
   "cell_type": "markdown",
   "metadata": {},
   "source": [
    "# Stacks\n",
    "\n",
    "## Overview\n",
    "\n",
    "A stack is a linear data structure that follows the Last In, First Out (LIFO) principle. This means that the last element added to the stack is the first one to be removed. Think of it like a stack of plates: you add new plates to the top and take the top plate off first.\n",
    "\n",
    "## Common Tack Operations and Time Complexities\n",
    "\n",
    "### `append(element)`\n",
    "\n",
    "Appends `element` to the end of the stack.\n",
    "\n",
    "**Time Complexity**: O(1)\n",
    "\n",
    "### `pop()`\n",
    "\n",
    "Remove last `element` in the stack\n",
    "\n",
    "**Time Complexity**: O(1)\n",
    "\n",
    "\n"
   ]
  },
  {
   "cell_type": "code",
   "execution_count": 13,
   "metadata": {},
   "outputs": [
    {
     "name": "stdout",
     "output_type": "stream",
     "text": [
      "[2, 4, 6, 8, 10, 12]\n"
     ]
    }
   ],
   "source": [
    "# Example of insert, in stack will be always to the last\n",
    "\n",
    "my_stack = [2, 4, 6, 8, 10]\n",
    "new_element = 12\n",
    "\n",
    "my_stack.append(new_element)\n",
    "print(my_stack)"
   ]
  },
  {
   "cell_type": "code",
   "execution_count": 11,
   "metadata": {},
   "outputs": [
    {
     "name": "stdout",
     "output_type": "stream",
     "text": [
      "[2, 4, 6, 8]\n"
     ]
    }
   ],
   "source": [
    "# Example of remove, in stack will be always to the last\n",
    "\n",
    "my_stack = [2, 4, 6, 8, 10]\n",
    "my_stack.pop()\n",
    "\n",
    "print(my_stack)"
   ]
  }
 ],
 "metadata": {
  "kernelspec": {
   "display_name": "Python 3",
   "language": "python",
   "name": "python3"
  },
  "language_info": {
   "codemirror_mode": {
    "name": "ipython",
    "version": 3
   },
   "file_extension": ".py",
   "mimetype": "text/x-python",
   "name": "python",
   "nbconvert_exporter": "python",
   "pygments_lexer": "ipython3",
   "version": "3.10.12"
  }
 },
 "nbformat": 4,
 "nbformat_minor": 2
}
