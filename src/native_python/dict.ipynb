{
 "cells": [
  {
   "cell_type": "markdown",
   "id": "f4f6959d",
   "metadata": {},
   "source": [
    "# 🧠 Python Dictionary - Essential Cheatsheet\n",
    "\n",
    "---\n",
    "\n",
    "## 1️⃣ Creation\n",
    "```python\n",
    "# Basic\n",
    "d = {'a': 1, 'b': 2}\n",
    "print(d)  # {'a': 1, 'b': 2}\n",
    "\n",
    "# Using dict()\n",
    "d2 = dict(x=10, y=20)\n",
    "print(d2)  # {'x': 10, 'y': 20}\n",
    "\n",
    "# Dictionary comprehension\n",
    "d3 = {i: i**2 for i in range(5)}\n",
    "print(d3)  # {0: 0, 1: 1, 2: 4, 3: 9, 4: 16}\n",
    "```"
   ]
  },
  {
   "cell_type": "code",
   "execution_count": 5,
   "id": "8202e003",
   "metadata": {},
   "outputs": [
    {
     "name": "stdout",
     "output_type": "stream",
     "text": [
      "1\n",
      "None\n",
      "0\n"
     ]
    }
   ],
   "source": [
    "# 2️⃣ Access\n",
    "d = {'a': 1, 'b': 2}\n",
    "print(d['a'])        # most common, not safe for non existing key\n",
    "print(d.get('x'))    # None\n",
    "print(d.get('x', 0)) # 0 if key not found"
   ]
  },
  {
   "cell_type": "code",
   "execution_count": null,
   "id": "2f0f5035",
   "metadata": {},
   "outputs": [],
   "source": [
    "d['c'] = 3\n",
    "d.update({'a': 10, 'd': 4})\n",
    "print(d)  # {'a': 10, 'b': 2, 'c': 3, 'd': 4}"
   ]
  },
  {
   "cell_type": "code",
   "execution_count": 7,
   "id": "ef26ea39",
   "metadata": {},
   "outputs": [],
   "source": [
    "\n",
    "d.pop('x', None)    # avoids KeyError\n",
    "d.pop('a')          # it may be and returns value\n",
    "del d['b']   # it may be dangerous"
   ]
  },
  {
   "cell_type": "code",
   "execution_count": null,
   "id": "a5eb694c",
   "metadata": {},
   "outputs": [
    {
     "name": "stdout",
     "output_type": "stream",
     "text": [
      "user: (nested dict)\n",
      "name: Adriel\n",
      "address: (nested dict)\n",
      "city: Curitiba\n",
      "zip: 80000\n",
      "skills: (nested dict)\n",
      "py: True\n",
      "js: True\n",
      "ts: True\n",
      "rs: False\n",
      "go: True\n",
      "php: False\n"
     ]
    }
   ],
   "source": [
    "d = {\n",
    "    \"user\": {\n",
    "        \"name\": \"Adriel\",\n",
    "        \"address\": {\n",
    "            \"city\": \"Curitiba\",\n",
    "            \"zip\": \"80000\"\n",
    "        }\n",
    "    },\n",
    "    \"skills\": {\n",
    "        \"py\":True,\n",
    "        \"js\": True,\n",
    "        \"ts\": True,\n",
    "        \"rs\":False,\n",
    "        \"go\":True,\n",
    "        \"php\":False\n",
    "    }\n",
    "}\n",
    "def traverse_dict(d):\n",
    "    for key, value in d.items():\n",
    "        if isinstance(value, dict):\n",
    "            print(f\"{key}: (nested dict)\")\n",
    "            traverse_dict(value)\n",
    "        else:\n",
    "            print(f\"{key}: {value}\")\n",
    "\n",
    "traverse_dict(d)\n"
   ]
  }
 ],
 "metadata": {
  "kernelspec": {
   "display_name": "Python 3",
   "language": "python",
   "name": "python3"
  },
  "language_info": {
   "codemirror_mode": {
    "name": "ipython",
    "version": 3
   },
   "file_extension": ".py",
   "mimetype": "text/x-python",
   "name": "python",
   "nbconvert_exporter": "python",
   "pygments_lexer": "ipython3",
   "version": "3.10.12"
  }
 },
 "nbformat": 4,
 "nbformat_minor": 5
}
