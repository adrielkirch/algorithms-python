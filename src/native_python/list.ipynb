{
 "cells": [
  {
   "cell_type": "code",
   "execution_count": null,
   "id": "74758188",
   "metadata": {
    "vscode": {
     "languageId": "markdown"
    }
   },
   "outputs": [],
   "source": [
    "# Python Native List Summary for Coding Interviews\n",
    "\n",
    "- **Definition**: Python's native list is a dynamic array that can store elements of any type.\n",
    "- **Syntax**: `list = [1, 2, 3]`\n",
    "- **Common Operations**:\n",
    "    - Access: `list[index]`\n",
    "    - Slice: `list[start:end]`\n",
    "    - Length: `len(list)`\n",
    "    - Append: `list.append(item)`\n",
    "    - Insert: `list.insert(index, item)`\n",
    "    - Remove: `list.remove(item)` (removes first occurrence)\n",
    "    - Pop: `list.pop(index)` (removes and returns item at index)\n",
    "    - Delete: `del list[index]`\n",
    "    - Extend: `list.extend(other_list)`\n",
    "    - Sort: `list.sort()`\n",
    "    - Reverse: `list.reverse()`\n",
    "- **Iteration**: `for item in list:`\n",
    "- **Membership**: `item in list`\n",
    "- **List Comprehension**: `[x for x in list if x > 0]`\n",
    "- **Copy**: `list.copy()` or `list(list)`\n",
    "- **Use Cases**: Storing ordered data, stacks, queues (with limitations), easy manipulation.\n",
    "- **Limitations**: Not thread-safe, not optimized for insertions/deletions at arbitrary positions (use `collections.deque` for efficient queue operations)."
   ]
  },
  {
   "cell_type": "code",
   "execution_count": null,
   "id": "98a5e3a9",
   "metadata": {
    "vscode": {
     "languageId": "markdown"
    }
   },
   "outputs": [],
   "source": [
    "list = [2,6,4,7,8,3,5,9,8,1]\n",
    "\n",
    "for i in range(0,len(list)):\n",
    "    print(list[i])\n",
    "\n",
    "for index, item in enumerate(list):\n",
    "    print(f\"{index} -> {item}\")"
   ]
  },
  {
   "cell_type": "code",
   "execution_count": null,
   "id": "c5f9e3a8",
   "metadata": {},
   "outputs": [
    {
     "name": "stdout",
     "output_type": "stream",
     "text": [
      "4\n",
      "Length is 10\n",
      "[2, 6, 4, 7, 8, 3, 5, 9, 8, 1, 10]\n",
      "10\n",
      "[2, 6, 4, 7, 8, 3, 5, 9, 8, 1]\n",
      "7\n",
      "[2, 6, 4, 8, 3, 5, 9, 8, 1]\n",
      "[2, 6, 4, 8, 3, 5, 9, 1]\n",
      "[2, 12, 6, 4, 8, 3, 5, 9, 1]\n",
      "[2, 12, 6, 4, 8, 3, 5, 9, 12, 1]\n",
      "[2, 6, 4, 8, 3, 5, 9, 12, 1]\n",
      "[2, 6, 4, 8, 3, 5, 9, 12, 1, 8, 10, 7]\n",
      "[7, 10, 8, 1, 12, 9, 5, 3, 8, 4, 6, 2]\n",
      "[1, 2, 3, 4, 5, 6, 7, 8, 8, 9, 10, 12]\n",
      "[1, 2, 3, 4, 5, 6, 7, 8, 8, 9, 10, 12, 13]\n",
      "[1, 2, 3, 4, 5, 6, 7, 8, 8, 9, 10, 12]\n"
     ]
    }
   ],
   "source": [
    "list = [2,6,4,7,8,3,5,9,8,1]\n",
    "\n",
    "# Access: `list[index]`, list on position 3\n",
    "print(list[2]) # O(1) output => 4 \n",
    "\n",
    "#List length, number of elements\n",
    "print(f\"Length is {len(list)}\") # O(1) output => 10\n",
    "\n",
    "#Add item to the last, incresing its size +1\n",
    "list.append(10) # Computation O(1)\n",
    "print(list) #Output [2, 6, 4, 7, 8, 3, 5, 9, 8, 1, 10]\n",
    "\n",
    "#Remove lastest item reducing -1 its size\n",
    "poped_value = list.pop() #Attribution O(1)\n",
    "print(poped_value)  #Output 10\n",
    "print(list) #Output [2, 6, 4, 7, 8, 3, 5, 9, 8, 1]\n",
    "\n",
    "#Remove item by index and keep its value\n",
    "poped_value = list.pop(3)  #Attribution O(n)\n",
    "print(poped_value)  #Output 7\n",
    "print(list) #Output [2, 6, 4, 8, 3, 5, 9, 8, 1]\n",
    "\n",
    "#Remove item by index (no returning)\n",
    "del list[-2]\n",
    "print(list) #Output [2, 6, 4, 8, 3, 5, 9, 1]\n",
    "\n",
    "#Insert value at index\n",
    "list.insert(1, 12) # Computation, most cases O(n)\n",
    "print(list) #Output [2, 12, 6, 4, 8, 3, 5, 9, 1]\n",
    "\n",
    "list.insert(-1, 12) # Computation, most cases O(n)\n",
    "print(list) #Output [2, 12, 6, 4, 8, 3, 5, 9, 12, 1]\n",
    "\n",
    "#Remove value at first occorrence from list\n",
    "list.remove(12) # Computation, most cases O(n)\n",
    "print(list) #Output [2, 6, 4, 8, 3, 5, 9, 12, 1]\n",
    "\n",
    "#Extend a list\n",
    "extend_list = [8, 10, 7]\n",
    "list.extend(extend_list) # Computation, most cases O(n)\n",
    "print(list) #Output [2, 6, 4, 8, 3, 5, 9, 12, 1, 8, 10, 7]\n",
    "\n",
    "#Reverse list order\n",
    "list.reverse() # Computation, O(n/2)\n",
    "print(list)\n",
    "\n",
    "# Sort the list using Python's built-in sort (Timsort algorithm)\n",
    "list.sort() # Computation O(n log n) in average and worst case, O(n) best case for nearly sorted\n",
    "print(list)\n",
    "\n",
    "#Its a clone, when you attrbiute simply to a variable it's reference needs to use copy() to deep clone in different memories\n",
    "list_clone = list.copy()\n",
    "list.append(13)\n",
    "print(list)\n",
    "print(list_clone)\n"
   ]
  },
  {
   "cell_type": "markdown",
   "id": "2cc2c9b2",
   "metadata": {},
   "source": [
    "1️⃣ Always start counting from 0\n",
    "\n",
    "Python lists, strings, and tuples are 0-indexed.\n",
    "\n",
    "First element → index 0\n",
    "\n",
    "Second element → index 1\n",
    "\n",
    "Last element → index len(list) - 1\n",
    "\n",
    "2️⃣ Slice rule: Include left, exclude right\n",
    "lst[start:end]  # start included, end excluded\n",
    "\n",
    "\n",
    "Left (start) ✅ → included\n",
    "\n",
    "Right (end) ❌ → excluded\n",
    "\n",
    "3️⃣ Step counts\n",
    "\n",
    "lst[start:end:step] → pick every step-th element from start up to (but not including) end.\n",
    "\n",
    "Positive step → left → right\n",
    "\n",
    "Negative step → right → left (reverse)"
   ]
  },
  {
   "cell_type": "code",
   "execution_count": 90,
   "id": "115b65d4",
   "metadata": {},
   "outputs": [
    {
     "name": "stdout",
     "output_type": "stream",
     "text": [
      "True\n",
      "False\n",
      "['c', 'd', 'e', 'f']\n",
      "['a', 'b', 'c', 'd']\n",
      "['i', 'j', 'k']\n",
      "['a', 'b', 'c', 'd', 'e', 'f', 'g', 'h', 'i']\n",
      "['d', 'e', 'f', 'g', 'h', 'i', 'j']\n",
      "['a', 'd', 'g', 'j']\n",
      "['k', 'j', 'i', 'h', 'g', 'f', 'e', 'd', 'c', 'b', 'a']\n",
      "['h', 'g', 'f', 'e', 'd']\n",
      "['h', 'g', 'f', 'e', 'd']\n"
     ]
    }
   ],
   "source": [
    "#Slice is one of most used operations for list to create a subset in parent list\n",
    "list = ['a', 'b', 'c', 'd', 'e', 'f', 'g', 'h', 'i', 'j', 'k']\n",
    "\n",
    "# Membership test\n",
    "print('k' in list)  # True\n",
    "print('l' in list)  # False\n",
    "\n",
    "# list[2:6] → start at 2 (included), end at 6 (excluded)\n",
    "print(list[2:6])  # ['c', 'd', 'e', 'f']\n",
    "\n",
    "# list[:4] → start at 0 (default), end at 4 (excluded)\n",
    "# Indexs: 0,1,2,3 → ['a','b','c','d']\n",
    "print(list[:4])   # First 4 elements ['a', 'b', 'c', 'd']\n",
    "\n",
    "# list[8:] → start at 8 (included), go to end\n",
    "print(list[8:])   # From index 8 to the end ['i', 'j', 'k']\n",
    "\n",
    "print(list[:-2]) #start in the beginnig 0 to -> -2 excluding ['a', 'b', 'c', 'd', 'e', 'f', 'g', 'h', 'i']\n",
    "\n",
    "print(list[3:-1])   # From index 3 include to the -1 excluded counting ['d', 'e', 'f', 'g', 'h', 'i', 'j']\n",
    "\n",
    "# lst[::3] → start 0, end len(lst) (default), step 3, +3 each time\n",
    "# Indices: 0,3,6,9 → ['a','d','g','j']\n",
    "print(list[::3])\n",
    "\n",
    "# lst[::3] → start lastest j, and goes -1 step at time === list.reverse()\n",
    "\n",
    "print(list[::-1])\n",
    "\n",
    "# How to manually count lst[7:2:-1]\n",
    "\n",
    "# Identify start index: 7 → element 'h' ✅ included\n",
    "\n",
    "# Identify end index: 2 → element 'c' ❌ excluded (we stop before this index)\n",
    "\n",
    "# Step: -1 → we move backward (right → left)\n",
    "\n",
    "# Count indices manually:\n",
    "\n",
    "# Start at index 7 → 'h'\n",
    "# Move backward by 1 each step → 6 → 'g'\n",
    "# Next → 5 → 'f'\n",
    "# Next → 4 → 'e'\n",
    "# Next → 3 → 'd'\n",
    "# Next → 2 → stop before index 2 (excluded)\n",
    "\n",
    "# ✅ Result: ['h','g','f','e','d']\n",
    "print(list[7:2:-1])\n",
    "\n",
    "print(list[7:2:-1])\n",
    "\n"
   ]
  },
  {
   "cell_type": "markdown",
   "id": "ad99b782",
   "metadata": {},
   "source": [
    "🎯 What it is\n",
    "\n",
    "List comprehension is just a shorter and cleaner way to write a loop that builds a list.\n",
    "It takes the logic of:\n",
    "\n",
    "```py\n",
    "new_list = []\n",
    "for item in iterable:\n",
    "    if condition:\n",
    "        new_list.append(expression)\n",
    "```\n",
    "\n",
    "and compresses it into a single readable line:\n",
    "\n",
    "```py\n",
    "new_list = [expression for item in iterable if condition]\n",
    "```"
   ]
  },
  {
   "cell_type": "code",
   "execution_count": 92,
   "id": "6c59079c",
   "metadata": {},
   "outputs": [
    {
     "name": "stdout",
     "output_type": "stream",
     "text": [
      "[0, 4, 16]\n"
     ]
    }
   ],
   "source": [
    "squares = [x**2 for x in range(5) if x % 2 == 0]\n",
    "print(squares)\n",
    "\n"
   ]
  }
 ],
 "metadata": {
  "kernelspec": {
   "display_name": "Python 3",
   "language": "python",
   "name": "python3"
  },
  "language_info": {
   "codemirror_mode": {
    "name": "ipython",
    "version": 3
   },
   "file_extension": ".py",
   "mimetype": "text/x-python",
   "name": "python",
   "nbconvert_exporter": "python",
   "pygments_lexer": "ipython3",
   "version": "3.12.0"
  }
 },
 "nbformat": 4,
 "nbformat_minor": 5
}
