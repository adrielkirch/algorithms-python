{
 "cells": [
  {
   "cell_type": "markdown",
   "metadata": {},
   "source": [
    "# Introduction to Recursion in Python\n",
    "\n",
    "Recursion is a programming technique where a function calls itself in order to solve a problem. \n",
    "A recursive function solves a problem by breaking it down into smaller instances of the same problem.\n",
    "\n",
    "## Basic Structure of a Recursive Function\n",
    "\n",
    "A recursive function has two main parts:\n",
    "\n",
    "- **Base case**: The condition under which the function stops calling itself. This is the most important part — it prevents infinite recursion.\n",
    "\n",
    "- **Recursive case**: The part where the function calls itself with a simpler or smaller version of the original problem.\n",
    "\n",
    "1. Describe the problem in plain English\n",
    "\n",
    "2. Ask: what’s the smallest version of this problem?\n",
    "\n",
    "3. Define a base case\n",
    "\n",
    "4. Write the recursive step calling itself on a smaller part\n",
    "\n",
    "Combine results if needed\n",
    "\n",
    "## Examples of Recursion\n",
    "\n",
    "#### Example 1: Factorial Function\n",
    "\n",
    "#### Example 2: Fibonnaci Function\n",
    "\n",
    "#### Example 3: Prime numbers Function"
   ]
  },
  {
   "cell_type": "code",
   "execution_count": 2,
   "metadata": {},
   "outputs": [
    {
     "name": "stdout",
     "output_type": "stream",
     "text": [
      "120\n"
     ]
    }
   ],
   "source": [
    "# Example 1: Factorial Function\n",
    "\n",
    "def factorial(n):\n",
    "   if n == 0:\n",
    "        return 1\n",
    "   return n * factorial(n - 1)\n",
    "\n",
    "print(factorial(5))"
   ]
  },
  {
   "cell_type": "code",
   "execution_count": 48,
   "metadata": {},
   "outputs": [
    {
     "name": "stdout",
     "output_type": "stream",
     "text": [
      "1\n",
      "1\n",
      "2\n",
      "3\n",
      "5\n"
     ]
    },
    {
     "data": {
      "text/plain": [
       "8"
      ]
     },
     "execution_count": 48,
     "metadata": {},
     "output_type": "execute_result"
    }
   ],
   "source": [
    "# Example 2: Fibonaci Function\n",
    "\n",
    "def fib_recursive(a, b, count, total):\n",
    "    if count > total:\n",
    "        return b\n",
    "    else:\n",
    "        print(b)\n",
    "        return fib_recursive(b, a + b, count + 1,total)\n",
    "\n",
    "\n",
    "fib_recursive(0, 1, 1, 5)\n"
   ]
  },
  {
   "cell_type": "code",
   "execution_count": 50,
   "metadata": {},
   "outputs": [
    {
     "name": "stdout",
     "output_type": "stream",
     "text": [
      "True\n"
     ]
    }
   ],
   "source": [
    "# Example 3: Fibonaci Function\n",
    "\n",
    "def is_prime(n, divisor=None):\n",
    "    if n <= 1:\n",
    "        return False\n",
    "    elif n == 2:  \n",
    "        return True\n",
    "    elif divisor is None:\n",
    "        return is_prime(n, n - 1)\n",
    "    elif divisor == 1:  \n",
    "        return True\n",
    "    elif n % divisor == 0:  \n",
    "        return False\n",
    "    else:\n",
    "        return is_prime(n, divisor - 1)\n",
    "    \n",
    "print(is_prime(113))\n",
    "\n"
   ]
  },
  {
   "cell_type": "code",
   "execution_count": null,
   "metadata": {},
   "outputs": [],
   "source": [
    "# Example 4: prime number\n",
    "\n",
    "def is_prime(n, divisor=None):\n",
    "    if n <= 1:\n",
    "        return False\n",
    "    elif n == 2:  \n",
    "        return True\n",
    "    elif divisor is None:\n",
    "        return is_prime(n, n - 1)\n",
    "    elif divisor == 1:  \n",
    "        return True\n",
    "    elif n % divisor == 0:  \n",
    "        return False\n",
    "    else:\n",
    "        return is_prime(n, divisor - 1)\n",
    "    \n",
    "print(is_prime(113))\n",
    "\n"
   ]
  },
  {
   "cell_type": "code",
   "execution_count": 62,
   "metadata": {},
   "outputs": [
    {
     "name": "stdout",
     "output_type": "stream",
     "text": [
      "11\n",
      "21\n",
      "31\n",
      "41\n",
      "51\n",
      "61\n",
      "71\n",
      "81\n",
      "91\n",
      "101\n"
     ]
    }
   ],
   "source": [
    "# Example 5: arithmetic progression\n",
    "\n",
    "def pa(a1, n, r, total=10, count=0):\n",
    "    if count >= total:\n",
    "        return\n",
    "    if count == 0:\n",
    "        next_term = a1 + r\n",
    "    else:\n",
    "        next_term = n + r\n",
    "    \n",
    "    print(next_term)\n",
    "    pa(a1, next_term, r, total, count + 1)\n",
    "\n",
    "# Example usage:\n",
    "pa(1, 0, 10, 10, 0)\n"
   ]
  },
  {
   "cell_type": "code",
   "execution_count": 80,
   "metadata": {},
   "outputs": [
    {
     "name": "stdout",
     "output_type": "stream",
     "text": [
      "2\n",
      "6\n",
      "18\n",
      "54\n",
      "162\n",
      "486\n",
      "1458\n",
      "4374\n",
      "13122\n",
      "39366\n"
     ]
    }
   ],
   "source": [
    "# Example 5: Geometric progression\n",
    "\n",
    "def pg(a1, r, total=10, count=0):\n",
    "    if count >= total:\n",
    "        return\n",
    "    if count == 0:\n",
    "        next_term = a1  # Start with the first term\n",
    "    else:\n",
    "        next_term = a1 * (r ** count)  # Calculate the next term based on the geometric progression formula\n",
    "    \n",
    "    print(next_term)\n",
    "    pg(a1, r, total, count + 1)  # Recursive call to generate the next term\n",
    "\n",
    "# Example usage:\n",
    "pg(2, 3, 10, 0)\n"
   ]
  }
 ],
 "metadata": {
  "kernelspec": {
   "display_name": "Python 3",
   "language": "python",
   "name": "python3"
  },
  "language_info": {
   "codemirror_mode": {
    "name": "ipython",
    "version": 3
   },
   "file_extension": ".py",
   "mimetype": "text/x-python",
   "name": "python",
   "nbconvert_exporter": "python",
   "pygments_lexer": "ipython3",
   "version": "3.10.12"
  }
 },
 "nbformat": 4,
 "nbformat_minor": 2
}
