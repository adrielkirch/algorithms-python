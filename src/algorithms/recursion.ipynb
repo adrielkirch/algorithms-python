{
 "cells": [
  {
   "cell_type": "markdown",
   "metadata": {},
   "source": [
    "# Introduction to Recursion in Python\n",
    "\n",
    "Recursion is a programming technique where a function calls itself in order to solve a problem. \n",
    "A recursive function solves a problem by breaking it down into smaller instances of the same problem.\n",
    "\n",
    "## Basic Structure of a Recursive Function\n",
    "\n",
    "A recursive function has two main parts:\n",
    "\n",
    "- **Base case**: The condition under which the function stops calling itself. This is the most important part — it prevents infinite recursion.\n",
    "\n",
    "- **Recursive case**: The part where the function calls itself with a simpler or smaller version of the original problem.\n",
    "\n",
    "1. Describe the problem in plain English\n",
    "\n",
    "2. Ask: what’s the smallest version of this problem?\n",
    "\n",
    "3. Define a base case\n",
    "\n",
    "4. Write the recursive step calling itself on a smaller part\n",
    "\n",
    "Combine results if needed\n"
   ]
  },
  {
   "cell_type": "code",
   "execution_count": null,
   "metadata": {},
   "outputs": [
    {
     "name": "stdout",
     "output_type": "stream",
     "text": [
      "10\n"
     ]
    }
   ],
   "source": [
    "#Exemple: Sum sequence of n to 0\n",
    "#Sum of an sequence of n numebers where \n",
    "# Visualization n -> n-1 -> n-2 -> n-3\n",
    "\n",
    "def sum(n):\n",
    "    if n == 0:\n",
    "        return 0\n",
    "    return n + sum(n-1)\n",
    "\n",
    "print(sum(4))"
   ]
  },
  {
   "cell_type": "code",
   "execution_count": null,
   "metadata": {},
   "outputs": [],
   "source": [
    "#Exemple: Aritimetic Progression\n",
    "#Give a start point as a1 the aritimetic progression is the somatory from a1 + r made n time\n",
    "# a1=2, r=3 =>  2, 5, 8, 11, 14 "
   ]
  },
  {
   "cell_type": "code",
   "execution_count": null,
   "metadata": {},
   "outputs": [
    {
     "name": "stdout",
     "output_type": "stream",
     "text": [
      "120\n"
     ]
    }
   ],
   "source": [
    "# Example 2: Factorial Function\n",
    "\n",
    "def factorial(n):\n",
    "   if n == 0:\n",
    "        return 1\n",
    "   return n * factorial(n - 1)\n",
    "\n",
    "print(factorial(5))"
   ]
  },
  {
   "cell_type": "markdown",
   "metadata": {},
   "source": [
    "\n",
    "def pa_recursive(a1, r, n):\n",
    "    if n == 0:\n",
    "        return []\n",
    "    return [a1] + pa_recursive(a1 + r, r, n - 1)\n",
    "\n",
    "print(pa_recursive(2, 3, 5))\n"
   ]
  },
  {
   "cell_type": "markdown",
   "metadata": {},
   "source": [
    "0,1,1,2,3,5,8\n",
    "def fib(n):\n",
    "    arr = []\n",
    "    for _ in range(n):\n",
    "        "
   ]
  },
  {
   "cell_type": "code",
   "execution_count": 44,
   "metadata": {},
   "outputs": [
    {
     "name": "stdout",
     "output_type": "stream",
     "text": [
      "89\n"
     ]
    }
   ],
   "source": [
    "# [0,1,1,2,3,5,8]\n",
    "def fibonaci(n):\n",
    "    if n == 0:\n",
    "        return 0\n",
    "    if n == 1:\n",
    "        return 1\n",
    "    return fibonaci(n-1) + fibonaci(n-2)\n",
    "print(fibonaci(11))"
   ]
  },
  {
   "cell_type": "code",
   "execution_count": null,
   "metadata": {},
   "outputs": [
    {
     "name": "stdout",
     "output_type": "stream",
     "text": [
      "165580141\n"
     ]
    }
   ],
   "source": [
    "# Fibonacci with memoization\n",
    "#Most recursi\n",
    "def fibonacci_memo(n, memo={}):\n",
    "    # Check if we've already calculated this value\n",
    "    if n in memo:\n",
    "        return memo[n]\n",
    "    \n",
    "    # Base cases\n",
    "    if n == 0:\n",
    "        return 0\n",
    "    if n == 1:\n",
    "        return 1\n",
    "    \n",
    "    # Calculate the value and store it in memo\n",
    "    memo[n] = fibonacci_memo(n-1, memo) + fibonacci_memo(n-2, memo)\n",
    "    return memo[n]\n",
    "\n",
    "print(fibonacci_memo(41))"
   ]
  },
  {
   "cell_type": "code",
   "execution_count": null,
   "metadata": {},
   "outputs": [
    {
     "name": "stdout",
     "output_type": "stream",
     "text": [
      "[0, 1, 1, 2, 3, 5]\n"
     ]
    }
   ],
   "source": [
    "# it's fancy the real deal almost all recursive can be better and simpler\n",
    "# With tabulation O(n)\n",
    "\n",
    "### n = 1 -> [0]\n",
    "### n = 2 -> [0,1]\n",
    "### n = 3 -> [0,1,1]\n",
    "### n = 4 -> [0,1,1,2]\n",
    "\n",
    "def fibonacci(n):\n",
    "    arr = [0,1]\n",
    "    for i in range(0,n-2):\n",
    "        next_items = arr[i] + arr[i+1]\n",
    "        arr.append(next_items)\n",
    "    return arr\n",
    "print(fibonacci(6))"
   ]
  },
  {
   "cell_type": "code",
   "execution_count": null,
   "metadata": {},
   "outputs": [
    {
     "name": "stdout",
     "output_type": "stream",
     "text": [
      "[0, 1, 1, 1, 2, 3]\n"
     ]
    }
   ],
   "source": [
    "# it's fancy the real deal almost all recursive can be better and simpler\n",
    "# With tabulation O(n)\n",
    "\n",
    "### n = 1 -> [0]\n",
    "### n = 2 -> [0,1]\n",
    "### n = 3 -> [0,1,1]\n",
    "### n = 4 -> [0,1,1,2]\n",
    "\n",
    "def fibonacci(n):\n",
    "    a, b = 0,1\n",
    "    arr = [0,1]\n",
    "    for _ in range(0,n-2):\n",
    "        a,b = b, a+b\n",
    "        arr.append(a)\n",
    "    return arr\n",
    "print(fibonacci(6))"
   ]
  },
  {
   "cell_type": "code",
   "execution_count": 32,
   "metadata": {},
   "outputs": [
    {
     "name": "stdout",
     "output_type": "stream",
     "text": [
      "[1]\n"
     ]
    }
   ],
   "source": [
    "# Example 4: is prime\n",
    "\n",
    "def is_prime(n, divisor=None):\n",
    "    if n <= 1:\n",
    "        return False\n",
    "    elif n == 2:  \n",
    "        return 2\n",
    "    elif divisor is None:\n",
    "        return is_prime(n, n - 1)\n",
    "    elif divisor == 1:  \n",
    "        return 1\n",
    "    elif n % divisor == 0:  \n",
    "        return False\n",
    "    return  is_prime(n, divisor - 1)\n",
    "    \n",
    "print(is_prime(113))\n",
    "\n"
   ]
  },
  {
   "cell_type": "code",
   "execution_count": 62,
   "metadata": {},
   "outputs": [
    {
     "name": "stdout",
     "output_type": "stream",
     "text": [
      "11\n",
      "21\n",
      "31\n",
      "41\n",
      "51\n",
      "61\n",
      "71\n",
      "81\n",
      "91\n",
      "101\n"
     ]
    }
   ],
   "source": [
    "# Example 5: arithmetic progression\n",
    "\n",
    "def pa(a1, n, r, total=10, count=0):\n",
    "    if count >= total:\n",
    "        return\n",
    "    if count == 0:\n",
    "        next_term = a1 + r\n",
    "    else:\n",
    "        next_term = n + r\n",
    "    \n",
    "    print(next_term)\n",
    "    pa(a1, next_term, r, total, count + 1)\n",
    "\n",
    "# Example usage:\n",
    "pa(1, 0, 10, 10, 0)\n"
   ]
  },
  {
   "cell_type": "code",
   "execution_count": 47,
   "metadata": {},
   "outputs": [
    {
     "name": "stdout",
     "output_type": "stream",
     "text": [
      "2\n",
      "6\n",
      "18\n",
      "54\n",
      "162\n",
      "486\n",
      "1458\n",
      "4374\n",
      "13122\n",
      "39366\n",
      "118098\n",
      "354294\n",
      "1062882\n",
      "3188646\n",
      "9565938\n",
      "28697814\n",
      "86093442\n",
      "258280326\n",
      "774840978\n",
      "2324522934\n",
      "6973568802\n",
      "20920706406\n",
      "62762119218\n",
      "188286357654\n",
      "564859072962\n",
      "1694577218886\n",
      "5083731656658\n",
      "15251194969974\n",
      "45753584909922\n",
      "137260754729766\n",
      "411782264189298\n",
      "1235346792567894\n",
      "3706040377703682\n",
      "11118121133111046\n",
      "33354363399333138\n",
      "100063090197999414\n",
      "300189270593998242\n",
      "900567811781994726\n",
      "2701703435345984178\n",
      "8105110306037952534\n",
      "24315330918113857602\n",
      "72945992754341572806\n",
      "218837978263024718418\n",
      "656513934789074155254\n",
      "1969541804367222465762\n",
      "5908625413101667397286\n",
      "17725876239305002191858\n",
      "53177628717915006575574\n",
      "159532886153745019726722\n",
      "478598658461235059180166\n",
      "1435795975383705177540498\n",
      "4307387926151115532621494\n",
      "12922163778453346597864482\n",
      "38766491335360039793593446\n",
      "116299474006080119380780338\n",
      "348898422018240358142341014\n",
      "1046695266054721074427023042\n",
      "3140085798164163223281069126\n",
      "9420257394492489669843207378\n",
      "28260772183477469009529622134\n",
      "84782316550432407028588866402\n",
      "254346949651297221085766599206\n",
      "763040848953891663257299797618\n",
      "2289122546861674989771899392854\n",
      "6867367640585024969315698178562\n",
      "20602102921755074907947094535686\n",
      "61806308765265224723841283607058\n",
      "185418926295795674171523850821174\n",
      "556256778887387022514571552463522\n",
      "1668770336662161067543714657390566\n",
      "5006311009986483202631143972171698\n",
      "15018933029959449607893431916515094\n",
      "45056799089878348823680295749545282\n",
      "135170397269635046471040887248635846\n",
      "405511191808905139413122661745907538\n",
      "1216533575426715418239367985237722614\n",
      "3649600726280146254718103955713167842\n",
      "10948802178840438764154311867139503526\n",
      "32846406536521316292462935601418510578\n",
      "98539219609563948877388806804255531734\n",
      "295617658828691846632166420412766595202\n",
      "886852976486075539896499261238299785606\n",
      "2660558929458226619689497783714899356818\n",
      "7981676788374679859068493351144698070454\n",
      "23945030365124039577205480053434094211362\n",
      "71835091095372118731616440160302282634086\n",
      "215505273286116356194849320480906847902258\n",
      "646515819858349068584547961442720543706774\n",
      "1939547459575047205753643884328161631120322\n",
      "5818642378725141617260931652984484893360966\n",
      "17455927136175424851782794958953454680082898\n",
      "52367781408526274555348384876860364040248694\n",
      "157103344225578823666045154630581092120746082\n",
      "471310032676736470998135463891743276362238246\n",
      "1413930098030209412994406391675229829086714738\n",
      "4241790294090628238983219175025689487260144214\n",
      "12725370882271884716949657525077068461780432642\n",
      "38176112646815654150848972575231205385341297926\n",
      "114528337940446962452546917725693616156023893778\n",
      "343585013821340887357640753177080848468071681334\n"
     ]
    }
   ],
   "source": [
    "# Example 5: Geometric progression\n",
    "\n",
    "def pg(a1, r, total=10, count=0):\n",
    "    if count >= total:\n",
    "        return\n",
    "    if count == 0:\n",
    "        next_term = a1  # Start with the first term\n",
    "    else:\n",
    "        next_term = a1 * (r ** count)  # Calculate the next term based on the geometric progression formula\n",
    "    \n",
    "    print(next_term)\n",
    "    pg(a1, r, total, count + 1)  # Recursive call to generate the next term\n",
    "\n",
    "# Example usage:\n",
    "pg(2, 3, 100, 0)\n"
   ]
  }
 ],
 "metadata": {
  "kernelspec": {
   "display_name": "Python 3",
   "language": "python",
   "name": "python3"
  },
  "language_info": {
   "codemirror_mode": {
    "name": "ipython",
    "version": 3
   },
   "file_extension": ".py",
   "mimetype": "text/x-python",
   "name": "python",
   "nbconvert_exporter": "python",
   "pygments_lexer": "ipython3",
   "version": "3.12.0"
  }
 },
 "nbformat": 4,
 "nbformat_minor": 2
}
