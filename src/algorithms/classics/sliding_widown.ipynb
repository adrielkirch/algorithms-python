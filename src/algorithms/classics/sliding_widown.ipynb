{
 "cells": [
  {
   "cell_type": "markdown",
   "id": "73a20453",
   "metadata": {},
   "source": [
    "nums = [1,2,3,4,5]\n",
    "k = 3\n",
    "\n",
    "# Soma inicial da janela\n",
    "window_sum = sum(nums[:k])\n",
    "max_sum = window_sum\n",
    "\n",
    "for i in range(k, len(nums)):\n",
    "    # remove o elemento que sai da janela e adiciona o novo\n",
    "    window_sum += nums[i] - nums[i-k]\n",
    "    max_sum = max(max_sum, window_sum)\n",
    "\n",
    "print(max_sum)  # 12 (3+4+5)"
   ]
  },
  {
   "cell_type": "code",
   "execution_count": null,
   "id": "3e249f58",
   "metadata": {},
   "outputs": [
    {
     "name": "stdout",
     "output_type": "stream",
     "text": [
      "12\n"
     ]
    }
   ],
   "source": [
    "nums = [1,2,3,4,5]\n",
    "k = 3\n",
    "\n",
    "# Soma inicial da janela\n",
    "window_sum = sum(nums[:k])\n",
    "max_sum = window_sum\n",
    "\n",
    "for i in range(k, len(nums)):\n",
    "    # remove o elemento que sai da janela e adiciona o novo\n",
    "    window_sum += nums[i] - nums[i-k]\n",
    "    max_sum = max(max_sum, window_sum)\n",
    "\n",
    "print(max_sum)  # 12 (3+4+5)\n"
   ]
  }
 ],
 "metadata": {
  "kernelspec": {
   "display_name": "Python 3",
   "language": "python",
   "name": "python3"
  },
  "language_info": {
   "codemirror_mode": {
    "name": "ipython",
    "version": 3
   },
   "file_extension": ".py",
   "mimetype": "text/x-python",
   "name": "python",
   "nbconvert_exporter": "python",
   "pygments_lexer": "ipython3",
   "version": "3.10.12"
  }
 },
 "nbformat": 4,
 "nbformat_minor": 5
}
