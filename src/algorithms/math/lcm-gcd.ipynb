{
 "cells": [
  {
   "attachments": {
    "image-2.png": {
     "image/png": "[encoded data removed]"
    },
    "image-3.png": {
     "image/png": "[encoded data removed]"
    }
   },
   "cell_type": "markdown",
   "id": "2015a10a",
   "metadata": {},
   "source": [
    "## Greatest Common Divisor (GCD)\n",
    "\n",
    "The **Greatest Common Divisor (GCD)** of two integers is the **largest number that divides both integers without leaving a remainder**.\n",
    "\n",
    "---\n",
    "\n",
    "### 1. Fundamental Property\n",
    "\n",
    "For any integers \\(x\\) and \\(y\\) (\\(x > y > 0\\)):\n",
    "\n",
    "![image-3.png](attachment:image-3.png)\n",
    "\n",
    "![image-2.png](attachment:image-2.png)\n",
    "\n",
    "Where \\(x \\bmod y\\) is the remainder of the division of \\(x\\) by \\(y\\).  \n",
    "This property is the foundation of **Euclid's Algorithm**.\n",
    "\n",
    "---\n",
    "\n",
    "### 2. How Euclid's Algorithm Works\n",
    "\n",
    "1. Divide \\(x\\) by \\(y\\) and get the remainder \\(r = x \\bmod y\\).\n",
    "2. Replace \\(x\\) with \\(y\\) and \\(y\\) with \\(r\\).\n",
    "3. Repeat until \\(y = 0\\).\n",
    "4. The last non-zero \\(x\\) is the **GCD**.\n",
    "\n",
    "---\n",
    "\n",
    "### Example\n",
    "\n",
    "Compute \\(\\text{GCD}(48, 18)\\):\n",
    "\n",
    "| Step | x   | y   | x % y |\n",
    "| ---- | --- | --- | ----- |\n",
    "| 1    | 48  | 18  | 12    |\n",
    "| 2    | 18  | 12  | 6     |\n",
    "| 3    | 12  | 6   | 0     |\n",
    "\n",
    "✅ Result: **GCD = 6**\n"
   ]
  },
  {
   "cell_type": "code",
   "execution_count": null,
   "id": "48c0acc4",
   "metadata": {},
   "outputs": [
    {
     "name": "stdout",
     "output_type": "stream",
     "text": [
      "6\n"
     ]
    }
   ],
   "source": [
    "def gcd(x, y):\n",
    "    while y != 0:\n",
    "        x, y = y, x % y\n",
    "    return x\n",
    "\n",
    "\n",
    "print(gcd(18, 12))"
   ]
  },
  {
   "cell_type": "code",
   "execution_count": null,
   "id": "3e528ce5",
   "metadata": {},
   "outputs": [
    {
     "name": "stdout",
     "output_type": "stream",
     "text": [
      "6\n"
     ]
    }
   ],
   "source": [
    "def gcd_list(list_num):\n",
    "    sorted(list_num, reverse=True)\n",
    "    x = list_num[0]\n",
    "    for y in list_num[1:]:\n",
    "        x = gcd(x, y)\n",
    "    return x\n",
    "\n",
    "print(gcd_list([48, 18, 30]))"
   ]
  },
  {
   "attachments": {
    "image.png": {
     "image/png": "[encoded data removed]"
    }
   },
   "cell_type": "markdown",
   "id": "603c1265",
   "metadata": {},
   "source": [
    "```markdown\n",
    "The Least Common Multiple (LCM) of two or more integers is the smallest positive integer that is a multiple of all the integers. Several algorithms exist to find the LCM.\n",
    "_1. Listing Multiples Method:_\n",
    "This method involves listing out the multiples of each number until a common multiple is found. The smallest of these common multiples is the LCM.\n",
    "\n",
    "    *Steps:*\n",
    "        List the first few multiples of each number.\n",
    "        Identify the common multiples in the lists.\n",
    "        The smallest common multiple is the LCM.\n",
    "    *Example:*\n",
    "    Find the LCM of 3, 4 and 6.\n",
    "        Multiples of 3: 3, 6, 9, *12* , 15, 18...\n",
    "        Multiples of 4: 4, 8, *12*, 16, 20, 24...\n",
    "        Multiples of 6: 6, *12*, 18, 24, 30...\n",
    "        The common multiples are 12, 24, etc. The smallest is 12.\n",
    "\n",
    "Therefore, LCM(3, 4, 6) = 12.\n",
    "```\n",
    "\n",
    "![image.png](attachment:image.png)\n"
   ]
  },
  {
   "cell_type": "code",
   "execution_count": 37,
   "id": "bc713e80",
   "metadata": {},
   "outputs": [
    {
     "name": "stdout",
     "output_type": "stream",
     "text": [
      "18\n"
     ]
    }
   ],
   "source": [
    "def gcd(x, y):\n",
    "    while y != 0:\n",
    "        x, y = y, x % y\n",
    "    return x\n",
    "\n",
    "\n",
    "def lcm(arr):\n",
    "    x = arr[0]\n",
    "    for y in arr:\n",
    "        x = x * y // gcd(x, y)\n",
    "    return x\n",
    "\n",
    "\n",
    "print(lcm([2,3,9]))"
   ]
  }
 ],
 "metadata": {
  "kernelspec": {
   "display_name": "Python 3",
   "language": "python",
   "name": "python3"
  },
  "language_info": {
   "codemirror_mode": {
    "name": "ipython",
    "version": 3
   },
   "file_extension": ".py",
   "mimetype": "text/x-python",
   "name": "python",
   "nbconvert_exporter": "python",
   "pygments_lexer": "ipython3",
   "version": "3.10.12"
  }
 },
 "nbformat": 4,
 "nbformat_minor": 5
}
