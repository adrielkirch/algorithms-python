{
 "cells": [
  {
   "cell_type": "markdown",
   "metadata": {},
   "source": [
    "## Quick Sort Algorithm\n",
    "\n",
    "Quick sort is an efficient, comparison-based sorting algorithm. It works by selecting a 'pivot' element from the array and partitioning the other elements into two sub-arrays, according to whether they are less than or greater than the pivot. The sub-arrays are then sorted recursively. This process is known as partitioning.\n",
    "\n",
    "### How Quick Sort Works\n",
    "\n",
    "    Initial Setup:\n",
    "        Choose a pivot element from the array.\n",
    "\n",
    "    Partitioning:\n",
    "        Rearrange the array elements such that all elements less than the pivot come before it, and all elements greater than the pivot come after it. This creates two sub-arrays.\n",
    "\n",
    "    Recursion:\n",
    "        Recursively apply the above steps to the sub-arrays.\n",
    "\n",
    "    Base Case:\n",
    "        The recursion ends when the sub-arrays have a length of zero or one.\n",
    "\n",
    "### Visualization\n",
    "\n",
    "![Alt text](https://res.cloudinary.com/practicaldev/image/fetch/s--meP18Mdl--/c_limit%2Cf_auto%2Cfl_progressive%2Cq_auto%2Cw_880/https://dev-to-uploads.s3.amazonaws.com/uploads/articles/r8xco3mmscn7dow2k5yp.png)\n",
    "\n",
    "### Time Complexity\n",
    "\n",
    "- **Best-case:** \\(O(n \\log n)\\)\n",
    "- **Average-case:** \\(O(n \\log n)\\)\n",
    "- **Worst-case:** \\(O(n^2)\\)\n",
    "\n",
    "Quick sort is highly efficient on average but can degrade to \\(O(n^2)\\) performance if the pivot selections are poor. Choosing a good pivot and using strategies like randomization or the median-of-three can help mitigate this."
   ]
  },
  {
   "cell_type": "code",
   "execution_count": 2,
   "metadata": {},
   "outputs": [
    {
     "name": "stdout",
     "output_type": "stream",
     "text": [
      "Sorted array: [7, 11, 12, 18, 22, 25, 34, 35, 42, 55, 64, 90]\n"
     ]
    }
   ],
   "source": [
    "## Tim Sort Implementation in Python\n",
    "\n",
    "MIN_RUN = 32\n",
    "\n",
    "def insertion_sort(arr, left, right):\n",
    "    for i in range(left + 1, right + 1):\n",
    "        key = arr[i]\n",
    "        j = i - 1\n",
    "        while j >= left and arr[j] > key:\n",
    "            arr[j + 1] = arr[j]\n",
    "            j -= 1\n",
    "        arr[j + 1] = key\n",
    "\n",
    "def merge(arr, start, mid, end):\n",
    "    len1, len2 = mid - start + 1, end - mid\n",
    "    left, right = [], []\n",
    "    for i in range(0, len1):\n",
    "        left.append(arr[start + i])\n",
    "    for i in range(0, len2):\n",
    "        right.append(arr[mid + 1 + i])\n",
    "    \n",
    "    i, j, k = 0, 0, start\n",
    "    while i < len1 and j < len2:\n",
    "        if left[i] <= right[j]:\n",
    "            arr[k] = left[i]\n",
    "            i += 1\n",
    "        else:\n",
    "            arr[k] = right[j]\n",
    "            j += 1\n",
    "        k += 1\n",
    "    \n",
    "    while i < len1:\n",
    "        arr[k] = left[i]\n",
    "        k += 1\n",
    "        i += 1\n",
    "\n",
    "    while j < len2:\n",
    "        arr[k] = right[j]\n",
    "        k += 1\n",
    "        j += 1\n",
    "\n",
    "def tim_sort(arr):\n",
    "    n = len(arr)\n",
    "    for i in range(0, n, MIN_RUN):\n",
    "        insertion_sort(arr, i, min((i + MIN_RUN - 1), (n - 1)))\n",
    "    \n",
    "    size = MIN_RUN\n",
    "    while size < n:\n",
    "        for start in range(0, n, size * 2):\n",
    "            mid = min((start + size - 1), (n - 1))\n",
    "            end = min((start + size * 2 - 1), (n - 1))\n",
    "            if mid < end:\n",
    "                merge(arr, start, mid, end)\n",
    "        size *= 2 \n",
    "    \n",
    "    return arr\n",
    "\n",
    "# Example usage:\n",
    "my_list = [64, 34, 25, 12, 22, 11, 90, 7, 35, 18, 42, 55]\n",
    "sorted_list = tim_sort(my_list)\n",
    "print(\"Sorted array:\", sorted_list)\n"
   ]
  },
  {
   "cell_type": "code",
   "execution_count": 1,
   "metadata": {},
   "outputs": [
    {
     "name": "stdout",
     "output_type": "stream",
     "text": [
      "Sorted array: [7, 11, 12, 18, 22, 25, 34, 35, 42, 55, 64, 90]\n"
     ]
    }
   ],
   "source": [
    "def partition(arr, low, high):\n",
    "    pivot = arr[high]\n",
    "    i = low - 1\n",
    "    \n",
    "    for j in range(low, high):\n",
    "        if arr[j] <= pivot:\n",
    "            i += 1\n",
    "            arr[i], arr[j] = arr[j], arr[i]\n",
    "    \n",
    "    arr[i + 1], arr[high] = arr[high], arr[i + 1]\n",
    "    return i + 1\n",
    "\n",
    "def quick_sort(arr, low, high):\n",
    "    if low < high:\n",
    "        pivot_index = partition(arr, low, high)\n",
    "        quick_sort(arr, low, pivot_index - 1)\n",
    "        quick_sort(arr, pivot_index + 1, high)\n",
    "    \n",
    "    return arr\n",
    "\n",
    "# Example usage:\n",
    "my_list = [64, 34, 25, 12, 22, 11, 90, 7, 35, 18, 42, 55]\n",
    "sorted_list = quick_sort(my_list, 0, len(my_list) - 1)\n",
    "print(\"Sorted array:\", sorted_list)\n"
   ]
  },
  {
   "cell_type": "code",
   "execution_count": 4,
   "metadata": {},
   "outputs": [
    {
     "name": "stdout",
     "output_type": "stream",
     "text": [
      "[1, 2, 5, 9]\n",
      "['apple', 'apple', 'banana', 'cherry']\n"
     ]
    }
   ],
   "source": [
    "#Python sorts in ascending order with Timsort.\n",
    "\n",
    "nums = [5, 2, 9, 1]\n",
    "nums.sort()  # modifies in place\n",
    "print(nums)  # [1, 2, 5, 9]\n",
    "\n",
    "words = [\"apple\", \"cherry\", \"apple\", \"banana\"]\n",
    "print(sorted(words))  # ['apple', 'apple', 'banana', 'cherry']"
   ]
  }
 ],
 "metadata": {
  "kernelspec": {
   "display_name": "Python 3",
   "language": "python",
   "name": "python3"
  },
  "language_info": {
   "codemirror_mode": {
    "name": "ipython",
    "version": 3
   },
   "file_extension": ".py",
   "mimetype": "text/x-python",
   "name": "python",
   "nbconvert_exporter": "python",
   "pygments_lexer": "ipython3",
   "version": "3.12.0"
  }
 },
 "nbformat": 4,
 "nbformat_minor": 2
}
