{
 "cells": [
  {
   "cell_type": "markdown",
   "metadata": {},
   "source": [
    "## Merge Sort Algorithm\n",
    "\n",
    "Merge sort is a classic, efficient, and stable sorting algorithm. It divides the input array into smaller subarrays, sorts each subarray recursively using merge sort, and then merges the sorted subarrays to produce the final sorted array.\n",
    "\n",
    "### How Merge Sort Works\n",
    "\n",
    "1. **Divide:**\n",
    "   - Divide the array into two halves.\n",
    "\n",
    "2. **Conquer:**\n",
    "   - Recursively sort each half using merge sort.\n",
    "\n",
    "3. **Combine:**\n",
    "   - Merge the two sorted halves into a single sorted array.\n",
    "\n",
    "### Visualization\n",
    "\n",
    "![Merge Sort Visualization](https://upload.wikimedia.org/wikipedia/commons/c/cc/Merge-sort-example-300px.gif)\n",
    "\n",
    "### Time Complexity\n",
    "\n",
    "- **Best-case:** \\(O(n \\log n)\\)\n",
    "- **Average-case:** \\(O(n \\log n)\\)\n",
    "- **Worst-case:** \\(O(n \\log n)\\)\n",
    "\n",
    "Merge sort consistently operates in \\(O(n \\log n)\\) time complexity regardless of the input distribution, making it suitable for large datasets.\n"
   ]
  },
  {
   "cell_type": "code",
   "execution_count": 1,
   "metadata": {},
   "outputs": [
    {
     "name": "stdout",
     "output_type": "stream",
     "text": [
      "Sorted array: [7, 11, 12, 18, 22, 25, 34, 35, 42, 55, 64, 90]\n"
     ]
    }
   ],
   "source": [
    "def merge_sort(arr):\n",
    "    \"\"\"\n",
    "    Sorts the array `arr` using merge sort.\n",
    "    \"\"\"\n",
    "    if len(arr) > 1:\n",
    "        mid = len(arr) // 2  # Finding the mid of the array\n",
    "        left_half = arr[:mid]  # Dividing the elements into 2 halves\n",
    "        right_half = arr[mid:]\n",
    "\n",
    "        merge_sort(left_half)  # Sorting the first half\n",
    "        merge_sort(right_half)  # Sorting the second half\n",
    "\n",
    "        i = j = k = 0\n",
    "\n",
    "        # Copy data to temporary arrays left_half[] and right_half[]\n",
    "        while i < len(left_half) and j < len(right_half):\n",
    "            if left_half[i] < right_half[j]:\n",
    "                arr[k] = left_half[i]\n",
    "                i += 1\n",
    "            else:\n",
    "                arr[k] = right_half[j]\n",
    "                j += 1\n",
    "            k += 1\n",
    "\n",
    "        # Checking if any element was left\n",
    "        while i < len(left_half):\n",
    "            arr[k] = left_half[i]\n",
    "            i += 1\n",
    "            k += 1\n",
    "\n",
    "        while j < len(right_half):\n",
    "            arr[k] = right_half[j]\n",
    "            j += 1\n",
    "            k += 1\n",
    "\n",
    "# Example usage:\n",
    "my_list = [64, 34, 25, 12, 22, 11, 90, 7, 35, 18, 42, 55]\n",
    "merge_sort(my_list)\n",
    "print(\"Sorted array:\", my_list)"
   ]
  }
 ],
 "metadata": {
  "kernelspec": {
   "display_name": "Python 3",
   "language": "python",
   "name": "python3"
  },
  "language_info": {
   "codemirror_mode": {
    "name": "ipython",
    "version": 3
   },
   "file_extension": ".py",
   "mimetype": "text/x-python",
   "name": "python",
   "nbconvert_exporter": "python",
   "pygments_lexer": "ipython3",
   "version": "3.10.12"
  }
 },
 "nbformat": 4,
 "nbformat_minor": 2
}
