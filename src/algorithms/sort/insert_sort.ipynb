{
 "cells": [
  {
   "cell_type": "markdown",
   "metadata": {},
   "source": [
    "## Insertion Sort Algorithm\n",
    "\n",
    "Insertion sort is a simple comparison-based sorting algorithm. \n",
    "It builds the final sorted list one element at a time. It is much less efficient on large lists than more advanced algorithms such as quicksort, heapsort, or merge sort. However, insertion sort provides several advantages, such as simplicity and efficiency for small datasets.\n",
    "\n",
    "### How Insertion Sort Works\n",
    "\n",
    "    Initial Setup:\n",
    "        Start with the first element as a sorted sublist and the rest as the unsorted sublist.\n",
    "\n",
    "    Inserting Elements:\n",
    "        Pick the next element from the unsorted sublist.\n",
    "\n",
    "    Shifting Elements:\n",
    "        Compare the picked element with the elements in the sorted sublist, and shift all larger elements one position to the right to make space.\n",
    "\n",
    "    Placing the Element:\n",
    "        Insert the picked element into the correct position within the sorted sublist.\n",
    "\n",
    "    Repeat:\n",
    "        Repeat steps 2-4 until the entire list is sorted.\n",
    "\n",
    "### Visualization\n",
    "\n",
    "![Alt text](https://upload.wikimedia.org/wikipedia/commons/4/42/Insertion_sort.gif)\n",
    "\n",
    "### Time Complexity\n",
    "\n",
    "**O(n^2)**\n",
    "\n",
    "Insertion sort is not suitable for large datasets due to its quadratic time complexity. However, it is efficient for small datasets and nearly sorted lists. It is stable, meaning that it preserves the relative order of equal elements, and it has a low overhead, making it useful for scenarios where overhead matters.\n"
   ]
  },
  {
   "cell_type": "code",
   "execution_count": 1,
   "metadata": {},
   "outputs": [
    {
     "name": "stdout",
     "output_type": "stream",
     "text": [
      "Sorted array: [7, 11, 12, 18, 22, 25, 35, 42, 55, 64]\n"
     ]
    }
   ],
   "source": [
    "## **Selection Sort Implementation in Python\n",
    "\n",
    "def selection_sort(arr):\n",
    "    n = len(arr)\n",
    "    \n",
    "    # Traverse through all elements of the array\n",
    "    for i in range(n):\n",
    "        # Find the minimum element in remaining unsorted array\n",
    "        min_idx = i\n",
    "        for j in range(i + 1, n):\n",
    "            if arr[j] < arr[min_idx]:\n",
    "                min_idx = j\n",
    "        \n",
    "        # Swap the found minimum element with the first element\n",
    "        arr[i], arr[min_idx] = arr[min_idx], arr[i]\n",
    "    \n",
    "    return arr\n",
    "\n",
    "# Example usage:\n",
    "my_list = [64, 25, 12, 22, 11, 7, 35, 18, 42, 55]\n",
    "sorted_list = selection_sort(my_list)\n",
    "print(\"Sorted array:\", sorted_list)"
   ]
  }
 ],
 "metadata": {
  "kernelspec": {
   "display_name": "Python 3",
   "language": "python",
   "name": "python3"
  },
  "language_info": {
   "codemirror_mode": {
    "name": "ipython",
    "version": 3
   },
   "file_extension": ".py",
   "mimetype": "text/x-python",
   "name": "python",
   "nbconvert_exporter": "python",
   "pygments_lexer": "ipython3",
   "version": "3.10.12"
  }
 },
 "nbformat": 4,
 "nbformat_minor": 2
}
