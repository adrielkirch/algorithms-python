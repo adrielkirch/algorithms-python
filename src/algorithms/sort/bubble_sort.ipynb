{
 "cells": [
  {
   "cell_type": "markdown",
   "metadata": {},
   "source": [
    "## Bubble Sort Algorithm\n",
    "\n",
    "Bubble sort is a simple comparison-based sorting algorithm. It works by repeatedly stepping through the list to be sorted, comparing each pair of adjacent items and swapping them if they are in the wrong order. The pass through the list is repeated until no swaps are needed, which indicates that the list is sorted.\n",
    "\n",
    "### How Bubble Sort Works\n",
    "\n",
    "    Initial Setup:\n",
    "        Start with the entire list considered as unsorted.\n",
    "\n",
    "    Comparing Adjacent Elements:\n",
    "        Compare each pair of adjacent elements from the beginning of the list to the end.\n",
    "\n",
    "    Swapping Elements:\n",
    "        If a pair of elements is in the wrong order, swap them.\n",
    "\n",
    "    Bubble Up the Largest Element:\n",
    "        After each complete pass through the list, the next largest element will have bubbled up to its correct position.\n",
    "\n",
    "    Repeat:\n",
    "        Repeat steps 2-4 until no swaps are needed in a pass.\n",
    "\n",
    "### Visualization\n",
    "\n",
    "![Alt text](https://upload.wikimedia.org/wikipedia/commons/c/c8/Bubble-sort-example-300px.gif)\n",
    "\n",
    "### Time Complexity\n",
    "\n",
    "**O(n^2)**\n",
    "\n",
    "Bubble sort is not suitable for large datasets due to its quadratic time complexity. However, it is easy to understand and implement, making it useful for educational purposes and for sorting small datasets where performance is not critical.\n"
   ]
  },
  {
   "cell_type": "code",
   "execution_count": 1,
   "metadata": {},
   "outputs": [
    {
     "name": "stdout",
     "output_type": "stream",
     "text": [
      "Sorted array: [11, 12, 22, 25, 34, 64, 90]\n"
     ]
    }
   ],
   "source": [
    "## **Bubble Sort Implementation in Python\n",
    "\n",
    "def bubble_sort(arr):\n",
    "    length = len(arr)\n",
    "    \n",
    "    # Traverse through all elements in the array\n",
    "    for i in range(length):\n",
    "        # Last i elements are already in place\n",
    "        for j in range(0, length-i-1):\n",
    "            # Traverse the array from 0 to n-i-1\n",
    "            # Swap if the element found is greater than the next element\n",
    "            if arr[j] > arr[j+1]:\n",
    "                arr[j], arr[j+1] = arr[j+1], arr[j]\n",
    "    \n",
    "    return arr\n",
    "\n",
    "# Example usage:\n",
    "my_list = [64, 34, 25, 12, 22, 11, 90]\n",
    "sorted_list = bubble_sort(my_list)\n",
    "print(\"Sorted array:\", sorted_list)"
   ]
  }
 ],
 "metadata": {
  "kernelspec": {
   "display_name": "Python 3",
   "language": "python",
   "name": "python3"
  },
  "language_info": {
   "codemirror_mode": {
    "name": "ipython",
    "version": 3
   },
   "file_extension": ".py",
   "mimetype": "text/x-python",
   "name": "python",
   "nbconvert_exporter": "python",
   "pygments_lexer": "ipython3",
   "version": "3.10.12"
  }
 },
 "nbformat": 4,
 "nbformat_minor": 2
}
