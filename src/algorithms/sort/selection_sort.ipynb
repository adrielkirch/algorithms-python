{
 "cells": [
  {
   "cell_type": "markdown",
   "metadata": {},
   "source": [
    "## Selection Sort Algorithm\n",
    "\n",
    "Selection sort is a simple comparison-based sorting algorithm. It works by dividing the input list into two parts: the sorted part at the left end and the unsorted part at the right end. Initially, the sorted part is empty, and the unsorted part contains the entire list. The algorithm repeatedly selects the smallest (or largest, depending on the order) element from the unsorted part and swaps it with the leftmost unsorted element. This process continues until the entire list is sorted.\n",
    "\n",
    "### How Selection Sort Works\n",
    "\n",
    "    Initial Setup:\n",
    "        Start with the entire list considered as unsorted.\n",
    "\n",
    "    Finding the Minimum Element:\n",
    "        Iterate through the unsorted part of the list to find the smallest element.\n",
    "\n",
    "    Swapping Elements:\n",
    "        Swap the smallest element found with the leftmost unsorted element.\n",
    "\n",
    "    Shifting Boundaries:\n",
    "        Expand the boundary of the sorted part by moving it one element to the right.\n",
    "\n",
    "    Repeat:\n",
    "        Repeat steps 2-4 until the entire list is sorted.\n",
    "\n",
    "### Visualization\n",
    "\n",
    "![Alt text](https://upload.wikimedia.org/wikipedia/commons/9/94/Selection-Sort-Animation.gif)\n",
    "\n",
    "### Time Complexity\n",
    "\n",
    "**O(n^2)**\n",
    "\n",
    "\n",
    "Selection sort is not suitable for large datasets due to its quadratic time complexity. However, it is easy to understand and implement, making it useful for educational purposes and for sorting small datasets where performance is not critical."
   ]
  },
  {
   "cell_type": "code",
   "execution_count": 2,
   "metadata": {},
   "outputs": [
    {
     "name": "stdout",
     "output_type": "stream",
     "text": [
      "Sorted array: [7, 11, 12, 18, 22, 25, 35, 42, 55, 64]\n"
     ]
    }
   ],
   "source": [
    "## **Selection Sort Implementation in Python\n",
    "\n",
    "def selection_sort(arr):\n",
    "    n = len(arr)\n",
    "    \n",
    "    # Traverse through all elements of the array\n",
    "    for i in range(n):\n",
    "        # Find the minimum element in remaining unsorted array\n",
    "        min_idx = i\n",
    "        for j in range(i + 1, n):\n",
    "            if arr[j] < arr[min_idx]:\n",
    "                min_idx = j\n",
    "        \n",
    "        # Swap the found minimum element with the first element\n",
    "        arr[i], arr[min_idx] = arr[min_idx], arr[i]\n",
    "    \n",
    "    return arr\n",
    "\n",
    "# Example usage:\n",
    "my_list = [64, 25, 12, 22, 11, 7, 35, 18, 42, 55]\n",
    "sorted_list = selection_sort(my_list)\n",
    "print(\"Sorted array:\", sorted_list)"
   ]
  }
 ],
 "metadata": {
  "kernelspec": {
   "display_name": "Python 3",
   "language": "python",
   "name": "python3"
  },
  "language_info": {
   "codemirror_mode": {
    "name": "ipython",
    "version": 3
   },
   "file_extension": ".py",
   "mimetype": "text/x-python",
   "name": "python",
   "nbconvert_exporter": "python",
   "pygments_lexer": "ipython3",
   "version": "3.10.12"
  }
 },
 "nbformat": 4,
 "nbformat_minor": 2
}
