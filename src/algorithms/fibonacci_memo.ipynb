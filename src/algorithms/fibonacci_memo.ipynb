{
 "cells": [
  {
   "cell_type": "markdown",
   "id": "58607aa0",
   "metadata": {},
   "source": [
    "# Fibonacci Memoization - Better Implementation\n",
    "\n",
    "The dictionary as a default parameter isn't the best practice as it's created only once when the function is defined. Let's create a better version:"
   ]
  },
  {
   "cell_type": "code",
   "execution_count": null,
   "id": "d12e36cb",
   "metadata": {},
   "outputs": [],
   "source": [
    "# Better implementation of memoization for Fibonacci\n",
    "def fibonaci_better_memo(n):\n",
    "    # Initialize memo dictionary inside the function\n",
    "    memo = {}\n",
    "    \n",
    "    # Inner recursive function with memo\n",
    "    def fib_memo(k):\n",
    "        # Check if we've already calculated this value\n",
    "        if k in memo:\n",
    "            return memo[k]\n",
    "        \n",
    "        # Base cases\n",
    "        if k == 0:\n",
    "            return 0\n",
    "        if k == 1:\n",
    "            return 1\n",
    "        \n",
    "        # Calculate and store the result\n",
    "        memo[k] = fib_memo(k-1) + fib_memo(k-2)\n",
    "        return memo[k]\n",
    "    \n",
    "    # Call the inner function\n",
    "    return fib_memo(n)\n",
    "\n",
    "# Compare with previous implementations\n",
    "print(\"Better memoization for n=30:\", fibonaci_better_memo(30))\n",
    "\n",
    "# Performance test for larger numbers\n",
    "import time\n",
    "\n",
    "def time_function(func, n):\n",
    "    start = time.time()\n",
    "    result = func(n)\n",
    "    end = time.time()\n",
    "    return result, end - start\n",
    "\n",
    "# Testing with n=35\n",
    "n_test = 35\n",
    "result_memo, time_memo = time_function(fibonaci_better_memo, n_test)\n",
    "print(f\"Fibonacci({n_test}) with better memoization = {result_memo}\")\n",
    "print(f\"Time taken: {time_memo:.6f} seconds\")\n",
    "\n",
    "# Try even larger numbers\n",
    "large_n = 100\n",
    "result_large, time_large = time_function(fibonaci_better_memo, large_n)\n",
    "print(f\"Fibonacci({large_n}) = {result_large}\")\n",
    "print(f\"Time taken for n={large_n}: {time_large:.6f} seconds\")"
   ]
  },
  {
   "cell_type": "markdown",
   "id": "d572c93b",
   "metadata": {},
   "source": [
    "## Understanding Memoization in Fibonacci\n",
    "\n",
    "Without memoization, the Fibonacci function has an exponential time complexity O(2^n) because:\n",
    "- For calculating F(n), we need F(n-1) and F(n-2)\n",
    "- For F(n-1), we need F(n-2) and F(n-3)\n",
    "- For F(n-2), we need F(n-3) and F(n-4)\n",
    "\n",
    "This leads to many duplicate calculations. For example, F(n-2) is calculated both when calculating F(n) and F(n-1).\n",
    "\n",
    "With memoization:\n",
    "1. We store each calculated Fibonacci value in a dictionary\n",
    "2. Before calculating any value, we check if it's already in our dictionary\n",
    "3. This reduces the time complexity to O(n) since we calculate each Fibonacci number exactly once\n",
    "\n",
    "The difference becomes dramatic as n increases. Without memoization, calculating F(50) would take billions of operations, but with memoization, it requires just 50 unique calculations."
   ]
  }
 ],
 "metadata": {
  "language_info": {
   "name": "python"
  }
 },
 "nbformat": 4,
 "nbformat_minor": 5
}
