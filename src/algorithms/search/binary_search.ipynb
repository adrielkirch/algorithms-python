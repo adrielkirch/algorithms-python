{
 "cells": [
  {
   "cell_type": "markdown",
   "metadata": {},
   "source": [
    "# Binary Search Algorithm in Python\n",
    "\n",
    "**Binary search** is an efficient algorithm for finding an item from a sorted list of items. It works by repeatedly dividing in half the portion of the list that could contain the item until you've narrowed down the possible locations to just one.\n",
    "\n",
    "## How Binary Search Works\n",
    "\n",
    "1. **Initial Setup**:\n",
    "    - Start with two pointers: `low` at the beginning of the list and `high` at the end of the list.\n",
    "\n",
    "2. **Find the Middle**:\n",
    "    - Calculate the middle index of the current range:\n",
    "      ```python\n",
    "      mid = (low + high) // 2\n",
    "      ```\n",
    "\n",
    "3. **Compare Middle Value**:\n",
    "    - Compare the target value with the value at the middle index:\n",
    "        - If the target value is equal to the middle value, you have found the item and can return the index.\n",
    "        - If the target value is less than the middle value, move the `high` pointer to `mid - 1` (because the target must be in the lower half of the current range).\n",
    "        - If the target value is greater than the middle value, move the `low` pointer to `mid + 1` (because the target must be in the upper half of the current range).\n",
    "\n",
    "4. **Repeat**:\n",
    "    - Repeat steps 2 and 3 until `low` is greater than `high`. If `low` exceeds `high`, the target is not in the list, and you can return a special value (like `-1`) to indicate the item was not found.\n",
    "  \n",
    "\n",
    "## Visualization\n",
    "\n",
    "   ![Alt text](https://upload.wikimedia.org/wikipedia/commons/9/9b/Binary_search_tree_example.gif)\n",
    "\n",
    "## Example\n",
    "\n",
    "Suppose you have a sorted list of numbers: `[1, 2, 3, 4, ..., 100]`, and you want to find the number `42`.\n",
    "\n",
    "1. **Initial range**: `low = 0`, `high = 99`.\n",
    "2. **First iteration**:\n",
    "    - Calculate `mid = (0 + 99) // 2 = 49`.\n",
    "    - Compare `42` with `list[49]` (which is `50`).\n",
    "    - Since `42` is less than `50`, move `high` to `49 - 1 = 48`\n",
    "3. **Second iteration**:\n",
    "    - Calculate `mid = (0 + 48) // 2 = 24`.\n",
    "    - Compare `42` with `list[24]` (which is `25`).\n",
    "    - Since `42` is greater than `25`, move `low` to `24 + 1 = 25`.\n",
    "4. **Third iteration**:\n",
    "    - Calculate `mid = (25 + 48) // 2 = 36`.\n",
    "    - Compare `42` with `list[36]` (which is `37`).\n",
    "    - Since `42` is greater than `37`, move `low` to `36 + 1 = 37`.\n",
    "5. **Fourth iteration**:\n",
    "    - Calculate `mid = (37 + 48) // 2 = 42`.\n",
    "    - Compare `42` with `list[42]` (which is `42`).\n",
    "    - Target found at index `42` which in list case is equal to `list[42] == 43`.\n",
    "\n",
    "## Algorith complexity: \n",
    "\n",
    "The complexity of the binary search algorithm is **O(log⁡n)**, where nn is the number of elements in the sorted list\n",
    "\n",
    "• Binary search is a lot faster than simple search.\n",
    "• O(log n) is faster than O(n), but it gets a lot faster once the list of\n",
    "items you’re searching through grows.\n",
    "• Algorithm speed isn’t measured in seconds.\n",
    "• Algorithm times are measured in terms of growth of an algorithm.\n",
    "• Algorithm times are written in Big O notation.\n",
    "\n",
    "![Alt text](https://media.geeksforgeeks.org/wp-content/cdn-uploads/20220812122843/Logarithmic-time-complexity-blog-1.jpg)\n",
    "\n"
   ]
  },
  {
   "cell_type": "code",
   "execution_count": 10,
   "metadata": {},
   "outputs": [],
   "source": [
    "def binary_search(list, item):\n",
    "    \"\"\"\n",
    "    Perform binary search on a sorted list to find the target value.\n",
    "\n",
    "    Parameters:\n",
    "    - list: A sorted list of numbers.\n",
    "    - item: The value to search for in the list.\n",
    "\n",
    "    Returns:\n",
    "    - Index of the target value if found, else -1.\n",
    "    \"\"\"\n",
    "    low = 0\n",
    "    high = len(list) - 1\n",
    "    while low <= high:\n",
    "        mid = (low + high) // 2  # Calculate the middle index.\n",
    "        target = list[mid]  # Get the value at the middle index.\n",
    "        if target == item:\n",
    "            return mid  # Found the target, return its index.\n",
    "        elif target > item:\n",
    "            high = mid - 1  # Target is in the lower half of the current range.\n",
    "        else:\n",
    "            low = mid + 1  # Target is in the upper half of the current range.\n",
    "    return -1  # Target not found in the list."
   ]
  },
  {
   "cell_type": "markdown",
   "metadata": {},
   "source": [
    "**Implementation of binary_search function in python**"
   ]
  },
  {
   "cell_type": "code",
   "execution_count": 16,
   "metadata": {},
   "outputs": [
    {
     "name": "stdout",
     "output_type": "stream",
     "text": [
      "Target 11 found at index 5.\n"
     ]
    }
   ],
   "source": [
    "def binary_search(list, item):\n",
    "    \"\"\"\n",
    "    Perform binary search on a sorted list to find the target value.\n",
    "\n",
    "    Parameters:\n",
    "    - list: A sorted list of numbers.\n",
    "    - item: The value to search for in the list.\n",
    "\n",
    "    Returns:\n",
    "    - Index of the target value if found, else -1.\n",
    "    \"\"\"\n",
    "    low = 0\n",
    "    high = len(list) - 1\n",
    "    while low <= high:\n",
    "        mid = (low + high) // 2  # Calculate the middle index.\n",
    "        target = list[mid]  # Get the value at the middle index.\n",
    "        if target == item:\n",
    "            return mid  # Found the target, return its index.\n",
    "        elif target > item:\n",
    "            high = mid - 1  # Target is in the lower half of the current range.\n",
    "        else:\n",
    "            low = mid + 1  # Target is in the upper half of the current range.\n",
    "    return -1  # Target not found in the list.\n",
    "\n"
   ]
  },
  {
   "cell_type": "code",
   "execution_count": 24,
   "metadata": {},
   "outputs": [
    {
     "name": "stdout",
     "output_type": "stream",
     "text": [
      "Target 59 found at index 30.\n",
      "Execution time: 0.0277 milliseconds\n"
     ]
    }
   ],
   "source": [
    "import time\n",
    "\n",
    "sorted_list = [1, 3, 5, 7, 9, 11, 13, 15, 17, 19, 22, 25, 28, 29, 30, 32, 34, 35, 36, 38, 39,\n",
    "               41, 43, 45, 47, 49, 51, 53, 55, 57, 59, 61, 63, 65, 67, 69, 71, 73, 75, 77, 79,\n",
    "               82, 85, 88, 89, 91, 93, 95, 97, 99, 100, 101, 102, 103, 104, 105, 106, 107, 109, 111, 113, 115]\n",
    "\n",
    "# Example usage:\n",
    "target_value = 59\n",
    "\n",
    "start_time = time.time() # Start time\n",
    "result_index = binary_search(sorted_list, target_value) # Perform the search\n",
    "end_time = time.time()  # End time\n",
    "\n",
    "# Output the result\n",
    "if result_index != -1:\n",
    "    print(f\"Target {target_value} found at index {result_index}.\")\n",
    "else:\n",
    "    print(f\"Target {target_value} not found in the list.\")\n",
    "\n",
    "# Calculate and print the execution time in milliseconds\n",
    "execution_time_ms = (end_time - start_time) * 1000\n",
    "print(f\"Execution time: {execution_time_ms:.4f} milliseconds\")"
   ]
  },
  {
   "cell_type": "markdown",
   "metadata": {},
   "source": [
    "### High level binary search using bisect\n",
    "\n",
    "**Binary search** is an efficient algorithm for finding an item from a sorted list of items. It works by repeatedly dividing in half the portion of the list that could contain the item until you've narrowed down the possible locations to just one.\n"
   ]
  },
  {
   "cell_type": "code",
   "execution_count": 33,
   "metadata": {},
   "outputs": [
    {
     "name": "stdout",
     "output_type": "stream",
     "text": [
      "The index of 59 in the sorted list is: 30\n",
      "Execution time: 0.0432 milliseconds\n"
     ]
    }
   ],
   "source": [
    "import bisect\n",
    "\n",
    "# Example sorted list\n",
    "sorted_list = [1, 3, 5, 7, 9, 11, 13, 15, 17, 19, 22, 25, 28, 29, 30, 32, 34, 35, 36, 38, 39,\n",
    "               41, 43, 45, 47, 49, 51, 53, 55, 57, 59, 61, 63, 65, 67, 69, 71, 73, 75, 77, 79,\n",
    "               82, 85, 88, 89, 91, 93, 95, 97, 99, 100, 101, 102, 103, 104, 105, 106, 107, 109, 111, 113, 115]\n",
    "\n",
    "# Element to find\n",
    "target_value = 59\n",
    "\n",
    "# Perform binary search\n",
    "start_time = time.time() # Start time\n",
    "index = bisect.bisect_left(sorted_list, target_value)\n",
    "end_time = time.time()  # End time\n",
    "\n",
    "\n",
    "# Check if element is found\n",
    "if index < len(sorted_list) and sorted_list[index] == target_value:\n",
    "    print(f\"The index of {target_value} in the sorted list is: {index}\")\n",
    "else:\n",
    "    print(f\"{target_value} is not present in the sorted list.\")\n",
    "\n",
    "# Calculate and print the execution time in milliseconds\n",
    "execution_time_ms = (end_time - start_time) * 1000\n",
    "print(f\"Execution time: {execution_time_ms:.4f} milliseconds\")\n"
   ]
  }
 ],
 "metadata": {
  "kernelspec": {
   "display_name": "Python 3",
   "language": "python",
   "name": "python3"
  },
  "language_info": {
   "codemirror_mode": {
    "name": "ipython",
    "version": 3
   },
   "file_extension": ".py",
   "mimetype": "text/x-python",
   "name": "python",
   "nbconvert_exporter": "python",
   "pygments_lexer": "ipython3",
   "version": "3.10.12"
  }
 },
 "nbformat": 4,
 "nbformat_minor": 2
}
