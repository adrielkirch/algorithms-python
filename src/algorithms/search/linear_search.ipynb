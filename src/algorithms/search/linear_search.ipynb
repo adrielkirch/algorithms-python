{
 "cells": [
  {
   "cell_type": "markdown",
   "metadata": {},
   "source": [
    "# Linear Search and Time Complexity\n",
    "\n",
    "## Introduction\n",
    "\n",
    "Linear search is a simple searching algorithm that sequentially checks each element in a list or array until the target element is found or the end of the list is reached.\n",
    "Algorithm\n",
    "\n",
    "## Visualization: \n",
    "\n",
    "![Alt text](https://sushrutkuchik.wordpress.com/wp-content/uploads/2020/05/linear_search.gif?w=438)\n",
    "\n",
    "## Time complexity: \n",
    "\n",
    "The complexity of the linear search algorithm is **O(n)**, where nn is the number of elements in the sorted list"
   ]
  },
  {
   "cell_type": "code",
   "execution_count": 2,
   "metadata": {},
   "outputs": [
    {
     "name": "stdout",
     "output_type": "stream",
     "text": [
      "7\n"
     ]
    }
   ],
   "source": [
    "def linear_search(list, value):\n",
    "    for i in range(0, len(list)):\n",
    "        if list[i] == value:\n",
    "            return i\n",
    "    return -1\n",
    "\n",
    "\n",
    "arr = [10, 2, 5, 1, 8, 20, 11, 81, 23]\n",
    "print(linear_search(arr, 81))"
   ]
  },
  {
   "cell_type": "code",
   "execution_count": 3,
   "metadata": {},
   "outputs": [
    {
     "name": "stdout",
     "output_type": "stream",
     "text": [
      "7\n"
     ]
    }
   ],
   "source": [
    "#Simpler, high level away\n",
    "\n",
    "arr = [10, 2, 5, 1, 8, 20, 11, 81, 23]\n",
    "index = arr.index(81)\n",
    "print(index)"
   ]
  }
 ],
 "metadata": {
  "kernelspec": {
   "display_name": "Python 3",
   "language": "python",
   "name": "python3"
  },
  "language_info": {
   "codemirror_mode": {
    "name": "ipython",
    "version": 3
   },
   "file_extension": ".py",
   "mimetype": "text/x-python",
   "name": "python",
   "nbconvert_exporter": "python",
   "pygments_lexer": "ipython3",
   "version": "3.12.0"
  }
 },
 "nbformat": 4,
 "nbformat_minor": 2
}
