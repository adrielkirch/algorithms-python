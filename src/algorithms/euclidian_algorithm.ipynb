{
 "cells": [
  {
   "cell_type": "markdown",
   "metadata": {},
   "source": [
    "# Euclidean Algorithm and Its Applications\n",
    "\n",
    "The Euclidean algorithm is a classical method used to compute the greatest common divisor (GCD) of two non-negative integers. \n",
    "It has several important applications in various fields, including mathematics, computer science, and cryptography.\n",
    "\n",
    "## Introduction to the Euclidean Algorithm\n",
    "\n",
    "The Euclidean algorithm is based on the principle that the GCD of two numbers also divides their difference. \n",
    "\n",
    "### Example\n",
    "''\n",
    "Let's find the GCD of 48 and 18:\n",
    "\n",
    "1. `a = 48`, `b = 18`\n",
    "2. `48 % 18 = 12` (new `a = 18`, new `b = 12`)\n",
    "3. `18 % 12 = 6` (new `a = 12`, new `b = 6`)\n",
    "4. `12 % 6 = 0` (new `a = 6`, new `b = 0`)\n",
    "\n",
    "So, the GCD of 48 and 18 is 6.\n",
    "\n",
    "## Applications of the Euclidean Algorithm\n",
    "\n",
    "### 1. Simplifying Fractions\n",
    "\n",
    "The Euclidean algorithm is used to simplify fractions. By finding the GCD of the numerator and the denominator, you can divide both by their GCD to get the simplest form of the fraction.\n",
    "\n",
    "### 2. Cryptography\n",
    "\n",
    "In cryptography, especially in RSA encryption, the Euclidean algorithm is used to compute the multiplicative inverse of a number modulo another number. This is essential for generating keys in RSA.\n",
    "\n",
    "### 3. Diophantine Equations\n",
    "\n",
    "The Euclidean algorithm can be used to solve Diophantine equations of the form `ax + by = c`, where `a`, `b`, and `c` are integers. If `d` is the GCD of `a` and `b`, then the equation has integer solutions if and only if `d` divides `c`.\n",
    "\n",
    "### 4. Computer Science\n",
    "\n",
    "In computer science, the Euclidean algorithm is used in various algorithms and data structures, such as for reducing fractions in computational geometry and for computing hash functions.\n"
   ]
  },
  {
   "cell_type": "code",
   "execution_count": 3,
   "metadata": {},
   "outputs": [
    {
     "name": "stdout",
     "output_type": "stream",
     "text": [
      "6\n"
     ]
    }
   ],
   "source": [
    "#Implementation of gcd with a while loop\n",
    "\n",
    "def gcd(a, b):\n",
    "    while b:\n",
    "        a, b = b, a % b\n",
    "    return a\n",
    "\n",
    "# Example usage\n",
    "print(gcd(48, 18))  # Output: 6"
   ]
  },
  {
   "cell_type": "code",
   "execution_count": 5,
   "metadata": {},
   "outputs": [
    {
     "name": "stdout",
     "output_type": "stream",
     "text": [
      "6\n"
     ]
    }
   ],
   "source": [
    "#Implementation of gcd with a recursion\n",
    "\n",
    "def gcd(a, b):\n",
    "    if b == 0:\n",
    "        return a\n",
    "    else:\n",
    "        return gcd(b, a % b)\n",
    "\n",
    "# Example usage\n",
    "print(gcd(48, 18))  # Output: 6"
   ]
  },
  {
   "cell_type": "code",
   "execution_count": null,
   "metadata": {},
   "outputs": [],
   "source": []
  }
 ],
 "metadata": {
  "kernelspec": {
   "display_name": "Python 3",
   "language": "python",
   "name": "python3"
  },
  "language_info": {
   "codemirror_mode": {
    "name": "ipython",
    "version": 3
   },
   "file_extension": ".py",
   "mimetype": "text/x-python",
   "name": "python",
   "nbconvert_exporter": "python",
   "pygments_lexer": "ipython3",
   "version": "3.10.12"
  }
 },
 "nbformat": 4,
 "nbformat_minor": 2
}
